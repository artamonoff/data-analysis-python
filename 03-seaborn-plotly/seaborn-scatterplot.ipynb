{
 "cells": [
  {
   "cell_type": "markdown",
   "id": "d8fab076-03a6-4082-867b-533a37c91783",
   "metadata": {},
   "source": [
    "# Визуализация с Seaborn. Диаграмма рассеяния"
   ]
  },
  {
   "cell_type": "code",
   "execution_count": null,
   "id": "f34316e8-7740-4e18-8841-e22019b10cb4",
   "metadata": {},
   "outputs": [],
   "source": [
    "import numpy as np\n",
    "import pandas as pd\n",
    "import seaborn as sns\n",
    "\n",
    "import matplotlib.pyplot as plt # для настройки параметров в некоторых случаях\n",
    "\n",
    "# Не показывать FutureWarnings\n",
    "import warnings\n",
    "warnings.simplefilter(action='ignore', category=FutureWarning)"
   ]
  },
  {
   "cell_type": "code",
   "execution_count": null,
   "id": "119fab16-cf83-4645-b96f-b845133bc94b",
   "metadata": {},
   "outputs": [],
   "source": [
    "# Загрузка данных\n",
    "df = pd.read_csv('Diamond.csv')\n",
    "df.head()"
   ]
  },
  {
   "cell_type": "markdown",
   "id": "f8c61f2c-1cd5-4622-8896-8c4bf794281a",
   "metadata": {},
   "source": [
    "## Базовая диаграмма рассеяния\n",
    "\n",
    "Визуализируем парные наблюдения `carat vs price`"
   ]
  },
  {
   "cell_type": "code",
   "execution_count": null,
   "id": "70f23156-aa19-40eb-8456-1e39ca01ce70",
   "metadata": {},
   "outputs": [],
   "source": [
    "sns.scatterplot(data=df, x='carat', y='price')"
   ]
  },
  {
   "cell_type": "markdown",
   "id": "95bd4339-e19b-4357-bf47-8c161fba1e1e",
   "metadata": {},
   "source": [
    "Сделаем чтобы цвет зависел от `colour`, а форма точки от `certification`"
   ]
  },
  {
   "cell_type": "code",
   "execution_count": null,
   "id": "19c9938e-daf8-4f33-b539-99e0ea943ac6",
   "metadata": {},
   "outputs": [],
   "source": [
    "sns.scatterplot(data=df, x='carat', y='price', hue='colour', style='certification')"
   ]
  },
  {
   "cell_type": "markdown",
   "id": "f680c0c3-78c7-4757-a202-be29fbe1d145",
   "metadata": {},
   "source": [
    "Виузализируем первые 50 наблюдений, размер зависит от переменной `colour`"
   ]
  },
  {
   "cell_type": "code",
   "execution_count": null,
   "id": "d2a4b033-5d2a-416f-8a7f-2714580040dd",
   "metadata": {},
   "outputs": [],
   "source": [
    "sns.scatterplot(data=df.iloc[:50], x='carat', y='price', hue='clarity', size='colour')"
   ]
  },
  {
   "cell_type": "markdown",
   "id": "c390c9e7-1cb8-4bd0-8789-32dd3ff91b5f",
   "metadata": {},
   "source": [
    "Вместо столбцов из датафрейма можно явно указать массивы наблюдений.\n",
    "\n",
    "Нарисуем график `log(carat) vs log(price)`"
   ]
  },
  {
   "cell_type": "code",
   "execution_count": null,
   "id": "25f5abf6-a40c-4953-bd20-933a82794715",
   "metadata": {},
   "outputs": [],
   "source": [
    "sns.scatterplot(x= np.log(df['carat']), y=np.log(df['price']), hue=df['certification'])\n",
    "\n",
    "plt.xlabel('log(carat)')\n",
    "plt.ylabel('log(price)')\n",
    "plt.title('log(carat) vs log(price)')\n",
    "plt.show()"
   ]
  },
  {
   "cell_type": "markdown",
   "id": "a335d941-6fc8-4ecf-8070-3bdd34486244",
   "metadata": {},
   "source": [
    "## Диаграмма рассеяния с подогнанным многочленом\n",
    "\n",
    "Визуализируем парные наблюдения `carat vs price` с подогнанной прямой (обратим внимание на доверительную область для прямой)"
   ]
  },
  {
   "cell_type": "code",
   "execution_count": null,
   "id": "b4ee1247-04ad-4faa-841b-c3d7e0f52845",
   "metadata": {},
   "outputs": [],
   "source": [
    "sns.regplot(data=df, x='carat', y='price')"
   ]
  },
  {
   "cell_type": "markdown",
   "id": "f6dcf26c-0ff3-4aef-9c24-9ca83cdba2fb",
   "metadata": {},
   "source": [
    "Подгоним параболу, уберём доверительную область, изменим цвет и стиль параболы, размер точек"
   ]
  },
  {
   "cell_type": "code",
   "execution_count": null,
   "id": "6c1138d9-6c57-45a5-9c93-34f895c78348",
   "metadata": {},
   "outputs": [],
   "source": [
    "sns.regplot(data=df, x='carat', y='price', ci=None, order=2, scatter_kws={'s':5},\n",
    "           line_kws={'linestyle':'dotted', 'color':'r'})"
   ]
  },
  {
   "cell_type": "markdown",
   "id": "8c650fac-c7ea-4973-b276-1a1f5a306d42",
   "metadata": {},
   "source": [
    "Отобразим несколько регрессий, подогнанных на разных подвыборках\n",
    "\n",
    "Для этого используем метод `lmplot`"
   ]
  },
  {
   "cell_type": "code",
   "execution_count": null,
   "id": "bb409843-6cc6-4961-9690-5a843e88cd6d",
   "metadata": {},
   "outputs": [],
   "source": [
    "sns.lmplot(data=df, x='carat', y='price', hue='certification', ci=None)"
   ]
  },
  {
   "cell_type": "markdown",
   "id": "55c304f8-1d35-4adc-9d9c-465e0ead5f8c",
   "metadata": {},
   "source": [
    "Разобьём на подграфики по столбцам по переменной `certification`"
   ]
  },
  {
   "cell_type": "code",
   "execution_count": null,
   "id": "5beb2415-e9f3-42b6-a214-dfee80906670",
   "metadata": {},
   "outputs": [],
   "source": [
    "sns.lmplot(data=df, x='carat', y='price', col='certification', ci=None)"
   ]
  },
  {
   "cell_type": "markdown",
   "id": "d3a98b9d-c896-49c4-9a34-f18a42ad9961",
   "metadata": {},
   "source": [
    "Разобьём на подграфики по столбцам по переменной `certification` и строками по переменной `colour`"
   ]
  },
  {
   "cell_type": "code",
   "execution_count": null,
   "id": "2bc8d2b6-6356-4641-ad0a-dad1b19fa9a2",
   "metadata": {},
   "outputs": [],
   "source": [
    "sns.lmplot(data=df, x='carat', y='price', col='certification', row='colour')"
   ]
  }
 ],
 "metadata": {
  "kernelspec": {
   "display_name": "Python 3 (ipykernel)",
   "language": "python",
   "name": "python3"
  },
  "language_info": {
   "codemirror_mode": {
    "name": "ipython",
    "version": 3
   },
   "file_extension": ".py",
   "mimetype": "text/x-python",
   "name": "python",
   "nbconvert_exporter": "python",
   "pygments_lexer": "ipython3",
   "version": "3.11.6"
  }
 },
 "nbformat": 4,
 "nbformat_minor": 5
}
