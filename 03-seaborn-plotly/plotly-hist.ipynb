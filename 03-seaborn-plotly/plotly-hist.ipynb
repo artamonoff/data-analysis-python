{
 "cells": [
  {
   "cell_type": "markdown",
   "id": "0c1d9298-680c-42fa-bf4a-6a10637caa02",
   "metadata": {},
   "source": [
    "# Визуализация с Plotly. Гистограмма"
   ]
  },
  {
   "cell_type": "code",
   "execution_count": null,
   "id": "73696c0e-a40b-405d-bed4-3451f472b9c6",
   "metadata": {},
   "outputs": [],
   "source": [
    "import numpy as np\n",
    "import pandas as pd\n",
    "\n",
    "import plotly.express as px\n",
    "\n",
    "# Не показывать FutureWarnings\n",
    "import warnings\n",
    "warnings.simplefilter(action='ignore', category=FutureWarning)"
   ]
  },
  {
   "cell_type": "code",
   "execution_count": null,
   "id": "68fb23c2-7c17-41b4-b354-e87a316b702c",
   "metadata": {},
   "outputs": [],
   "source": [
    "df = pd.read_csv('Diamond.csv')\n",
    "df.head()"
   ]
  },
  {
   "cell_type": "markdown",
   "id": "eee50863-0880-4f65-b790-60c426d3bd6e",
   "metadata": {},
   "source": [
    "## Базовая гистограмма"
   ]
  },
  {
   "cell_type": "code",
   "execution_count": null,
   "id": "8501413c-854a-4930-993f-af2df10362af",
   "metadata": {},
   "outputs": [],
   "source": [
    "fig = px.histogram(data_frame=df, x='price')\n",
    "fig.show()"
   ]
  },
  {
   "cell_type": "code",
   "execution_count": null,
   "id": "18af6e5e-1718-4ae3-88d6-6064bbb520cf",
   "metadata": {},
   "outputs": [],
   "source": [
    "fig = px.histogram(data_frame=df, x='price', color='certification')\n",
    "fig.show()"
   ]
  }
 ],
 "metadata": {
  "kernelspec": {
   "display_name": "Python 3 (ipykernel)",
   "language": "python",
   "name": "python3"
  },
  "language_info": {
   "codemirror_mode": {
    "name": "ipython",
    "version": 3
   },
   "file_extension": ".py",
   "mimetype": "text/x-python",
   "name": "python",
   "nbconvert_exporter": "python",
   "pygments_lexer": "ipython3",
   "version": "3.11.6"
  }
 },
 "nbformat": 4,
 "nbformat_minor": 5
}
