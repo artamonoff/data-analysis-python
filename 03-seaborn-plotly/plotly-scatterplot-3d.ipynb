{
 "cells": [
  {
   "cell_type": "markdown",
   "id": "dab55728-57ff-4a52-9095-5a2810954e4e",
   "metadata": {},
   "source": [
    "# Визуализация с Plotly. 3D Диаграмма рассеяния"
   ]
  },
  {
   "cell_type": "code",
   "execution_count": null,
   "id": "3da14704-3666-4e15-8208-f18012732860",
   "metadata": {},
   "outputs": [],
   "source": [
    "import numpy as np\n",
    "import pandas as pd\n",
    "\n",
    "import plotly.express as px\n",
    "\n",
    "# Не показывать FutureWarnings\n",
    "import warnings\n",
    "warnings.simplefilter(action='ignore', category=FutureWarning)"
   ]
  },
  {
   "cell_type": "code",
   "execution_count": null,
   "id": "70bd90f8-d05d-4e8a-898b-10abdd609967",
   "metadata": {},
   "outputs": [],
   "source": [
    "df = pd.read_csv('Labour.csv')\n",
    "df.head()"
   ]
  },
  {
   "cell_type": "markdown",
   "id": "30155af2-3946-4ffb-9f2d-e8374833e5b1",
   "metadata": {},
   "source": [
    "## Базовая 3D диаграмма рассеяния\n",
    "\n",
    "Визуализируем тройки наблюдений `capital vs labour vs output`"
   ]
  },
  {
   "cell_type": "code",
   "execution_count": null,
   "id": "8564f380-f6d6-4df8-b771-7657b08d98c1",
   "metadata": {},
   "outputs": [],
   "source": [
    "fig = px.scatter_3d(data_frame=df, x='capital', y='labour', z='output')\n",
    "fig.update_traces(marker_size=3) # размер точки\n",
    "fig.show()"
   ]
  },
  {
   "cell_type": "markdown",
   "id": "fef3f656-d598-4866-a349-9d32abf5cb33",
   "metadata": {},
   "source": [
    "В log-масштабе по всем переменным, цвет зависит от `wage`"
   ]
  },
  {
   "cell_type": "code",
   "execution_count": null,
   "id": "619bd9d2-cfab-4ba6-829c-93cef5a2cfe6",
   "metadata": {},
   "outputs": [],
   "source": [
    "fig = px.scatter_3d(data_frame=df, x='capital', y='labour', z='output', log_x=True, log_y=True, log_z=True, color='wage')\n",
    "fig.update_traces(marker_size=3) # размер точки\n",
    "fig.show()"
   ]
  }
 ],
 "metadata": {
  "kernelspec": {
   "display_name": "Python 3 (ipykernel)",
   "language": "python",
   "name": "python3"
  },
  "language_info": {
   "codemirror_mode": {
    "name": "ipython",
    "version": 3
   },
   "file_extension": ".py",
   "mimetype": "text/x-python",
   "name": "python",
   "nbconvert_exporter": "python",
   "pygments_lexer": "ipython3",
   "version": "3.11.6"
  }
 },
 "nbformat": 4,
 "nbformat_minor": 5
}
