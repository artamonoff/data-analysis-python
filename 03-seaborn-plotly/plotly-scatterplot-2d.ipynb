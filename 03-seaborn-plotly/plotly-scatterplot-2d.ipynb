{
 "cells": [
  {
   "cell_type": "markdown",
   "id": "0045c341-7a23-4c57-a83e-1cb4548c69c4",
   "metadata": {},
   "source": [
    "# Визуализация с Plotly. Диаграмма рассеяния"
   ]
  },
  {
   "cell_type": "code",
   "execution_count": null,
   "id": "5162afff-511a-4b67-800d-328cee06f8f0",
   "metadata": {},
   "outputs": [],
   "source": [
    "import numpy as np\n",
    "import pandas as pd\n",
    "\n",
    "import plotly.express as px"
   ]
  },
  {
   "cell_type": "code",
   "execution_count": null,
   "id": "0ff63e3a-a330-4209-9cc6-b8f52282adab",
   "metadata": {},
   "outputs": [],
   "source": [
    "# Загрузка данных\n",
    "df = pd.read_csv('Diamond.csv')\n",
    "df.head()"
   ]
  },
  {
   "cell_type": "markdown",
   "id": "f217e4a1-15e8-4dfc-ae2d-b57a668e5da1",
   "metadata": {},
   "source": [
    "## Базовая диаграмма рассеяния\n",
    "\n",
    "Визуализируем парные наблюдения `carat vs price`"
   ]
  },
  {
   "cell_type": "code",
   "execution_count": null,
   "id": "3e68610c-e7e5-4ca6-a3ea-12a507727072",
   "metadata": {},
   "outputs": [],
   "source": [
    "fig = px.scatter(data_frame=df, x='carat', y='price', title='Carat vs Price')\n",
    "fig.show()"
   ]
  },
  {
   "cell_type": "markdown",
   "id": "e156d7ea-dc80-4a96-a67b-6db4339a754c",
   "metadata": {},
   "source": [
    "Сделаем чтобы цвет зависел от `colour`, а форма точки от `certification`"
   ]
  },
  {
   "cell_type": "code",
   "execution_count": null,
   "id": "3ce5bd45-fdc7-4bd8-9add-86cf29480302",
   "metadata": {},
   "outputs": [],
   "source": [
    "fig = px.scatter(df, x='carat', y='price', color='colour', symbol='certification')\n",
    "fig.show()"
   ]
  },
  {
   "cell_type": "markdown",
   "id": "aa38ba8c-a922-49e4-a98a-34bac314d370",
   "metadata": {},
   "source": [
    "Диаграмма в логарифмической шкале"
   ]
  },
  {
   "cell_type": "code",
   "execution_count": null,
   "id": "139d01b2-59ae-4ffd-8a0a-11cfda37ff0a",
   "metadata": {},
   "outputs": [],
   "source": [
    "fig = px.scatter(df, x='carat', y='price', log_x=True, log_y=True, color='colour', symbol='certification', title='log(Carat) vs log(Price)')\n",
    "fig.show()"
   ]
  },
  {
   "cell_type": "markdown",
   "id": "a463910b-185f-47d2-aa7e-00074f1e00fd",
   "metadata": {},
   "source": [
    "## Диаграмма рассеяния с подогнанной прямой\n",
    "\n",
    "Добавим подогнанную прямую (цвет определяется параметром [trendline_color_override](https://www.w3schools.com/cssref/css_colors.php)"
   ]
  },
  {
   "cell_type": "code",
   "execution_count": null,
   "id": "5c8a8ee6-c7fc-46d7-b5fa-a86568ff14f5",
   "metadata": {},
   "outputs": [],
   "source": [
    "fig = px.scatter(df, x='carat', y='price', trendline='ols', trendline_color_override='#8B0000')\n",
    "fig.show()"
   ]
  },
  {
   "cell_type": "code",
   "execution_count": null,
   "id": "a0fd942f-5409-4887-8a1e-d98156b0c6d4",
   "metadata": {},
   "outputs": [],
   "source": [
    "fig = px.scatter(df, x='carat', y='price', trendline='ols', color='certification')\n",
    "fig.show()"
   ]
  },
  {
   "cell_type": "code",
   "execution_count": null,
   "id": "7ddb6e16-f088-41bf-b175-239fb246a373",
   "metadata": {},
   "outputs": [],
   "source": [
    "fig = px.scatter(df, x='carat', y='price', trendline='ols', color='certification', trendline_scope='overall')\n",
    "fig.show()"
   ]
  }
 ],
 "metadata": {
  "kernelspec": {
   "display_name": "Python 3 (ipykernel)",
   "language": "python",
   "name": "python3"
  },
  "language_info": {
   "codemirror_mode": {
    "name": "ipython",
    "version": 3
   },
   "file_extension": ".py",
   "mimetype": "text/x-python",
   "name": "python",
   "nbconvert_exporter": "python",
   "pygments_lexer": "ipython3",
   "version": "3.11.6"
  }
 },
 "nbformat": 4,
 "nbformat_minor": 5
}
