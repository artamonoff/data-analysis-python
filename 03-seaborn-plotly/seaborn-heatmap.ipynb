{
 "cells": [
  {
   "cell_type": "markdown",
   "id": "2a7e58da-cb39-4ecd-bf29-9b0c804cd0e9",
   "metadata": {},
   "source": [
    "# Визуализация с Seaborn. Температурная карта"
   ]
  },
  {
   "cell_type": "code",
   "execution_count": null,
   "id": "1d5fa69c-dc5a-4785-b437-5f0f4c2765bc",
   "metadata": {},
   "outputs": [],
   "source": [
    "import pandas as pd\n",
    "import seaborn as sns\n",
    "\n",
    "# Не показывать FutureWarnings\n",
    "import warnings\n",
    "warnings.simplefilter(action='ignore', category=FutureWarning)"
   ]
  },
  {
   "cell_type": "markdown",
   "id": "e5ec4c82-e2e1-4ee2-8b55-96d63d73a359",
   "metadata": {},
   "source": [
    "## Пример 1"
   ]
  },
  {
   "cell_type": "code",
   "execution_count": null,
   "id": "04fe08a1-a508-41b4-8791-42c64016a354",
   "metadata": {},
   "outputs": [],
   "source": [
    "df_sleep = pd.read_csv('sleep75.csv')"
   ]
  },
  {
   "cell_type": "code",
   "execution_count": null,
   "id": "17e2e3c6-24a1-4303-af9a-fc6633be4038",
   "metadata": {},
   "outputs": [],
   "source": [
    "df_sleep.shape"
   ]
  },
  {
   "cell_type": "markdown",
   "id": "ba738d18-c1fc-41e2-9e94-987f67b4871b",
   "metadata": {},
   "source": [
    "Корреляционная матрица (с округлением)"
   ]
  },
  {
   "cell_type": "code",
   "execution_count": null,
   "id": "b34d44cd-35d7-4564-9a76-a1bf99c88f01",
   "metadata": {},
   "outputs": [],
   "source": [
    "df_sleep.corr().round(2)"
   ]
  },
  {
   "cell_type": "markdown",
   "id": "2bd9c508-19d0-499e-9758-26377a3d9905",
   "metadata": {},
   "source": [
    "визуализация корреляционной матрицы"
   ]
  },
  {
   "cell_type": "code",
   "execution_count": null,
   "id": "1378085d-633a-481d-845c-69a99f084bad",
   "metadata": {},
   "outputs": [],
   "source": [
    "sns.heatmap(df_sleep.corr())"
   ]
  },
  {
   "cell_type": "markdown",
   "id": "c421782b-76a9-4f5c-b318-ea8598df9e95",
   "metadata": {},
   "source": [
    "## Пример 2\n",
    "\n",
    "Отберём несколько переменных"
   ]
  },
  {
   "cell_type": "code",
   "execution_count": null,
   "id": "ce38d33e-7072-4d37-a888-bd855a499895",
   "metadata": {},
   "outputs": [],
   "source": [
    "df_sleep_2 = df_sleep[['sleep', 'totwrk', 'age', 'educ']]\n",
    "df_sleep_2.head()"
   ]
  },
  {
   "cell_type": "code",
   "execution_count": null,
   "id": "8a9e94f4-d982-4664-90dd-12075be1b63b",
   "metadata": {},
   "outputs": [],
   "source": [
    "# Добавим значения на график с округлением и изменим диапазон для градиентной заливки\n",
    "sns.heatmap(df_sleep_2.corr(), annot=True, vmin=-1, vmax=1, fmt=\".2f\")"
   ]
  }
 ],
 "metadata": {
  "kernelspec": {
   "display_name": "Python 3 (ipykernel)",
   "language": "python",
   "name": "python3"
  },
  "language_info": {
   "codemirror_mode": {
    "name": "ipython",
    "version": 3
   },
   "file_extension": ".py",
   "mimetype": "text/x-python",
   "name": "python",
   "nbconvert_exporter": "python",
   "pygments_lexer": "ipython3",
   "version": "3.11.6"
  }
 },
 "nbformat": 4,
 "nbformat_minor": 5
}
