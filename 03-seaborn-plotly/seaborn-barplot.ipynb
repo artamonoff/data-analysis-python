{
 "cells": [
  {
   "cell_type": "markdown",
   "id": "2a7e58da-cb39-4ecd-bf29-9b0c804cd0e9",
   "metadata": {},
   "source": [
    "# Визуализация с Seaborn. Столбчатая диаграмма"
   ]
  },
  {
   "cell_type": "code",
   "execution_count": null,
   "id": "1d5fa69c-dc5a-4785-b437-5f0f4c2765bc",
   "metadata": {},
   "outputs": [],
   "source": [
    "import pandas as pd\n",
    "import seaborn as sns\n",
    "\n",
    "# Не показывать FutureWarnings\n",
    "import warnings\n",
    "warnings.simplefilter(action='ignore', category=FutureWarning)"
   ]
  },
  {
   "cell_type": "code",
   "execution_count": null,
   "id": "f7109c0e-0eff-4cab-9b86-91199af9438e",
   "metadata": {},
   "outputs": [],
   "source": [
    "# Загрузка данных\n",
    "df = pd.read_csv('Diamond.csv')\n",
    "df.head()"
   ]
  },
  {
   "cell_type": "markdown",
   "metadata": {},
   "source": [
    "## Пример 1\n",
    "\n",
    "Гистограмма для переменной `colour` (по умолчанию статистика `count`)"
   ]
  },
  {
   "cell_type": "code",
   "execution_count": null,
   "id": "e2d5ab34-458d-4232-8b12-046b419f410b",
   "metadata": {},
   "outputs": [],
   "source": [
    "sns.histplot(data=df, x='colour')"
   ]
  },
  {
   "cell_type": "markdown",
   "metadata": {},
   "source": [
    "статистику можно выбрать: count, frequency, probability/proportion, percent, density"
   ]
  },
  {
   "cell_type": "code",
   "execution_count": null,
   "metadata": {},
   "outputs": [],
   "source": [
    "sns.histplot(data=df, x='colour', stat='density')"
   ]
  },
  {
   "cell_type": "code",
   "execution_count": null,
   "metadata": {},
   "outputs": [],
   "source": [
    "# Другое представление, параметр element\n",
    "sns.histplot(data=df, x='colour', element='step')"
   ]
  },
  {
   "cell_type": "code",
   "execution_count": null,
   "metadata": {},
   "outputs": [],
   "source": [
    "# Другое представление, параметр element\n",
    "sns.histplot(data=df, x='colour', element='poly')"
   ]
  },
  {
   "cell_type": "markdown",
   "metadata": {},
   "source": [
    "## Пример 2\n",
    "\n",
    "Горизонтальные столбцы"
   ]
  },
  {
   "cell_type": "code",
   "execution_count": null,
   "metadata": {},
   "outputs": [],
   "source": [
    "sns.histplot(data=df, y='colour')"
   ]
  },
  {
   "cell_type": "markdown",
   "metadata": {},
   "source": [
    "## Пример 3\n",
    "Гистограмма с накоплением и проч для переменной `price` относительно категориальной переменной (параметр `multiple`)"
   ]
  },
  {
   "cell_type": "code",
   "execution_count": null,
   "id": "e265c837-8e24-4578-b614-62418c5268a5",
   "metadata": {},
   "outputs": [],
   "source": [
    "sns.histplot(data=df, x='colour', hue='certification', multiple='layer')"
   ]
  },
  {
   "cell_type": "code",
   "execution_count": null,
   "metadata": {},
   "outputs": [],
   "source": [
    "sns.histplot(data=df, x='colour', hue='certification', multiple='stack')"
   ]
  },
  {
   "cell_type": "code",
   "execution_count": null,
   "id": "ce3f16be-8e0a-437d-8a50-71d92ca5cd67",
   "metadata": {},
   "outputs": [],
   "source": [
    "sns.histplot(data=df, x='colour', hue='certification', multiple='dodge')"
   ]
  },
  {
   "cell_type": "code",
   "execution_count": null,
   "metadata": {},
   "outputs": [],
   "source": [
    "sns.histplot(data=df, x='colour', hue='certification', multiple='fill')"
   ]
  },
  {
   "cell_type": "markdown",
   "metadata": {},
   "source": [
    "## Пример 4: 2D-гистограмма"
   ]
  },
  {
   "cell_type": "code",
   "execution_count": null,
   "metadata": {},
   "outputs": [],
   "source": [
    "sns.histplot(data=df, y='colour', x='certification')"
   ]
  }
 ],
 "metadata": {
  "kernelspec": {
   "display_name": "Python 3 (ipykernel)",
   "language": "python",
   "name": "python3"
  },
  "language_info": {
   "codemirror_mode": {
    "name": "ipython",
    "version": 3
   },
   "file_extension": ".py",
   "mimetype": "text/x-python",
   "name": "python",
   "nbconvert_exporter": "python",
   "pygments_lexer": "ipython3",
   "version": "3.11.6"
  }
 },
 "nbformat": 4,
 "nbformat_minor": 5
}
