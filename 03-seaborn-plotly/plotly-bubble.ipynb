{
 "cells": [
  {
   "cell_type": "markdown",
   "id": "7fc5c006-ceb9-4fe3-b917-eb91170aa74f",
   "metadata": {},
   "source": [
    "# Визуализация с Plotly. Пузырьковая диаграмма"
   ]
  },
  {
   "cell_type": "code",
   "execution_count": null,
   "id": "367ea401-47a3-4dbd-b214-26ce4509836e",
   "metadata": {},
   "outputs": [],
   "source": [
    "import numpy as np\n",
    "import pandas as pd\n",
    "\n",
    "import plotly.express as px\n",
    "\n",
    "# Не показывать FutureWarnings\n",
    "import warnings\n",
    "warnings.simplefilter(action='ignore', category=FutureWarning)"
   ]
  },
  {
   "cell_type": "code",
   "execution_count": null,
   "id": "e6705dfd-a5f1-444d-b086-c8432b619309",
   "metadata": {},
   "outputs": [],
   "source": [
    "df = pd.read_csv('Labour.csv')\n",
    "df.head()"
   ]
  },
  {
   "cell_type": "code",
   "execution_count": null,
   "id": "7a406438-8dc0-4aa9-b90d-2e68d61aa00b",
   "metadata": {},
   "outputs": [],
   "source": [
    "fig = px.scatter(data_frame=df, x='capital', y='output', size='labour', log_x=True, log_y=True, color='wage')\n",
    "fig.show()"
   ]
  }
 ],
 "metadata": {
  "kernelspec": {
   "display_name": "Python 3 (ipykernel)",
   "language": "python",
   "name": "python3"
  },
  "language_info": {
   "codemirror_mode": {
    "name": "ipython",
    "version": 3
   },
   "file_extension": ".py",
   "mimetype": "text/x-python",
   "name": "python",
   "nbconvert_exporter": "python",
   "pygments_lexer": "ipython3",
   "version": "3.11.6"
  }
 },
 "nbformat": 4,
 "nbformat_minor": 5
}
