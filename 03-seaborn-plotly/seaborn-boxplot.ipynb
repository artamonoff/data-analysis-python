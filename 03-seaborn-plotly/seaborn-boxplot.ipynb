{
 "cells": [
  {
   "cell_type": "markdown",
   "id": "2a7e58da-cb39-4ecd-bf29-9b0c804cd0e9",
   "metadata": {},
   "source": [
    "# Визуализация с Seaborn. Коробчатая диаграмма"
   ]
  },
  {
   "cell_type": "code",
   "execution_count": null,
   "id": "1d5fa69c-dc5a-4785-b437-5f0f4c2765bc",
   "metadata": {},
   "outputs": [],
   "source": [
    "import pandas as pd\n",
    "import seaborn as sns\n",
    "\n",
    "# Не показывать FutureWarnings\n",
    "import warnings\n",
    "warnings.simplefilter(action='ignore', category=FutureWarning)"
   ]
  },
  {
   "cell_type": "code",
   "execution_count": null,
   "id": "f7109c0e-0eff-4cab-9b86-91199af9438e",
   "metadata": {},
   "outputs": [],
   "source": [
    "# Загрузка данных\n",
    "df = pd.read_csv('Diamond.csv')\n",
    "df.head()"
   ]
  },
  {
   "cell_type": "markdown",
   "metadata": {},
   "source": [
    "## Пример 1\n",
    "\n",
    "Гистограмма для переменной `price` (по умолчанию статистика `count`)"
   ]
  },
  {
   "cell_type": "code",
   "execution_count": null,
   "id": "e2d5ab34-458d-4232-8b12-046b419f410b",
   "metadata": {},
   "outputs": [],
   "source": [
    "sns.boxplot(data=df, y='price')"
   ]
  },
  {
   "cell_type": "markdown",
   "metadata": {},
   "source": [
    "## Пример 2\n",
    "\n",
    "Горизонтальное представление"
   ]
  },
  {
   "cell_type": "code",
   "execution_count": null,
   "metadata": {},
   "outputs": [],
   "source": [
    "sns.boxplot(data=df, x='price')"
   ]
  },
  {
   "cell_type": "markdown",
   "metadata": {},
   "source": [
    "## Пример 3\n",
    "Диаграмма с разбивкой относительно категориальной переменной"
   ]
  },
  {
   "cell_type": "code",
   "execution_count": null,
   "id": "e265c837-8e24-4578-b614-62418c5268a5",
   "metadata": {},
   "outputs": [],
   "source": [
    "sns.boxplot(data=df, y='price', x='colour')"
   ]
  },
  {
   "cell_type": "code",
   "execution_count": null,
   "metadata": {},
   "outputs": [],
   "source": [
    "sns.boxplot(data=df, y='price', x='colour', hue='certification')"
   ]
  },
  {
   "cell_type": "markdown",
   "metadata": {},
   "source": [
    "## Пример 4: Параметры отображения"
   ]
  },
  {
   "cell_type": "code",
   "execution_count": null,
   "metadata": {},
   "outputs": [],
   "source": [
    "sns.boxplot(data=df, y='price', x='colour', hue='certification', dodge=False)"
   ]
  }
 ],
 "metadata": {
  "kernelspec": {
   "display_name": "Python 3 (ipykernel)",
   "language": "python",
   "name": "python3"
  },
  "language_info": {
   "codemirror_mode": {
    "name": "ipython",
    "version": 3
   },
   "file_extension": ".py",
   "mimetype": "text/x-python",
   "name": "python",
   "nbconvert_exporter": "python",
   "pygments_lexer": "ipython3",
   "version": "3.11.6"
  }
 },
 "nbformat": 4,
 "nbformat_minor": 5
}
