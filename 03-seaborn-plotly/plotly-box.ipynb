{
 "cells": [
  {
   "cell_type": "markdown",
   "id": "e7a4b560-6d58-495d-9430-7f3d80e01acd",
   "metadata": {},
   "source": [
    "# Визуализация с Plotly. Коробчатая диаграмма"
   ]
  },
  {
   "cell_type": "code",
   "execution_count": null,
   "id": "2b0a2616-b44c-4611-a44f-57008a3580d0",
   "metadata": {},
   "outputs": [],
   "source": [
    "import numpy as np\n",
    "import pandas as pd\n",
    "\n",
    "import plotly.express as px\n",
    "\n",
    "# Не показывать FutureWarnings\n",
    "import warnings\n",
    "warnings.simplefilter(action='ignore', category=FutureWarning)"
   ]
  },
  {
   "cell_type": "code",
   "execution_count": null,
   "id": "c8f2e7a7-655d-4588-8740-ddffeba30e8b",
   "metadata": {},
   "outputs": [],
   "source": [
    "df = pd.read_csv('Diamond.csv')\n",
    "df.head()"
   ]
  },
  {
   "cell_type": "code",
   "execution_count": null,
   "id": "4e598e29-cf16-4a7c-9708-50d538afcfc3",
   "metadata": {},
   "outputs": [],
   "source": [
    "fig = px.box(data_frame=df, y='price')\n",
    "fig.show()"
   ]
  },
  {
   "cell_type": "code",
   "execution_count": null,
   "id": "dbc871d9-2df6-47f8-85c3-6ec082484114",
   "metadata": {},
   "outputs": [],
   "source": [
    "fig = px.box(data_frame=df, y='price', x='colour')\n",
    "fig.show()"
   ]
  },
  {
   "cell_type": "code",
   "execution_count": null,
   "id": "cbbdd660-f6b1-426e-8356-8af7ce06f7c6",
   "metadata": {},
   "outputs": [],
   "source": [
    "fig = px.box(data_frame=df, y='price', x='colour', color='colour')\n",
    "fig.show()"
   ]
  },
  {
   "cell_type": "code",
   "execution_count": null,
   "id": "bb29334e-52f4-491e-b553-c5a9a8c5bd2c",
   "metadata": {},
   "outputs": [],
   "source": [
    "fig = px.box(data_frame=df, y='price', x='colour', color='certification')\n",
    "fig.show()"
   ]
  }
 ],
 "metadata": {
  "kernelspec": {
   "display_name": "Python 3 (ipykernel)",
   "language": "python",
   "name": "python3"
  },
  "language_info": {
   "codemirror_mode": {
    "name": "ipython",
    "version": 3
   },
   "file_extension": ".py",
   "mimetype": "text/x-python",
   "name": "python",
   "nbconvert_exporter": "python",
   "pygments_lexer": "ipython3",
   "version": "3.11.6"
  }
 },
 "nbformat": 4,
 "nbformat_minor": 5
}
