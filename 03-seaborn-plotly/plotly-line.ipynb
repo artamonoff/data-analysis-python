{
 "cells": [
  {
   "cell_type": "markdown",
   "id": "faf7716f-ca1f-4bcb-b1b6-5a098cf0354c",
   "metadata": {},
   "source": [
    "# Визуализация с Plotly. Линейная диаграмма"
   ]
  },
  {
   "cell_type": "code",
   "execution_count": null,
   "id": "d47c1ef2-5c4a-4398-ba92-23cf62b3ff7d",
   "metadata": {},
   "outputs": [],
   "source": [
    "import numpy as np\n",
    "import pandas as pd\n",
    "\n",
    "import pandas_datareader as pdr\n",
    "\n",
    "import plotly.express as px\n",
    "\n",
    "# Не показывать FutureWarnings\n",
    "import warnings\n",
    "warnings.simplefilter(action='ignore', category=FutureWarning)"
   ]
  },
  {
   "cell_type": "markdown",
   "id": "cba63686-3430-40ce-99f6-098eadf48d50",
   "metadata": {},
   "source": [
    "В качестве примера возьмём месячные данные по ставкам \n",
    "- 3-Month Treasury Bill (символ TB3MS)\n",
    "- Market Yield on U.S. Treasury Securities at 10-Year Constant Maturity (символ GS10)\n",
    "\n",
    "с 2000-01-01 по 2023-10-30"
   ]
  },
  {
   "cell_type": "code",
   "execution_count": null,
   "id": "fc8b3c63-60f1-4a93-8ef7-f2a36d39f6e7",
   "metadata": {},
   "outputs": [],
   "source": [
    "rates = pdr.data.DataReader(['TB3MS', 'GS10'], 'fred', start='2000-01-01', end='2023-10-30')\n",
    "rates.tail()"
   ]
  },
  {
   "cell_type": "code",
   "execution_count": null,
   "id": "983a1d5b-1877-4186-ab04-a152990bc02f",
   "metadata": {},
   "outputs": [],
   "source": [
    "fig = px.line(data_frame=rates, markers=True)\n",
    "fig.show()"
   ]
  }
 ],
 "metadata": {
  "kernelspec": {
   "display_name": "Python 3 (ipykernel)",
   "language": "python",
   "name": "python3"
  },
  "language_info": {
   "codemirror_mode": {
    "name": "ipython",
    "version": 3
   },
   "file_extension": ".py",
   "mimetype": "text/x-python",
   "name": "python",
   "nbconvert_exporter": "python",
   "pygments_lexer": "ipython3",
   "version": "3.11.6"
  }
 },
 "nbformat": 4,
 "nbformat_minor": 5
}
