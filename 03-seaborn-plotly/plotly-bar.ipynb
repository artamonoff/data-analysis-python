{
 "cells": [
  {
   "cell_type": "markdown",
   "id": "b4c96e2f-9ab9-440a-b27a-0ced3ed77d1e",
   "metadata": {},
   "source": [
    "# Визуализация с Plotly. Коробчатая диаграмма"
   ]
  },
  {
   "cell_type": "code",
   "execution_count": null,
   "id": "cab4baa3-49cd-460b-b593-2d3d56eaa32a",
   "metadata": {},
   "outputs": [],
   "source": [
    "import numpy as np\n",
    "import pandas as pd\n",
    "\n",
    "import plotly.express as px\n",
    "\n",
    "# Не показывать FutureWarnings\n",
    "import warnings\n",
    "warnings.simplefilter(action='ignore', category=FutureWarning)"
   ]
  },
  {
   "cell_type": "code",
   "execution_count": null,
   "id": "9496f8fc-92c8-4673-92e6-a4f11ed1019f",
   "metadata": {},
   "outputs": [],
   "source": [
    "df = pd.read_csv('Diamond.csv')\n",
    "df.head()"
   ]
  },
  {
   "cell_type": "code",
   "execution_count": null,
   "id": "fe747289-d2c6-45da-b6b8-e8ca73896393",
   "metadata": {},
   "outputs": [],
   "source": [
    "fig = px.bar(data_frame=df, x='colour')\n",
    "fig.show()"
   ]
  },
  {
   "cell_type": "code",
   "execution_count": null,
   "id": "58ba2f02-7df2-469b-8cf0-0ddaa40dd500",
   "metadata": {},
   "outputs": [],
   "source": [
    "fig = px.bar(data_frame=df, x='colour', color='colour')\n",
    "fig.show()"
   ]
  },
  {
   "cell_type": "code",
   "execution_count": null,
   "id": "c5bdd40b-cdb3-470f-9cc9-8a9fed3461e3",
   "metadata": {},
   "outputs": [],
   "source": [
    "fig = px.bar(data_frame=df, x='colour', color='certification')\n",
    "fig.show()"
   ]
  },
  {
   "cell_type": "code",
   "execution_count": null,
   "id": "ec998fd4-1036-4fdc-9448-aa59dbbf7117",
   "metadata": {},
   "outputs": [],
   "source": [
    "fig = px.bar(data_frame=df, x='colour', color='certification', barmode='relative')\n",
    "fig.show()"
   ]
  },
  {
   "cell_type": "code",
   "execution_count": null,
   "id": "45223ad9-bd9d-460b-8e38-62204c74ce4a",
   "metadata": {},
   "outputs": [],
   "source": [
    "fig = px.bar(data_frame=df, x='colour', color='certification', barmode='group')\n",
    "fig.show()"
   ]
  }
 ],
 "metadata": {
  "kernelspec": {
   "display_name": "Python 3 (ipykernel)",
   "language": "python",
   "name": "python3"
  },
  "language_info": {
   "codemirror_mode": {
    "name": "ipython",
    "version": 3
   },
   "file_extension": ".py",
   "mimetype": "text/x-python",
   "name": "python",
   "nbconvert_exporter": "python",
   "pygments_lexer": "ipython3",
   "version": "3.11.6"
  }
 },
 "nbformat": 4,
 "nbformat_minor": 5
}
