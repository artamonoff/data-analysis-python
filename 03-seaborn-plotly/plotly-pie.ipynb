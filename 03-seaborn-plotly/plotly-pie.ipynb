{
 "cells": [
  {
   "cell_type": "markdown",
   "id": "1f5de02f-6be6-4693-9f3f-1d5d02499a18",
   "metadata": {},
   "source": [
    "# Визуализация с Plotly. Круговая диаграмма"
   ]
  },
  {
   "cell_type": "code",
   "execution_count": null,
   "id": "08a8a23d-62cd-495f-80c7-f782806718a7",
   "metadata": {},
   "outputs": [],
   "source": [
    "import numpy as np\n",
    "import pandas as pd\n",
    "\n",
    "import plotly.express as px\n",
    "\n",
    "# Не показывать FutureWarnings\n",
    "import warnings\n",
    "warnings.simplefilter(action='ignore', category=FutureWarning)"
   ]
  },
  {
   "cell_type": "code",
   "execution_count": null,
   "id": "8bcb0fd4-bf15-4e7f-a3ea-fbc4eea01e27",
   "metadata": {},
   "outputs": [],
   "source": [
    "mobile_market = pd.DataFrame({ 'Brand': [\"Samsung\",\"Huawei\",\"Apple\",\"Xiaomi\",\"OPPO\",\"Other\"], \n",
    "                               'Share':[.2090,.1580,.1210,.0930,.0870,.3320]})\n",
    "mobile_market"
   ]
  },
  {
   "cell_type": "code",
   "execution_count": null,
   "id": "7822ef56-d278-484a-9960-35d34097a18f",
   "metadata": {},
   "outputs": [],
   "source": [
    "fig = px.pie(data_frame=mobile_market, names='Brand', values='Share', title='Pie Chart')\n",
    "fig.show()"
   ]
  }
 ],
 "metadata": {
  "kernelspec": {
   "display_name": "Python 3 (ipykernel)",
   "language": "python",
   "name": "python3"
  },
  "language_info": {
   "codemirror_mode": {
    "name": "ipython",
    "version": 3
   },
   "file_extension": ".py",
   "mimetype": "text/x-python",
   "name": "python",
   "nbconvert_exporter": "python",
   "pygments_lexer": "ipython3",
   "version": "3.11.6"
  }
 },
 "nbformat": 4,
 "nbformat_minor": 5
}
