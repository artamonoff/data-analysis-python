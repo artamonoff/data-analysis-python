{
 "cells": [
  {
   "cell_type": "markdown",
   "id": "4301c677-7627-4caf-9ce8-cf39c98761b9",
   "metadata": {},
   "source": [
    "# Основы pandas. Импорт из файла, типы переменных и пропущенные значения"
   ]
  },
  {
   "cell_type": "code",
   "execution_count": null,
   "id": "c21f9184-ca78-45e4-b444-ec799e47e258",
   "metadata": {
    "tags": []
   },
   "outputs": [],
   "source": [
    "import pandas as pd"
   ]
  },
  {
   "cell_type": "markdown",
   "id": "49247244-23f2-4d23-b49d-f1d4fc75a6df",
   "metadata": {},
   "source": [
    "## Загрузка данных\n",
    "Загрузим данные из файла `Diamond.csv`. Для этого используем метод `pandas.read_csv()`\n",
    "\n",
    "Это метод создаёт новый объект `pandas.DataFrame`, которому мы присвоим имя `df`\n",
    "\n",
    "**Замечание**: по умолчанию файл загружается из папки. где расположен Jupyter Notebook\n",
    "\n",
    "**Важно**: импортировать можно как локальные файлы, так и файлы по web-ссылке"
   ]
  },
  {
   "cell_type": "code",
   "execution_count": null,
   "id": "474a22fb-e439-45c5-8bc6-5c8984a8fca2",
   "metadata": {
    "tags": []
   },
   "outputs": [],
   "source": [
    "df = pd.read_csv('Diamond.csv')"
   ]
  },
  {
   "cell_type": "code",
   "execution_count": null,
   "id": "8e44b4b5-8db9-4332-abd2-0be2aeb5cd0c",
   "metadata": {
    "tags": []
   },
   "outputs": [],
   "source": [
    "# напечатаем датафрейм df\n",
    "df"
   ]
  },
  {
   "cell_type": "code",
   "execution_count": null,
   "id": "64fd8b84-1035-4a33-ab0a-e13937f1cad7",
   "metadata": {
    "tags": []
   },
   "outputs": [],
   "source": [
    "# размер датафрейма\n",
    "df.shape"
   ]
  },
  {
   "cell_type": "code",
   "execution_count": null,
   "id": "7187b362-ad6d-40a0-9314-22447811d0b4",
   "metadata": {
    "tags": []
   },
   "outputs": [],
   "source": [
    "# Первые 6 наблюдений\n",
    "df.head(6)"
   ]
  },
  {
   "cell_type": "code",
   "execution_count": null,
   "id": "783d9b82-b88d-4a63-98cc-a6bdfc2b51a5",
   "metadata": {
    "tags": []
   },
   "outputs": [],
   "source": [
    "# последние наблюдения\n",
    "df.tail()"
   ]
  },
  {
   "cell_type": "markdown",
   "id": "16e5a07f-18eb-4c57-bab6-4f6dd87ee49a",
   "metadata": {},
   "source": [
    "## Типы переменных и пропущенные значения\n",
    "Посмотрим тип каждой переменной в датафрейме\n",
    "\n",
    "Какие переменные числовые, а какие категориальные?"
   ]
  },
  {
   "cell_type": "code",
   "execution_count": null,
   "id": "bdc0d812-f6b0-42f7-8ae3-afe9eb987264",
   "metadata": {
    "tags": []
   },
   "outputs": [],
   "source": [
    "df.dtypes"
   ]
  },
  {
   "cell_type": "markdown",
   "id": "1ae46646-dcf2-4b4d-bdc7-302509a8d2b4",
   "metadata": {},
   "source": [
    "Посмотрим число наблюдений по каждой переменной.\n",
    "\n",
    "Есть ли пропущенные значения?"
   ]
  },
  {
   "cell_type": "code",
   "execution_count": null,
   "id": "80eef5d6-2d54-46ea-8538-47b6ceb2073a",
   "metadata": {
    "tags": []
   },
   "outputs": [],
   "source": [
    "df.count()"
   ]
  },
  {
   "cell_type": "markdown",
   "id": "2d156830-b74b-4619-8274-88ddbbf8d354",
   "metadata": {},
   "source": [
    "Посчитаем отдельно число пропущенных наблюдений по каждой переменной"
   ]
  },
  {
   "cell_type": "code",
   "execution_count": null,
   "id": "2ccde3d8-4624-4644-be4e-47eba9f626b2",
   "metadata": {
    "tags": []
   },
   "outputs": [],
   "source": [
    "df.isna().sum()"
   ]
  },
  {
   "cell_type": "markdown",
   "id": "5f4d3280-7841-4475-a3cf-c9eb6ed52b39",
   "metadata": {
    "tags": []
   },
   "source": [
    "Удаление пропущенных наблюдений (по умолчанию удаляются строки с пропущенными наблюдениями)"
   ]
  },
  {
   "cell_type": "code",
   "execution_count": null,
   "id": "8bac7323-64bc-4864-9351-8fe9386b3b4d",
   "metadata": {},
   "outputs": [],
   "source": [
    "df = df.dropna()"
   ]
  }
 ],
 "metadata": {
  "kernelspec": {
   "display_name": "Python 3 (ipykernel)",
   "language": "python",
   "name": "python3"
  },
  "language_info": {
   "codemirror_mode": {
    "name": "ipython",
    "version": 3
   },
   "file_extension": ".py",
   "mimetype": "text/x-python",
   "name": "python",
   "nbconvert_exporter": "python",
   "pygments_lexer": "ipython3",
   "version": "3.11.6"
  }
 },
 "nbformat": 4,
 "nbformat_minor": 5
}
