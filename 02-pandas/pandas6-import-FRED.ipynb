{
 "cells": [
  {
   "cell_type": "markdown",
   "id": "738459f1-3673-413a-bc89-acdeaead20a6",
   "metadata": {},
   "source": [
    "# Основы pandas. Импорт из внешних источников. FRED\n",
    "\n",
    "Рассморим импорт данных с [FRED](https://fred.stlouisfed.org/) (Federal Reserve Economic Data) с использованием библиотеки `pandas-datareader`"
   ]
  },
  {
   "cell_type": "code",
   "execution_count": null,
   "id": "c828a85a-c507-49a8-ac05-62a86d9c3981",
   "metadata": {
    "tags": []
   },
   "outputs": [],
   "source": [
    "import pandas as pd\n",
    "import pandas_datareader as pdr"
   ]
  },
  {
   "cell_type": "markdown",
   "id": "90527971-9603-4ba7-bc2e-3f9d21af5202",
   "metadata": {
    "tags": []
   },
   "source": [
    "В качестве примера возьмём месячные данные по стаквам \n",
    "- 3-Month Treasury Bill (символ TB3MS)\n",
    "- Market Yield on U.S. Treasury Securities at 10-Year Constant Maturity (символ GS10)\n",
    "\n",
    "с 2000-01-01 по 2023-10-30"
   ]
  },
  {
   "cell_type": "code",
   "execution_count": null,
   "id": "c4d682bc-c2fa-4731-96cd-b28adb7a7205",
   "metadata": {
    "tags": []
   },
   "outputs": [],
   "source": [
    "rates = pdr.data.DataReader(['TB3MS', 'GS10'], 'fred', start='2000-01-01', end='2023-10-30')"
   ]
  },
  {
   "cell_type": "code",
   "execution_count": null,
   "id": "a5654dfa-8c64-4f49-8e6b-f78bcedf7d22",
   "metadata": {
    "tags": []
   },
   "outputs": [],
   "source": [
    "rates"
   ]
  },
  {
   "cell_type": "markdown",
   "id": "5fef31be-4703-4698-af5c-931a031dd191",
   "metadata": {},
   "source": [
    "Изменим индекс на месячный"
   ]
  },
  {
   "cell_type": "code",
   "execution_count": null,
   "id": "93e90441-945c-4ccd-afd2-a180207024c1",
   "metadata": {},
   "outputs": [],
   "source": [
    "rate.index = pd.period_range(start='2000-01', end='2023-10', freq='M')"
   ]
  },
  {
   "cell_type": "code",
   "execution_count": null,
   "id": "d1fd5a37-be6f-40d9-9815-b922da98994f",
   "metadata": {
    "tags": []
   },
   "outputs": [],
   "source": [
    "rates.plot()"
   ]
  },
  {
   "cell_type": "code",
   "execution_count": null,
   "id": "eb60f358-c371-4560-b2c4-820ac8421366",
   "metadata": {
    "tags": []
   },
   "outputs": [],
   "source": [
    "rates.plot(subplots=True)"
   ]
  }
 ],
 "metadata": {
  "kernelspec": {
   "display_name": "Python 3 (ipykernel)",
   "language": "python",
   "name": "python3"
  },
  "language_info": {
   "codemirror_mode": {
    "name": "ipython",
    "version": 3
   },
   "file_extension": ".py",
   "mimetype": "text/x-python",
   "name": "python",
   "nbconvert_exporter": "python",
   "pygments_lexer": "ipython3",
   "version": "3.11.6"
  }
 },
 "nbformat": 4,
 "nbformat_minor": 5
}
