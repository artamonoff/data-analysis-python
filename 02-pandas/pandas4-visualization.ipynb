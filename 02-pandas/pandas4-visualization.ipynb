{
 "cells": [
  {
   "cell_type": "markdown",
   "id": "479522bd-9b05-40d9-b251-9e482404f210",
   "metadata": {},
   "source": [
    "# Основы pandas. Базовые графики"
   ]
  },
  {
   "cell_type": "code",
   "execution_count": null,
   "id": "0b8e64e5-aa7a-42fc-a833-a07b67a74129",
   "metadata": {
    "tags": []
   },
   "outputs": [],
   "source": [
    "import pandas as pd"
   ]
  },
  {
   "cell_type": "code",
   "execution_count": null,
   "id": "f0af3e95-fc71-4776-b5a4-d9237c6bc1a4",
   "metadata": {
    "tags": []
   },
   "outputs": [],
   "source": [
    "df = pd.read_csv('sleep75.csv')"
   ]
  },
  {
   "cell_type": "markdown",
   "id": "af5aee02-0005-4af0-a4b8-71cc74fa4e2b",
   "metadata": {},
   "source": [
    "## Диаграмма рассеяния"
   ]
  },
  {
   "cell_type": "code",
   "execution_count": null,
   "id": "5801a7fc-7c55-46e7-b490-2a20a0f7ddf6",
   "metadata": {
    "tags": []
   },
   "outputs": [],
   "source": [
    "df.plot(x='totwrk', y='sleep', kind='scatter')"
   ]
  },
  {
   "cell_type": "code",
   "execution_count": null,
   "id": "7bc4941d-73df-4371-9db6-ae8c596fb8c7",
   "metadata": {
    "tags": []
   },
   "outputs": [],
   "source": [
    "# изменим настройки: размер=2, grid=True\n",
    "df.plot(x='totwrk', y='sleep', kind='scatter', s=2, grid=True)"
   ]
  },
  {
   "cell_type": "code",
   "execution_count": null,
   "id": "42d6b674-09c0-4d3c-a072-8162f75411e7",
   "metadata": {
    "tags": []
   },
   "outputs": [],
   "source": [
    "# альтернативно\n",
    "df.plot.scatter(x='totwrk', y='sleep', s=3)"
   ]
  },
  {
   "cell_type": "markdown",
   "id": "5e8306a9-faed-4a06-8c13-afd2043aa9e7",
   "metadata": {},
   "source": [
    "## Гистограмма"
   ]
  },
  {
   "cell_type": "code",
   "execution_count": null,
   "id": "4b298c3c-3f80-4dad-9093-7564a79dc867",
   "metadata": {
    "tags": []
   },
   "outputs": [],
   "source": [
    "df.plot(y='male', kind='hist', grid=True)"
   ]
  },
  {
   "cell_type": "code",
   "execution_count": null,
   "id": "317f96d4-0fe9-4ada-bc47-e3edcd49a708",
   "metadata": {
    "tags": []
   },
   "outputs": [],
   "source": [
    "df['male'].plot.hist()"
   ]
  },
  {
   "cell_type": "markdown",
   "id": "da9724c9-c56d-453e-95fd-52bba0d13dfb",
   "metadata": {},
   "source": [
    "## Коробчатая диаграмма"
   ]
  },
  {
   "cell_type": "code",
   "execution_count": null,
   "id": "7e0dee38-c003-4961-8ebb-69bbe1732dbf",
   "metadata": {
    "tags": []
   },
   "outputs": [],
   "source": [
    "df.boxplot(column='sleep', by='male')"
   ]
  }
 ],
 "metadata": {
  "kernelspec": {
   "display_name": "Python 3 (ipykernel)",
   "language": "python",
   "name": "python3"
  },
  "language_info": {
   "codemirror_mode": {
    "name": "ipython",
    "version": 3
   },
   "file_extension": ".py",
   "mimetype": "text/x-python",
   "name": "python",
   "nbconvert_exporter": "python",
   "pygments_lexer": "ipython3",
   "version": "3.11.6"
  }
 },
 "nbformat": 4,
 "nbformat_minor": 5
}
