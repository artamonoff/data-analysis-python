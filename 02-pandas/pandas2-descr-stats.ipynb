{
 "cells": [
  {
   "cell_type": "markdown",
   "id": "e4f446ee-5a09-45c1-8f19-810c02751a85",
   "metadata": {},
   "source": [
    "# Основы pandas. Описательные статистики"
   ]
  },
  {
   "cell_type": "code",
   "execution_count": null,
   "id": "6c552bb4-049b-4e72-9b25-de1394e95b63",
   "metadata": {},
   "outputs": [],
   "source": [
    "import pandas as pd"
   ]
  },
  {
   "cell_type": "code",
   "execution_count": null,
   "id": "5b4eab1d-5a0f-433f-8fdd-94a82c134d4c",
   "metadata": {},
   "outputs": [],
   "source": [
    "df = pd.read_csv('Diamond.csv')"
   ]
  },
  {
   "cell_type": "code",
   "execution_count": null,
   "id": "6337cecb-e63a-41e0-9e25-21c1bd17e13e",
   "metadata": {},
   "outputs": [],
   "source": [
    "df.dtypes"
   ]
  },
  {
   "cell_type": "markdown",
   "id": "0bd7e468-e433-4a8e-bd5d-9097738efb97",
   "metadata": {},
   "source": [
    "## Описательные статистики для количественных переменных\n",
    "\n",
    "метод `.describe()` вычисляет описательный статистик только для количественных переменных. Он выдаёт датафрейм с писательными статистиками"
   ]
  },
  {
   "cell_type": "code",
   "execution_count": null,
   "id": "a40797a0-f5f2-4192-97ed-99f068f966e5",
   "metadata": {
    "tags": []
   },
   "outputs": [],
   "source": [
    "df.describe()"
   ]
  },
  {
   "cell_type": "markdown",
   "id": "2f96bb41-b8ac-4a00-902b-3aee9cf4e256",
   "metadata": {
    "tags": []
   },
   "source": [
    "Описательные статистики с округлением"
   ]
  },
  {
   "cell_type": "code",
   "execution_count": null,
   "id": "b7c0a588-bcf6-4cb5-8196-943e12499bd6",
   "metadata": {
    "tags": []
   },
   "outputs": [],
   "source": [
    "df.describe().round(3)"
   ]
  },
  {
   "cell_type": "markdown",
   "id": "43c2a32c-7c33-47a2-b61a-4fff867ce514",
   "metadata": {},
   "source": [
    "Сохраним описательные статистики с округлегием в файл формата CSCV"
   ]
  },
  {
   "cell_type": "code",
   "execution_count": null,
   "id": "b2ec8670-eca9-4915-bac0-b5bd212375d8",
   "metadata": {
    "tags": []
   },
   "outputs": [],
   "source": [
    "df.describe().round(3).to_csv('descriptive-stats.csv')"
   ]
  },
  {
   "cell_type": "markdown",
   "id": "fe64dc84-bbdc-4050-a34e-a6b8fe45b78a",
   "metadata": {},
   "source": [
    "Отдельные описательные статистики (например, среднее)\n",
    "\n",
    "**Важно**: просто `df.mean()` не работает из-за категориальных переменных. Нужно их удалить"
   ]
  },
  {
   "cell_type": "code",
   "execution_count": null,
   "id": "3c29e716-bd86-4225-82a2-d334186c58dc",
   "metadata": {
    "tags": []
   },
   "outputs": [],
   "source": [
    "df.mean(numeric_only=True)"
   ]
  },
  {
   "cell_type": "code",
   "execution_count": null,
   "id": "12901b27-8242-4be6-add4-d1053a1ae359",
   "metadata": {
    "tags": []
   },
   "outputs": [],
   "source": [
    "# альтернативно из датафремы отбирает только столбцы carat & price. Имена столбцов задаём в виде списка\n",
    "df[['carat', 'price']].mean()"
   ]
  },
  {
   "cell_type": "markdown",
   "id": "1d83ca9c-430a-49e1-95c3-2f3ba0cde717",
   "metadata": {},
   "source": [
    "медиана"
   ]
  },
  {
   "cell_type": "code",
   "execution_count": null,
   "id": "3898e30d-4da5-469e-a4d9-e6802ce0e157",
   "metadata": {
    "tags": []
   },
   "outputs": [],
   "source": [
    "df.median(numeric_only=True)"
   ]
  },
  {
   "cell_type": "markdown",
   "id": "e4de5ebb-5da1-4179-a1bc-b1737601cb90",
   "metadata": {},
   "source": [
    "## Описательные статистики для категориальных переменных\n",
    "\n",
    "используем метод `.value_counts()` для каждой категориальной переменной"
   ]
  },
  {
   "cell_type": "code",
   "execution_count": null,
   "id": "e3ad8d69-51c7-484b-9be1-32e0d4b9bea7",
   "metadata": {
    "tags": []
   },
   "outputs": [],
   "source": [
    "df.value_counts(subset='colour')"
   ]
  },
  {
   "cell_type": "code",
   "execution_count": null,
   "id": "ba3611ac-c9f3-4d7d-9c06-92e22992e753",
   "metadata": {
    "tags": []
   },
   "outputs": [],
   "source": [
    "df.value_counts(subset='clarity')"
   ]
  },
  {
   "cell_type": "code",
   "execution_count": null,
   "id": "e51b55b6-5c7f-42ef-9b63-6d28f176a098",
   "metadata": {
    "tags": []
   },
   "outputs": [],
   "source": [
    "df.value_counts(subset='certification')"
   ]
  },
  {
   "cell_type": "markdown",
   "id": "a9bab7f4-f50f-4cb2-8fec-e041967c8d86",
   "metadata": {},
   "source": [
    "## Корреляционная матрица\n",
    "\n",
    "Считается только для количественных переменных"
   ]
  },
  {
   "cell_type": "code",
   "execution_count": null,
   "id": "8a0f5b96-5a68-400c-a2f2-977cabc2bc2a",
   "metadata": {
    "tags": []
   },
   "outputs": [],
   "source": [
    "df.corr(numeric_only=True)"
   ]
  },
  {
   "cell_type": "markdown",
   "id": "614ff25d-7e9b-44eb-9a4c-afd8fbe69122",
   "metadata": {},
   "source": [
    "корреляционная матрица с округлением"
   ]
  },
  {
   "cell_type": "code",
   "execution_count": null,
   "id": "74378b45-73fb-45a9-821f-0c6c58e068b7",
   "metadata": {
    "tags": []
   },
   "outputs": [],
   "source": [
    "df.corr(numeric_only=True).round(3)"
   ]
  },
  {
   "cell_type": "markdown",
   "id": "075dda40-2a76-49fe-959b-3b11bb4b181e",
   "metadata": {},
   "source": [
    "сохраним в виде файла MS Excel"
   ]
  },
  {
   "cell_type": "code",
   "execution_count": null,
   "id": "606d5a99-f94d-4cc1-967b-9aec3b20bb0c",
   "metadata": {
    "tags": []
   },
   "outputs": [],
   "source": [
    "df.corr(numeric_only=True).round(3).to_excel('corr-matrix.xlsx')"
   ]
  }
 ],
 "metadata": {
  "kernelspec": {
   "display_name": "Python 3 (ipykernel)",
   "language": "python",
   "name": "python3"
  },
  "language_info": {
   "codemirror_mode": {
    "name": "ipython",
    "version": 3
   },
   "file_extension": ".py",
   "mimetype": "text/x-python",
   "name": "python",
   "nbconvert_exporter": "python",
   "pygments_lexer": "ipython3",
   "version": "3.11.6"
  }
 },
 "nbformat": 4,
 "nbformat_minor": 5
}
