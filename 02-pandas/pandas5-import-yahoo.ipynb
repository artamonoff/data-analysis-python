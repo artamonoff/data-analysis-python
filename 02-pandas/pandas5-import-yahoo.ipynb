{
 "cells": [
  {
   "cell_type": "markdown",
   "id": "93e0d9e9-dcf4-4823-bcd9-cd09d2125649",
   "metadata": {},
   "source": [
    "# Основы pandas. Импорт из внешних источников. Yahoo Finance\n",
    "\n",
    "Рассморим импорт данных с [finance.yahoo.com](https://finance.yahoo.com/) с использованием библиотеки `yfinance`\n",
    "\n",
    "В качестве примера возьмём котировки акций Apple (тикер *AAPL*) "
   ]
  },
  {
   "cell_type": "code",
   "execution_count": null,
   "id": "385e9682-b7ec-4a3b-9198-030f4bc513cd",
   "metadata": {
    "tags": []
   },
   "outputs": [],
   "source": [
    "import pandas as pd\n",
    "import yfinance as yf"
   ]
  },
  {
   "cell_type": "markdown",
   "id": "432e62c6-63dd-4195-a114-19721a28b391",
   "metadata": {},
   "source": [
    "импортируем (дневные) данные с 2000-01-01 по 2023-10-30.\n",
    "\n",
    "Начальная и конечная дата для импорта устанавливается через параметры `start` & `end` (можно не задавать)\n",
    "\n",
    "**Важно** обратим внимание на индекс"
   ]
  },
  {
   "cell_type": "code",
   "execution_count": null,
   "id": "8a74ae89-72bf-4c2e-81db-fe4a6fe00dfd",
   "metadata": {
    "tags": []
   },
   "outputs": [],
   "source": [
    "apple = yf.download('AAPL', start='2000-01-01', end='2023-10-30')"
   ]
  },
  {
   "cell_type": "code",
   "execution_count": null,
   "id": "33c88503-dc4d-42e8-a8b7-e628b64245d3",
   "metadata": {
    "tags": []
   },
   "outputs": [],
   "source": [
    "apple.head()"
   ]
  },
  {
   "cell_type": "code",
   "execution_count": null,
   "id": "00019424-71b8-4b19-832d-49feaf4def98",
   "metadata": {
    "tags": []
   },
   "outputs": [],
   "source": [
    "apple.tail()"
   ]
  },
  {
   "cell_type": "code",
   "execution_count": null,
   "id": "c5461e02-1a1d-43ab-8121-e62156f92f71",
   "metadata": {
    "tags": []
   },
   "outputs": [],
   "source": [
    "apple.shape"
   ]
  },
  {
   "cell_type": "code",
   "execution_count": null,
   "id": "7da08a10-5b71-4d3d-8757-d0b0913c4700",
   "metadata": {
    "tags": []
   },
   "outputs": [],
   "source": [
    "apple.isna().sum()"
   ]
  },
  {
   "cell_type": "code",
   "execution_count": null,
   "id": "1e82885e-84cd-4788-8a7f-152b4d950034",
   "metadata": {
    "tags": []
   },
   "outputs": [],
   "source": [
    "apple.plot(subplots=True)"
   ]
  }
 ],
 "metadata": {
  "kernelspec": {
   "display_name": "Python 3 (ipykernel)",
   "language": "python",
   "name": "python3"
  },
  "language_info": {
   "codemirror_mode": {
    "name": "ipython",
    "version": 3
   },
   "file_extension": ".py",
   "mimetype": "text/x-python",
   "name": "python",
   "nbconvert_exporter": "python",
   "pygments_lexer": "ipython3",
   "version": "3.11.6"
  }
 },
 "nbformat": 4,
 "nbformat_minor": 5
}
