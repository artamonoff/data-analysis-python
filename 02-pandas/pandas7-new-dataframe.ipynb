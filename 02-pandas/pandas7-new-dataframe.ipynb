{
 "cells": [
  {
   "cell_type": "markdown",
   "id": "e231b09d-5db0-4ee9-9571-f9612e76ad21",
   "metadata": {},
   "source": [
    "# Создание датафрейма"
   ]
  },
  {
   "cell_type": "code",
   "execution_count": null,
   "id": "26732629-e98f-4519-bf9a-c8d39dfb0680",
   "metadata": {},
   "outputs": [],
   "source": [
    "import pandas as pd"
   ]
  },
  {
   "cell_type": "markdown",
   "id": "c8a7a360-5357-4169-9895-620d5b628587",
   "metadata": {},
   "source": [
    "Рассморим данные по рынку моблильных телефонов (числа условные)\n",
    "\n",
    "|Brand|Share|\n",
    "|-|-|\n",
    "|Samsung|.2090|\n",
    "|Huawei|.1580|\n",
    "|Apple|.1210|\n",
    "|Xiaomi|.0930|\n",
    "|OPPO|.0870|\n",
    "|Other|.3320|\n",
    "\n",
    "Создадим новый датафрейм с этими данными под именем `mobile_market`. Для создания нового датафрейма используем словарь"
   ]
  },
  {
   "cell_type": "code",
   "execution_count": null,
   "id": "443a2840-fa45-4d99-84aa-b0a6cf86f263",
   "metadata": {},
   "outputs": [],
   "source": [
    "mobile_market = pd.DataFrame({ 'Brand': [\"Samsung\",\"Huawei\",\"Apple\",\"Xiaomi\",\"OPPO\",\"Other\"], \n",
    "                               'Share':[.2090,.1580,.1210,.0930,.0870,.3320]})\n",
    "mobile_market"
   ]
  },
  {
   "cell_type": "markdown",
   "metadata": {},
   "source": [
    "## Столбчатая диаграмма\n",
    "\n",
    "Для переменной `Share` (обратим внимание на подписи с столбцам, они из индекса)"
   ]
  },
  {
   "cell_type": "code",
   "execution_count": null,
   "metadata": {},
   "outputs": [],
   "source": [
    "mobile_market.plot.bar(y='Share')"
   ]
  },
  {
   "cell_type": "code",
   "execution_count": null,
   "metadata": {},
   "outputs": [],
   "source": [
    "# Добавим подписи из переменной Brand\n",
    "mobile_market.plot.bar(x='Brand', y='Share')"
   ]
  },
  {
   "cell_type": "markdown",
   "id": "e9b525a7-99bc-4e54-9af4-258a50465928",
   "metadata": {},
   "source": [
    "## Круговая диаграмма\n",
    "\n",
    "Нарисуем круговую диаграмму для переменной `Share`. Метки для сегментов круга взяты из индекса"
   ]
  },
  {
   "cell_type": "code",
   "execution_count": null,
   "id": "a3ea13f3-5f98-4a15-af69-f0722c685546",
   "metadata": {},
   "outputs": [],
   "source": [
    "mobile_market.plot.pie(xlabel='Brand', y='Share')"
   ]
  },
  {
   "cell_type": "markdown",
   "id": "3c03c6af-aa11-4dbe-92a7-d0d6f53e6e6b",
   "metadata": {},
   "source": [
    "Изменим индекс и перерисуем"
   ]
  },
  {
   "cell_type": "code",
   "execution_count": null,
   "id": "5de7cb6a-bfb7-4ff6-a645-9d2775f23f82",
   "metadata": {},
   "outputs": [],
   "source": [
    "mobile_market.index = [\"Samsung\",\"Huawei\",\"Apple\",\"Xiaomi\",\"OPPO\",\"Other\"]\n",
    "mobile_market"
   ]
  },
  {
   "cell_type": "code",
   "execution_count": null,
   "id": "d6e5f0db-02fc-4f89-a8fd-2af70fda9ca6",
   "metadata": {},
   "outputs": [],
   "source": [
    "mobile_market.plot.pie(y='Share')"
   ]
  }
 ],
 "metadata": {
  "kernelspec": {
   "display_name": "Python 3 (ipykernel)",
   "language": "python",
   "name": "python3"
  },
  "language_info": {
   "codemirror_mode": {
    "name": "ipython",
    "version": 3
   },
   "file_extension": ".py",
   "mimetype": "text/x-python",
   "name": "python",
   "nbconvert_exporter": "python",
   "pygments_lexer": "ipython3",
   "version": "3.11.6"
  }
 },
 "nbformat": 4,
 "nbformat_minor": 5
}
