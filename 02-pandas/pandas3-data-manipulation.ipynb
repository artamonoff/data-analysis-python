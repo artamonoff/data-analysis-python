{
 "cells": [
  {
   "cell_type": "markdown",
   "id": "25736112-bc1a-478d-b6f5-297da3a02b25",
   "metadata": {},
   "source": [
    "# Основы pandas. Манипуляция с данными"
   ]
  },
  {
   "cell_type": "code",
   "execution_count": null,
   "id": "8773dfda-5748-42b9-ad05-b4312e092672",
   "metadata": {
    "tags": []
   },
   "outputs": [],
   "source": [
    "import pandas as pd"
   ]
  },
  {
   "cell_type": "code",
   "execution_count": null,
   "id": "1c7be211-29b3-478d-8c9a-87819ed8a11e",
   "metadata": {
    "tags": []
   },
   "outputs": [],
   "source": [
    "df = pd.read_csv('sleep75.csv')"
   ]
  },
  {
   "cell_type": "code",
   "execution_count": null,
   "id": "04d685f8-0e50-4c74-bfcd-4ecf533247a7",
   "metadata": {
    "tags": []
   },
   "outputs": [],
   "source": [
    "df.dtypes"
   ]
  },
  {
   "cell_type": "markdown",
   "id": "b56364b9-4049-406b-ab2c-8f1fd784b541",
   "metadata": {},
   "source": [
    "## Отбор столбцов в новый датафрейм"
   ]
  },
  {
   "cell_type": "code",
   "execution_count": null,
   "id": "7fad000e-676e-4aaf-9d31-0c784bb6ca57",
   "metadata": {
    "tags": []
   },
   "outputs": [],
   "source": [
    "df_new = df[['sleep', 'totwrk', 'age', 'male', 'union']]\n",
    "df_new"
   ]
  },
  {
   "cell_type": "code",
   "execution_count": null,
   "id": "4772a77a-ed88-44c3-89b7-51cb304e4ac7",
   "metadata": {
    "tags": []
   },
   "outputs": [],
   "source": [
    "# альтернативно через .loc. ':' означает полный диапазон по строкам (индексу)\n",
    "df.loc[:,['sleep', 'totwrk', 'age', 'male', 'union']]"
   ]
  },
  {
   "cell_type": "markdown",
   "id": "bcdb2a1a-a338-49cb-89a6-4a5489f02b85",
   "metadata": {},
   "source": [
    "## Фильтрация данных\n",
    "\n",
    "Отберём те наблюдения, для которых `male` равно 1. Для этого используем логическтй опертор сраневния `==` (**не путать с `=` !**)\n",
    "\n",
    "Два способа:\n",
    "- `DataFrame[logic_condition]`\n",
    "- `DataFrame.query(logic_condition)`"
   ]
  },
  {
   "cell_type": "code",
   "execution_count": null,
   "id": "56e8bd73-ab69-49e6-bcbd-5b98f0eda56d",
   "metadata": {
    "tags": []
   },
   "outputs": [],
   "source": [
    "df_new[ df_new['male']==1 ]"
   ]
  },
  {
   "cell_type": "code",
   "execution_count": null,
   "id": "65bde1de-1449-46fa-95c6-ae44aacac368",
   "metadata": {
    "tags": []
   },
   "outputs": [],
   "source": [
    "# альтернативно\n",
    "df_new.query(' `male`==1 ')"
   ]
  },
  {
   "cell_type": "markdown",
   "id": "1147a838-57f4-44cc-95c0-1f0649a2fd9a",
   "metadata": {
    "tags": []
   },
   "source": [
    "Сколько таких наблюдений? Посчитаем явно"
   ]
  },
  {
   "cell_type": "code",
   "execution_count": null,
   "id": "5edcfeb3-698a-4255-8edd-0a64a844787d",
   "metadata": {
    "tags": []
   },
   "outputs": [],
   "source": [
    "df_new[ df_new['male']==1 ].shape"
   ]
  },
  {
   "cell_type": "markdown",
   "id": "be08b7b9-9df0-4cc1-a4c5-6669b43f1082",
   "metadata": {},
   "source": [
    "Отберём теперь те наблюдения, для которых `male` равно 1 и `age`>50 (обратим внимание на индекс)"
   ]
  },
  {
   "cell_type": "code",
   "execution_count": null,
   "id": "76de5a4b-2aea-40b3-b271-45f9232f8331",
   "metadata": {
    "tags": []
   },
   "outputs": [],
   "source": [
    "df_new[ (df_new['male']==1) & (df_new['age']>50) ]"
   ]
  },
  {
   "cell_type": "code",
   "execution_count": null,
   "id": "34f392f0-5204-4d4e-84c1-310ba9f6c4eb",
   "metadata": {
    "tags": []
   },
   "outputs": [],
   "source": [
    "df_new.query(' `male`==1 & `age`>50 ')"
   ]
  },
  {
   "cell_type": "markdown",
   "id": "508d384d-209e-4e6f-b567-dda6283686b1",
   "metadata": {},
   "source": [
    "Вопрос: сколько наблюдения для которых male=1, union=0, totwrk<2500?\n",
    "\n",
    "Ответ"
   ]
  },
  {
   "cell_type": "code",
   "execution_count": null,
   "id": "51554b3a-f109-47ac-9370-20d56a94faee",
   "metadata": {
    "tags": []
   },
   "outputs": [],
   "source": [
    "df_new[ (df_new['male']==1) & (df_new['union']==0) & (df_new['totwrk']<2500)  ].shape"
   ]
  },
  {
   "cell_type": "markdown",
   "id": "40ead50c-2fcb-4620-bc82-bc38072c3e00",
   "metadata": {},
   "source": [
    "## Добавление столбцов\n",
    "\n",
    "добавим столбец с квадратом переменной age с названием age2"
   ]
  },
  {
   "cell_type": "code",
   "execution_count": null,
   "id": "846e1dd6-b8d5-4400-a2cd-d310e3eacc4a",
   "metadata": {
    "tags": []
   },
   "outputs": [],
   "source": [
    "df_new.loc[:, 'age2'] = df_new['age']**2\n",
    "df_new.head()"
   ]
  },
  {
   "cell_type": "code",
   "execution_count": null,
   "id": "30e65e21-141a-41cb-818d-e478924bfd19",
   "metadata": {
    "tags": []
   },
   "outputs": [],
   "source": [
    "# альтернативно\n",
    "df_new['totwrk2'] = df_new['totwrk']**2\n",
    "df_new.head()"
   ]
  }
 ],
 "metadata": {
  "kernelspec": {
   "display_name": "Python 3 (ipykernel)",
   "language": "python",
   "name": "python3"
  },
  "language_info": {
   "codemirror_mode": {
    "name": "ipython",
    "version": 3
   },
   "file_extension": ".py",
   "mimetype": "text/x-python",
   "name": "python",
   "nbconvert_exporter": "python",
   "pygments_lexer": "ipython3",
   "version": "3.11.6"
  }
 },
 "nbformat": 4,
 "nbformat_minor": 5
}
