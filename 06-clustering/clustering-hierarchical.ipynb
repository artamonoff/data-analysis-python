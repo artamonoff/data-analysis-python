{
 "cells": [
  {
   "cell_type": "markdown",
   "id": "97f3351d-5127-4809-9b92-6d41df011ca4",
   "metadata": {},
   "source": [
    "# Иерархическая кластеризация\n",
    "\n",
    "\n",
    "Используем реализацию [иерархической кластеризации](https://scikit-learn.org/stable/modules/clustering.html#hierarchical-clustering) в [scikit-learn](https://scikit-learn.org/stable/index.html) (метод [AgglomerativeClustering](https://scikit-learn.org/stable/modules/generated/sklearn.cluster.AgglomerativeClustering.html))"
   ]
  },
  {
   "cell_type": "code",
   "execution_count": null,
   "id": "d3262ef9-8171-4eb6-a0aa-4a4b4633b285",
   "metadata": {
    "tags": []
   },
   "outputs": [],
   "source": [
    "import pandas as pd\n",
    "import numpy as np\n",
    "\n",
    "from sklearn import preprocessing  # методы для предварительной обработки данных (нормирование etc)\n",
    "from sklearn.cluster import AgglomerativeClustering\n",
    "from sklearn import metrics\n",
    "\n",
    "from scipy.cluster.hierarchy import linkage, dendrogram # Построение дендрограммы\n",
    "\n",
    "import seaborn as sns # 2D-визуалиазция\n",
    "import plotly.express as px # 3D-визуалиазация\n",
    "import matplotlib.pyplot as plt"
   ]
  },
  {
   "cell_type": "code",
   "execution_count": null,
   "id": "3274c4af-3bc1-4e79-83e0-1d8adf48e072",
   "metadata": {
    "tags": []
   },
   "outputs": [],
   "source": [
    "data = pd.read_csv('Countries.csv', sep=';', decimal=',')\n",
    "data.head()"
   ]
  },
  {
   "cell_type": "code",
   "execution_count": null,
   "id": "86adfc63-4ec1-4fb5-a92e-a53652669c97",
   "metadata": {
    "tags": []
   },
   "outputs": [],
   "source": [
    "countries = list(data['Страны'])"
   ]
  },
  {
   "cell_type": "code",
   "execution_count": null,
   "id": "58fee5ed-f059-4576-b2d2-ed1935187d2a",
   "metadata": {
    "tags": []
   },
   "outputs": [],
   "source": [
    "# Удалим нечисловые переменные\n",
    "data = data.drop(columns=['Страны'])\n",
    "data"
   ]
  },
  {
   "cell_type": "markdown",
   "id": "4a6eccdb-9a88-49af-8de3-acd9a2ff0552",
   "metadata": {},
   "source": [
    "## Нормирование данных"
   ]
  },
  {
   "cell_type": "code",
   "execution_count": null,
   "id": "301ea625-7aca-427f-8d06-0e139145563c",
   "metadata": {
    "tags": []
   },
   "outputs": [],
   "source": [
    "data_norm = preprocessing.StandardScaler(with_mean=True, with_std=True).fit_transform(data)\n",
    "# data_norm = preprocessing.MinMaxScaler().fit_transform(data)\n",
    "# data_norm = preprocessing.RobustScaler().fit_transform(data)"
   ]
  },
  {
   "cell_type": "markdown",
   "id": "e1f22a01-284f-4d23-9400-bd0367136ccc",
   "metadata": {},
   "source": [
    "## Дендрограмма\n",
    "Дендрограмма существенно зависит от выбора расстояния.\n",
    "\n",
    "Нужно выбирать тот метод, который приведет к хорошо интерпретируемым кластерам"
   ]
  },
  {
   "cell_type": "code",
   "execution_count": null,
   "id": "b1605012-1afd-46a4-836d-2e84a7b029e5",
   "metadata": {
    "tags": []
   },
   "outputs": [],
   "source": [
    "mergings = linkage(data_norm, method='ward')  # попробуем прогнать несколько раз, меняя method"
   ]
  },
  {
   "cell_type": "code",
   "execution_count": null,
   "id": "92323beb-813b-48cd-9187-8704d86272e6",
   "metadata": {
    "tags": []
   },
   "outputs": [],
   "source": [
    "plt.figure(figsize=(25, 25))  # размер картинки\n",
    "\n",
    "dendrogram(mergings,\n",
    "           labels=countries,\n",
    "           leaf_rotation=90,\n",
    "           leaf_font_size=20,\n",
    "           )\n",
    "\n",
    "plt.show()"
   ]
  },
  {
   "cell_type": "markdown",
   "id": "4d044cac-297c-4d8a-b800-01b262bdd0bb",
   "metadata": {},
   "source": [
    "## Кластеризация"
   ]
  },
  {
   "cell_type": "code",
   "execution_count": null,
   "id": "6118afe6-78a1-4f2f-9afd-bdfa13f98b5a",
   "metadata": {
    "tags": []
   },
   "outputs": [],
   "source": [
    "# Специфицируем процедуру\n",
    "cluster = AgglomerativeClustering(n_clusters=3, metric='euclidean', \n",
    "                                  linkage='ward', compute_full_tree=True, distance_threshold=None)\n",
    "# проводим кластеризацию\n",
    "cl = cluster.fit_predict(data_norm)\n",
    "\n",
    "print(cl)"
   ]
  },
  {
   "cell_type": "markdown",
   "id": "b49f540b-71d0-4709-a162-27242b3fa7b5",
   "metadata": {},
   "source": [
    "## Метрики кластеризации\n",
    "[Основные метрики](https://scikit-learn.org/stable/modules/clustering.html#clustering-performance-evaluation)\n",
    "| Метрика |Метод |Критерий|\n",
    "|-|-|-|\n",
    "|Silhouette Coefficient|silhouette_score| max|\n",
    "|Calinski-Harabasz|calinski_harabasz_score|max|\n",
    "|Davies-Bouldin|davies_bouldin_score|min|"
   ]
  },
  {
   "cell_type": "code",
   "execution_count": null,
   "id": "c522c432-b2b4-421e-aa3c-d4e18c6f1fcc",
   "metadata": {},
   "outputs": [],
   "source": [
    "print('Silhouette Score=', metrics.silhouette_score(data_norm, cl))\n",
    "print('Calinski-Harabasz Score=', metrics.calinski_harabasz_score(data_norm, cl))\n",
    "print('Davies-Bouldin Score=', metrics.davies_bouldin_score(data_norm, cl))"
   ]
  },
  {
   "cell_type": "markdown",
   "id": "29cfa9b3-5036-421c-be06-cc53cf119d25",
   "metadata": {
    "tags": []
   },
   "source": [
    "## Визуализация\n",
    "используем библиотеки [seaborn](https://seaborn.pydata.org/index.html) и [plotly](https://plotly.com/python/)"
   ]
  },
  {
   "cell_type": "code",
   "execution_count": null,
   "id": "fca6114f-a8e5-4258-9f16-d1baa32ab4c0",
   "metadata": {
    "tags": []
   },
   "outputs": [],
   "source": [
    "data['Cluster'] = cl\n",
    "data.head()"
   ]
  },
  {
   "cell_type": "code",
   "execution_count": null,
   "id": "c4f5506e-3e8a-4389-a9f5-6b6ba7149635",
   "metadata": {
    "tags": []
   },
   "outputs": [],
   "source": [
    "sns.scatterplot(data=data, x='ИРЧП', y='Население', hue='Cluster')"
   ]
  },
  {
   "cell_type": "code",
   "execution_count": null,
   "id": "8b425ac4-1055-4831-9331-a9f6b92edd51",
   "metadata": {
    "tags": []
   },
   "outputs": [],
   "source": [
    "sns.scatterplot(data=data, x='ИРЧП', y='ВВП д/н', hue='Cluster')"
   ]
  },
  {
   "cell_type": "code",
   "execution_count": null,
   "id": "fe8732d8-fe5e-4326-928c-ce733c69c236",
   "metadata": {
    "tags": []
   },
   "outputs": [],
   "source": [
    "fig = px.scatter_3d(data, x='ИРЧП', y='ВВП д/н', z='Безработица (%)', color='Cluster')\n",
    "fig.update_traces(marker_size=3)\n",
    "fig.show()"
   ]
  },
  {
   "cell_type": "code",
   "execution_count": null,
   "id": "d7011ec1-1ebc-46a2-81db-f84d0a16fb20",
   "metadata": {},
   "outputs": [],
   "source": []
  }
 ],
 "metadata": {
  "kernelspec": {
   "display_name": "Python 3 (ipykernel)",
   "language": "python",
   "name": "python3"
  },
  "language_info": {
   "codemirror_mode": {
    "name": "ipython",
    "version": 3
   },
   "file_extension": ".py",
   "mimetype": "text/x-python",
   "name": "python",
   "nbconvert_exporter": "python",
   "pygments_lexer": "ipython3",
   "version": "3.11.5"
  }
 },
 "nbformat": 4,
 "nbformat_minor": 5
}
