{
 "cells": [
  {
   "cell_type": "markdown",
   "id": "75210344-c3a1-49ec-bb94-37132f4602af",
   "metadata": {},
   "source": [
    "# Кластеризация методом DBSCAN\n",
    "Используем реализацию [DBSCAN](https://scikit-learn.org/stable/modules/clustering.html#dbscan) в [scikit-learn](https://scikit-learn.org/stable/index.html) (метод [DBSCAN](https://scikit-learn.org/stable/modules/generated/sklearn.cluster.DBSCAN.html#sklearn.cluster.DBSCAN))"
   ]
  },
  {
   "cell_type": "code",
   "execution_count": null,
   "id": "ac38bc12-a19c-4e85-9a9c-705152843100",
   "metadata": {
    "tags": []
   },
   "outputs": [],
   "source": [
    "import pandas as pd\n",
    "import numpy as np\n",
    "\n",
    "from sklearn import preprocessing  # методы для предварительной обработки данных (нормирование etc)\n",
    "from sklearn.cluster import DBSCAN\n",
    "\n",
    "import seaborn as sns # 2D-визуалиазция\n",
    "import plotly.express as px # 3D-визуалиазация"
   ]
  },
  {
   "cell_type": "code",
   "execution_count": null,
   "id": "ed7864d1-efeb-4bb6-9461-bc5038b2b6e6",
   "metadata": {
    "tags": []
   },
   "outputs": [],
   "source": [
    "data = pd.read_csv('Countries.csv', sep=';', decimal=',')\n",
    "data.head()"
   ]
  },
  {
   "cell_type": "code",
   "execution_count": null,
   "id": "4a32164c-e389-47ce-a7ce-5dabd9ad0c2b",
   "metadata": {
    "tags": []
   },
   "outputs": [],
   "source": [
    "# Удалим нечисловые переменные\n",
    "data = data.drop(columns=['Страны'])\n",
    "data"
   ]
  },
  {
   "cell_type": "markdown",
   "id": "2a42f17a-5c99-447d-b293-6d13935eb76e",
   "metadata": {},
   "source": [
    "## Нормирование данных"
   ]
  },
  {
   "cell_type": "code",
   "execution_count": null,
   "id": "1a99b367-5e52-4bf7-acfb-9ab9d0db4394",
   "metadata": {
    "tags": []
   },
   "outputs": [],
   "source": [
    "data_norm = preprocessing.StandardScaler(with_mean=True, with_std=True).fit_transform(data)\n",
    "# data_norm = preprocessing.MinMaxScaler().fit_transform(data)\n",
    "# data_norm = preprocessing.RobustScaler().fit_transform(data)"
   ]
  },
  {
   "cell_type": "markdown",
   "id": "8a549985-b0e0-40dc-824d-aeef9c17842c",
   "metadata": {},
   "source": [
    "## Кластеризация\n",
    "\n",
    "*Важно*: выбросы имею номер -1!"
   ]
  },
  {
   "cell_type": "code",
   "execution_count": null,
   "id": "14ffa1c2-9700-4dd6-8059-bc826490458f",
   "metadata": {
    "tags": []
   },
   "outputs": [],
   "source": [
    "# Специфицируем процедуру\n",
    "cluster = DBSCAN(eps=1, min_samples=3, metric='euclidean')\n",
    "# проводим кластеризацию\n",
    "cl = cluster.fit_predict(data_norm)\n",
    "\n",
    "print(cl)"
   ]
  },
  {
   "cell_type": "code",
   "execution_count": null,
   "id": "b8fcdc29-c66d-414a-8b04-a8d94d33ca6c",
   "metadata": {
    "tags": []
   },
   "outputs": [],
   "source": [
    "n_clusters_ = len(set(cl)) - (1 if -1 in cl else 0)\n",
    "n_noise_ = list(cl).count(-1)\n",
    "\n",
    "print('Estimated number of clusters: %d' % n_clusters_)\n",
    "print('Estimated number of noise points: %d' % n_noise_)"
   ]
  },
  {
   "cell_type": "markdown",
   "id": "d06c6b44-9550-48e5-aed6-f72346123b30",
   "metadata": {},
   "source": [
    "## Визуализация\n",
    "используем библиотеки [seaborn](https://seaborn.pydata.org/index.html) и [plotly](https://plotly.com/python/)"
   ]
  },
  {
   "cell_type": "code",
   "execution_count": null,
   "id": "e70accc9-4d82-4a5a-a5f0-9339ddd44f02",
   "metadata": {
    "tags": []
   },
   "outputs": [],
   "source": [
    "data['Cluster'] = cl\n",
    "data.head()"
   ]
  },
  {
   "cell_type": "code",
   "execution_count": null,
   "id": "ca1b4d2f-0d31-42e9-b11a-5252284e7ad2",
   "metadata": {
    "tags": []
   },
   "outputs": [],
   "source": [
    "sns.scatterplot(data=data, x='ИРЧП', y='Население', hue='Cluster')"
   ]
  },
  {
   "cell_type": "code",
   "execution_count": null,
   "id": "b436b61e-56d0-45ea-9dcf-a5cde9341123",
   "metadata": {
    "tags": []
   },
   "outputs": [],
   "source": [
    "sns.scatterplot(data=data, x='ИРЧП', y='ВВП д/н', hue='Cluster')"
   ]
  },
  {
   "cell_type": "code",
   "execution_count": null,
   "id": "d6de2a96-078a-45d0-a6f1-5b1827902ef0",
   "metadata": {
    "tags": []
   },
   "outputs": [],
   "source": [
    "fig = px.scatter_3d(data, x='ИРЧП', y='ВВП д/н', z='Безработица (%)', color='Cluster')\n",
    "fig.update_traces(marker_size=3)\n",
    "fig.show()"
   ]
  },
  {
   "cell_type": "code",
   "execution_count": null,
   "id": "90647aab-8a7d-4dec-81b0-fbea98f134ed",
   "metadata": {},
   "outputs": [],
   "source": []
  }
 ],
 "metadata": {
  "kernelspec": {
   "display_name": "Python 3 (ipykernel)",
   "language": "python",
   "name": "python3"
  },
  "language_info": {
   "codemirror_mode": {
    "name": "ipython",
    "version": 3
   },
   "file_extension": ".py",
   "mimetype": "text/x-python",
   "name": "python",
   "nbconvert_exporter": "python",
   "pygments_lexer": "ipython3",
   "version": "3.11.5"
  }
 },
 "nbformat": 4,
 "nbformat_minor": 5
}
