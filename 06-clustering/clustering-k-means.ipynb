{
 "cells": [
  {
   "cell_type": "markdown",
   "id": "b341f108-4e06-4262-892a-da4673368a00",
   "metadata": {},
   "source": [
    "# Кластеризация методом k-средних\n",
    "Используем реализацию [k-средних](https://scikit-learn.org/stable/modules/clustering.html#k-means) в [scikit-learn](https://scikit-learn.org/stable/index.html) (метод [KMeans](https://scikit-learn.org/stable/modules/generated/sklearn.cluster.KMeans.html#sklearn.cluster.KMeans))"
   ]
  },
  {
   "cell_type": "code",
   "execution_count": null,
   "id": "1732753c-d054-4c7b-8cad-02d8fb28d54c",
   "metadata": {
    "tags": []
   },
   "outputs": [],
   "source": [
    "import pandas as pd\n",
    "import numpy as np\n",
    "\n",
    "from sklearn import preprocessing  # методы для предварительной обработки данных (нормирование etc)\n",
    "from sklearn.cluster import KMeans\n",
    "from sklearn import metrics\n",
    "\n",
    "import seaborn as sns # 2D-визуалиазция\n",
    "import plotly.express as px # 3D-визуалиазация"
   ]
  },
  {
   "cell_type": "code",
   "execution_count": null,
   "id": "8fe7b717-f586-46fb-961d-0c94bf04e62d",
   "metadata": {
    "tags": []
   },
   "outputs": [],
   "source": [
    "data = pd.read_csv('Countries.csv', sep=';', decimal=',')\n",
    "data.head()"
   ]
  },
  {
   "cell_type": "code",
   "execution_count": null,
   "id": "d5700e3a-d07f-49e4-99bf-9a9b30583d08",
   "metadata": {
    "tags": []
   },
   "outputs": [],
   "source": [
    "# Удалим нечисловые переменные\n",
    "data = data.drop(columns=['Страны'])\n",
    "data"
   ]
  },
  {
   "cell_type": "markdown",
   "id": "c0d3168b-abdc-4791-bb53-01fc11a78fc3",
   "metadata": {},
   "source": [
    "## Нормирование данных"
   ]
  },
  {
   "cell_type": "code",
   "execution_count": null,
   "id": "0021bf99-8c5c-471b-aea8-f1af0dc5d26f",
   "metadata": {
    "tags": []
   },
   "outputs": [],
   "source": [
    "data_norm = preprocessing.StandardScaler().fit_transform(data)\n",
    "# data_norm = preprocessing.MinMaxScaler().fit_transform(data)\n",
    "# data_norm = preprocessing.RobustScaler().fit_transform(data)"
   ]
  },
  {
   "cell_type": "markdown",
   "id": "15639525-bda3-4172-9888-4ce50f78aaa8",
   "metadata": {},
   "source": [
    "## Кластеризация"
   ]
  },
  {
   "cell_type": "code",
   "execution_count": null,
   "id": "0b9cb4a4-9db8-4303-8b54-825fe5c6776c",
   "metadata": {
    "tags": []
   },
   "outputs": [],
   "source": [
    "# Специфицируем процедуру\n",
    "cluster = KMeans(n_clusters=3, init='random')\n",
    "# проводим кластеризацию\n",
    "cl = cluster.fit_predict(data_norm)\n",
    "\n",
    "print(cl)"
   ]
  },
  {
   "cell_type": "markdown",
   "id": "3e97053e-d800-4bc2-9562-fbf8805d5eed",
   "metadata": {},
   "source": [
    "## Метрики кластеризации\n",
    "[Основные метрики](https://scikit-learn.org/stable/modules/clustering.html#clustering-performance-evaluation)\n",
    "| Метрика |Метод |Критерий|\n",
    "|-|-|-|\n",
    "|Silhouette Coefficient|silhouette_score| max|\n",
    "|Calinski-Harabasz|calinski_harabasz_score|max|\n",
    "|Davies-Bouldin|davies_bouldin_score|min|"
   ]
  },
  {
   "cell_type": "code",
   "execution_count": null,
   "id": "6b819d09-2838-4c1c-8fcf-3446fbd57171",
   "metadata": {
    "tags": []
   },
   "outputs": [],
   "source": [
    "print('Silhouette Score=', metrics.silhouette_score(data_norm, cl))\n",
    "print('Calinski-Harabasz Score=', metrics.calinski_harabasz_score(data_norm, cl))\n",
    "print('Davies-Bouldin Score=', metrics.davies_bouldin_score(data_norm, cl))"
   ]
  },
  {
   "cell_type": "code",
   "execution_count": null,
   "id": "381fb327-1348-4fba-88a6-a7d3909ac3b1",
   "metadata": {},
   "outputs": [],
   "source": [
    "# metrics.silhouette_samples(data_norm, cl) # для каждого наблюдения"
   ]
  },
  {
   "cell_type": "markdown",
   "id": "45878910-92a4-410a-8f70-19a02817927e",
   "metadata": {},
   "source": [
    "## Визуализация\n",
    "используем библиотеки [seaborn](https://seaborn.pydata.org/index.html) и [plotly](https://plotly.com/python/)"
   ]
  },
  {
   "cell_type": "code",
   "execution_count": null,
   "id": "5f1909f1-e722-49d3-ae49-bc8fa0d9956c",
   "metadata": {
    "tags": []
   },
   "outputs": [],
   "source": [
    "data['Cluster'] = cl\n",
    "data.head()"
   ]
  },
  {
   "cell_type": "code",
   "execution_count": null,
   "id": "d21954b2-9cb2-4382-9845-b0237c9aef79",
   "metadata": {
    "tags": []
   },
   "outputs": [],
   "source": [
    "sns.scatterplot(data=data, x='ИРЧП', y='Население', hue='Cluster')"
   ]
  },
  {
   "cell_type": "code",
   "execution_count": null,
   "id": "2dfc3e2a-2ccc-41d9-bf99-4866ed18fece",
   "metadata": {
    "tags": []
   },
   "outputs": [],
   "source": [
    "sns.scatterplot(data=data, x='ИРЧП', y='ВВП д/н', hue='Cluster')"
   ]
  },
  {
   "cell_type": "code",
   "execution_count": null,
   "id": "ff2ce78d-df79-4ec9-b51e-650d14be81cf",
   "metadata": {
    "tags": []
   },
   "outputs": [],
   "source": [
    "fig = px.scatter_3d(data, x='ИРЧП', y='ВВП д/н', z='Безработица (%)', color='Cluster')\n",
    "fig.update_traces(marker_size=3)\n",
    "fig.show()"
   ]
  },
  {
   "cell_type": "code",
   "execution_count": null,
   "id": "88e01a81-69b8-4260-880b-6f471dc93403",
   "metadata": {},
   "outputs": [],
   "source": []
  }
 ],
 "metadata": {
  "kernelspec": {
   "display_name": "Python 3 (ipykernel)",
   "language": "python",
   "name": "python3"
  },
  "language_info": {
   "codemirror_mode": {
    "name": "ipython",
    "version": 3
   },
   "file_extension": ".py",
   "mimetype": "text/x-python",
   "name": "python",
   "nbconvert_exporter": "python",
   "pygments_lexer": "ipython3",
   "version": "3.11.5"
  }
 },
 "nbformat": 4,
 "nbformat_minor": 5
}
