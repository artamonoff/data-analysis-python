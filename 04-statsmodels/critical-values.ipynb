{
 "cells": [
  {
   "cell_type": "markdown",
   "metadata": {},
   "source": [
    "# Критические значения\n",
    "Для вычисления критических значения основных распределений используем библиотеку [`scipy.stats`](https://docs.scipy.org/doc/scipy/reference/stats.html)\n",
    "\n",
    "Основные распределение\n",
    "|Распределение|модуль в `scipy.stats`|\n",
    "|-|-|\n",
    "|Ст. нормальное|`norm`|\n",
    "|$\\chi^2_{df}$|`chi2`|\n",
    "|$t_{df}$|`t`|\n",
    "|$F_{df1,df2}$|`f`|"
   ]
  },
  {
   "cell_type": "code",
   "execution_count": 1,
   "metadata": {},
   "outputs": [],
   "source": [
    "from scipy.stats import norm, chi2, t, f"
   ]
  },
  {
   "cell_type": "code",
   "execution_count": null,
   "metadata": {},
   "outputs": [],
   "source": []
  }
 ],
 "metadata": {
  "kernelspec": {
   "display_name": "base",
   "language": "python",
   "name": "python3"
  },
  "language_info": {
   "codemirror_mode": {
    "name": "ipython",
    "version": 3
   },
   "file_extension": ".py",
   "mimetype": "text/x-python",
   "name": "python",
   "nbconvert_exporter": "python",
   "pygments_lexer": "ipython3",
   "version": "3.11.6"
  }
 },
 "nbformat": 4,
 "nbformat_minor": 2
}
