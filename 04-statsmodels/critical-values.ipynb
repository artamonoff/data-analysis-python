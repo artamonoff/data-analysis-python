{
 "cells": [
  {
   "cell_type": "markdown",
   "metadata": {},
   "source": [
    "# Критические значения\n",
    "Для вычисления критических значения основных распределений используем библиотеку [`scipy.stats`](https://docs.scipy.org/doc/scipy/reference/stats.html)\n",
    "\n",
    "Основные распределение\n",
    "|Распределение|модуль в `scipy.stats`|\n",
    "|-|-|\n",
    "|Ст. нормальное|`norm`|\n",
    "|$\\chi^2_{df}$|`chi2`|\n",
    "|$t_{df}$|`t`|\n",
    "|$F_{df1,df2}$|`f`|\n",
    "\n",
    "**Важно** для всех распределений для вычисления критических значений нужно использовать метод `.ppf(q,...)`"
   ]
  },
  {
   "cell_type": "code",
   "execution_count": 1,
   "metadata": {},
   "outputs": [],
   "source": [
    "from scipy.stats import norm, chi2, t, f"
   ]
  },
  {
   "cell_type": "markdown",
   "metadata": {},
   "source": [
    "## Критическое значение стандартного нормального распределения "
   ]
  },
  {
   "cell_type": "code",
   "execution_count": 2,
   "metadata": {},
   "outputs": [
    {
     "data": {
      "text/plain": [
       "1.959963984540054"
      ]
     },
     "execution_count": 2,
     "metadata": {},
     "output_type": "execute_result"
    }
   ],
   "source": [
    "# Зададим уровень значимости. Например 5%\n",
    "alpha = 0.05\n",
    "\n",
    "# Критическое\n",
    "norm.ppf(q=1-alpha/2)"
   ]
  },
  {
   "cell_type": "markdown",
   "metadata": {},
   "source": [
    "## Критическое значение $\\chi^2$-распределения"
   ]
  },
  {
   "cell_type": "code",
   "execution_count": 3,
   "metadata": {},
   "outputs": [
    {
     "data": {
      "text/plain": [
       "11.070497693516351"
      ]
     },
     "execution_count": 3,
     "metadata": {},
     "output_type": "execute_result"
    }
   ],
   "source": [
    "# Зададим уровень значимости и степени свободы. Например 5% и df=5\n",
    "alpha = 0.05\n",
    "\n",
    "# Критическое\n",
    "chi2.ppf(q=1-alpha, df=5)"
   ]
  },
  {
   "cell_type": "markdown",
   "metadata": {},
   "source": [
    "## Критическое значение t-распределения"
   ]
  },
  {
   "cell_type": "code",
   "execution_count": 4,
   "metadata": {},
   "outputs": [
    {
     "data": {
      "text/plain": [
       "1.66023432606575"
      ]
     },
     "execution_count": 4,
     "metadata": {},
     "output_type": "execute_result"
    }
   ],
   "source": [
    "# Зададим уровень значимости и степени свободы. Например 10% и df=100\n",
    "alpha = 0.10\n",
    "\n",
    "# Критическое\n",
    "t.ppf(q=1-alpha/2, df=100)"
   ]
  },
  {
   "cell_type": "markdown",
   "metadata": {},
   "source": [
    "## Критическое значение F-распределения"
   ]
  },
  {
   "cell_type": "code",
   "execution_count": 5,
   "metadata": {},
   "outputs": [
    {
     "data": {
      "text/plain": [
       "3.88102177262219"
      ]
     },
     "execution_count": 5,
     "metadata": {},
     "output_type": "execute_result"
    }
   ],
   "source": [
    "# Зададим уровень значимости и две степени свободы. Например 1% и df1=dfn=3, df2=dfd=200\n",
    "alpha = 0.01\n",
    "\n",
    "# Критическое\n",
    "f.ppf(q=1-alpha, dfn=3, dfd=200)"
   ]
  },
  {
   "cell_type": "code",
   "execution_count": null,
   "metadata": {},
   "outputs": [],
   "source": []
  }
 ],
 "metadata": {
  "kernelspec": {
   "display_name": "Python 3 (ipykernel)",
   "language": "python",
   "name": "python3"
  },
  "language_info": {
   "codemirror_mode": {
    "name": "ipython",
    "version": 3
   },
   "file_extension": ".py",
   "mimetype": "text/x-python",
   "name": "python",
   "nbconvert_exporter": "python",
   "pygments_lexer": "ipython3",
   "version": "3.11.5"
  }
 },
 "nbformat": 4,
 "nbformat_minor": 4
}
