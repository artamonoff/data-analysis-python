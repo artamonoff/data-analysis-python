{
 "cells": [
  {
   "cell_type": "markdown",
   "id": "0e48af12-eaf2-4823-a2fd-88b96bd21f58",
   "metadata": {},
   "source": [
    "# Регрессия с Statsmodels. Диагностика"
   ]
  },
  {
   "cell_type": "code",
   "execution_count": 14,
   "id": "d82f37d4-f956-4078-b6d5-6276ce36326d",
   "metadata": {},
   "outputs": [],
   "source": [
    "import numpy as np\n",
    "import pandas as pd\n",
    "\n",
    "import statsmodels.formula.api as smf\n",
    "from statsmodels.stats import diagnostic # диагностика модели\n",
    "from statsmodels.stats.stattools import durbin_watson\n",
    "\n",
    "from statsmodels.iolib.summary2 import summary_col"
   ]
  },
  {
   "cell_type": "markdown",
   "id": "379d7aa8",
   "metadata": {},
   "source": [
    "## Пример: гетероскедастичность для sleep equation"
   ]
  },
  {
   "cell_type": "code",
   "execution_count": 2,
   "id": "45a513bd",
   "metadata": {},
   "outputs": [],
   "source": [
    "df = pd.read_csv('sleep75.csv')"
   ]
  },
  {
   "cell_type": "markdown",
   "id": "ccc444d7",
   "metadata": {},
   "source": [
    "На датасете/датафрейме `df` подгоним регрессия `sleep` на `totwrk, age, age^2, male, smsa, marr`."
   ]
  },
  {
   "cell_type": "code",
   "execution_count": 3,
   "id": "6b319fc8",
   "metadata": {},
   "outputs": [],
   "source": [
    "# инициализация/спецификация модели через формулу\n",
    "# создаём объект класса OLS\n",
    "mod = smf.ols(formula='sleep~totwrk+age+I(age**2)+male+smsa+marr', data=df)\n",
    "\n",
    "# подгонка специфицированной модели на данных с неробастной ковариационной матрицей для коэффициентов\n",
    "# создаём объект класса RegressionResults\n",
    "res = mod.fit()"
   ]
  },
  {
   "cell_type": "code",
   "execution_count": 4,
   "id": "cdf577e0",
   "metadata": {},
   "outputs": [
    {
     "data": {
      "text/plain": [
       "(8.421166040057434,\n",
       " 0.20884214179658228,\n",
       " 1.4063870574992607,\n",
       " 0.20946231383258354)"
      ]
     },
     "execution_count": 4,
     "metadata": {},
     "output_type": "execute_result"
    }
   ],
   "source": [
    "# тест на гетероскедастичность\n",
    "diagnostic.het_breuschpagan(res.resid, exog_het=mod.exog)"
   ]
  },
  {
   "cell_type": "markdown",
   "id": "c3e05540",
   "metadata": {},
   "source": [
    "## Пример: серийная корреляция"
   ]
  },
  {
   "cell_type": "code",
   "execution_count": 5,
   "id": "26a57d57",
   "metadata": {},
   "outputs": [],
   "source": [
    "df= pd.read_csv('Mishkin.csv')"
   ]
  },
  {
   "cell_type": "markdown",
   "id": "f8b0b4e4",
   "metadata": {},
   "source": [
    "На датасете/датафрейме `df` подгоним регрессия `pai3` на `tb1, tb3`."
   ]
  },
  {
   "cell_type": "code",
   "execution_count": 6,
   "id": "b72e8679",
   "metadata": {},
   "outputs": [],
   "source": [
    "# инициализация/спецификация модели через формулу\n",
    "# создаём объект класса OLS\n",
    "mod = smf.ols(formula='pai3~tb1+tb3', data=df)\n",
    "\n",
    "# подгонка специфицированной модели на данных с неробастной ковариационной матрицей для коэффициентов\n",
    "# создаём объект класса RegressionResults\n",
    "res = mod.fit()"
   ]
  },
  {
   "cell_type": "code",
   "execution_count": 7,
   "id": "86328bb3",
   "metadata": {},
   "outputs": [
    {
     "data": {
      "text/plain": [
       "(369.14827506022044,\n",
       " 6.9258099284231825e-81,\n",
       " 736.1654575178613,\n",
       " 8.400323459468088e-148)"
      ]
     },
     "execution_count": 7,
     "metadata": {},
     "output_type": "execute_result"
    }
   ],
   "source": [
    "diagnostic.acorr_breusch_godfrey(res=res, nlags=2)"
   ]
  },
  {
   "cell_type": "code",
   "execution_count": 8,
   "id": "187a14e5",
   "metadata": {},
   "outputs": [
    {
     "data": {
      "text/plain": [
       "0.2936716432769036"
      ]
     },
     "execution_count": 8,
     "metadata": {},
     "output_type": "execute_result"
    }
   ],
   "source": [
    "# Статистика Durbin-Watson\n",
    "durbin_watson(resids=res.resid)"
   ]
  },
  {
   "cell_type": "code",
   "execution_count": 12,
   "id": "b6b3b0a5-2e88-47b4-9cb0-662371502704",
   "metadata": {},
   "outputs": [],
   "source": [
    "res_hac = mod.fit(cov_type='HAC', cov_kwds={'maxlags': 3})"
   ]
  },
  {
   "cell_type": "code",
   "execution_count": 16,
   "id": "7d4fb284-a694-42ea-889b-b179f1c3937a",
   "metadata": {},
   "outputs": [
    {
     "data": {
      "text/html": [
       "<table class=\"simpletable\">\n",
       "<tr>\n",
       "         <td></td>        <th>non-robust</th>  <th>robust</th> \n",
       "</tr>\n",
       "<tr>\n",
       "  <th>Intercept</th>       <td>0.9726***</td> <td>0.9726**</td>\n",
       "</tr>\n",
       "<tr>\n",
       "  <th></th>                <td>(0.2404)</td>  <td>(0.4803)</td>\n",
       "</tr>\n",
       "<tr>\n",
       "  <th>tb1</th>              <td>0.6081*</td>   <td>0.6081</td> \n",
       "</tr>\n",
       "<tr>\n",
       "  <th></th>                <td>(0.3166)</td>  <td>(0.4512)</td>\n",
       "</tr>\n",
       "<tr>\n",
       "  <th>tb3</th>              <td>0.0012</td>    <td>0.0012</td> \n",
       "</tr>\n",
       "<tr>\n",
       "  <th></th>                <td>(0.3016)</td>  <td>(0.4472)</td>\n",
       "</tr>\n",
       "<tr>\n",
       "  <th>R-squared</th>        <td>0.3255</td>    <td>0.3255</td> \n",
       "</tr>\n",
       "<tr>\n",
       "  <th>R-squared Adj.</th>   <td>0.3227</td>    <td>0.3227</td> \n",
       "</tr>\n",
       "<tr>\n",
       "  <th>F</th>               <td>117.7228</td>   <td>31.3701</td>\n",
       "</tr>\n",
       "<tr>\n",
       "  <th>Nobs</th>            <td>491.0000</td>  <td>491.0000</td>\n",
       "</tr>\n",
       "</table><br/>\n",
       "Standard errors in parentheses.<br/>\n",
       "* p<.1, ** p<.05, ***p<.01"
      ],
      "text/latex": [
       "\\begin{table}\n",
       "\\caption{}\n",
       "\\label{}\n",
       "\\begin{center}\n",
       "\\begin{tabular}{lll}\n",
       "\\hline\n",
       "               & non-robust & robust    \\\\\n",
       "\\hline\n",
       "Intercept      & 0.9726***  & 0.9726**  \\\\\n",
       "               & (0.2404)   & (0.4803)  \\\\\n",
       "tb1            & 0.6081*    & 0.6081    \\\\\n",
       "               & (0.3166)   & (0.4512)  \\\\\n",
       "tb3            & 0.0012     & 0.0012    \\\\\n",
       "               & (0.3016)   & (0.4472)  \\\\\n",
       "R-squared      & 0.3255     & 0.3255    \\\\\n",
       "R-squared Adj. & 0.3227     & 0.3227    \\\\\n",
       "F              & 117.7228   & 31.3701   \\\\\n",
       "Nobs           & 491.0000   & 491.0000  \\\\\n",
       "\\hline\n",
       "\\end{tabular}\n",
       "\\end{center}\n",
       "\\end{table}\n",
       "\\bigskip\n",
       "Standard errors in parentheses. \\newline \n",
       "* p<.1, ** p<.05, ***p<.01"
      ],
      "text/plain": [
       "<class 'statsmodels.iolib.summary2.Summary'>\n",
       "\"\"\"\n",
       "\n",
       "==================================\n",
       "               non-robust  robust \n",
       "----------------------------------\n",
       "Intercept      0.9726***  0.9726**\n",
       "               (0.2404)   (0.4803)\n",
       "tb1            0.6081*    0.6081  \n",
       "               (0.3166)   (0.4512)\n",
       "tb3            0.0012     0.0012  \n",
       "               (0.3016)   (0.4472)\n",
       "R-squared      0.3255     0.3255  \n",
       "R-squared Adj. 0.3227     0.3227  \n",
       "F              117.7228   31.3701 \n",
       "Nobs           491.0000   491.0000\n",
       "==================================\n",
       "Standard errors in parentheses.\n",
       "* p<.1, ** p<.05, ***p<.01\n",
       "\"\"\""
      ]
     },
     "execution_count": 16,
     "metadata": {},
     "output_type": "execute_result"
    }
   ],
   "source": [
    "summary_col(results=[res, res_hac], model_names=['non-robust', 'robust'], stars=True, info_dict={'F': lambda x: x.fvalue, 'Nobs': lambda x: x.nobs})"
   ]
  },
  {
   "cell_type": "code",
   "execution_count": null,
   "id": "4668282b-bc86-43f0-8dbe-729843f44d0d",
   "metadata": {},
   "outputs": [],
   "source": []
  }
 ],
 "metadata": {
  "kernelspec": {
   "display_name": "Python 3 (ipykernel)",
   "language": "python",
   "name": "python3"
  },
  "language_info": {
   "codemirror_mode": {
    "name": "ipython",
    "version": 3
   },
   "file_extension": ".py",
   "mimetype": "text/x-python",
   "name": "python",
   "nbconvert_exporter": "python",
   "pygments_lexer": "ipython3",
   "version": "3.11.5"
  }
 },
 "nbformat": 4,
 "nbformat_minor": 5
}
