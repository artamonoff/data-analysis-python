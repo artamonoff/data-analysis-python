{
 "cells": [
  {
   "cell_type": "markdown",
   "id": "0e48af12-eaf2-4823-a2fd-88b96bd21f58",
   "metadata": {},
   "source": [
    "# Регрессия с Statsmodels. Диагностика"
   ]
  },
  {
   "cell_type": "code",
   "execution_count": null,
   "id": "d82f37d4-f956-4078-b6d5-6276ce36326d",
   "metadata": {},
   "outputs": [],
   "source": [
    "import numpy as np\n",
    "import pandas as pd\n",
    "\n",
    "import statsmodels.formula.api as smf\n",
    "from statsmodels.stats import diagnostic # диагностика модели\n",
    "from statsmodels.stats.stattools import durbin_watson"
   ]
  },
  {
   "cell_type": "markdown",
   "id": "379d7aa8",
   "metadata": {},
   "source": [
    "## Пример: гетероскедастичность для sleep equation"
   ]
  },
  {
   "cell_type": "code",
   "execution_count": null,
   "id": "45a513bd",
   "metadata": {},
   "outputs": [],
   "source": [
    "df = pd.read_csv('sleep75.csv')"
   ]
  },
  {
   "cell_type": "markdown",
   "id": "ccc444d7",
   "metadata": {},
   "source": [
    "На датасете/датафрейме `df` подгоним регрессия `sleep` на `totwrk, age, age^2, male, smsa, marr`."
   ]
  },
  {
   "cell_type": "code",
   "execution_count": null,
   "id": "6b319fc8",
   "metadata": {},
   "outputs": [],
   "source": [
    "# инициализация/спецификация модели через формулу\n",
    "# создаём объект класса OLS\n",
    "mod = smf.ols(formula='sleep~totwrk+age+I(age**2)+male+smsa+marr', data=df)\n",
    "\n",
    "# подгонка специфицированной модели на данных с неробастной ковариационной матрицей для коэффициентов\n",
    "# создаём объект класса RegressionResults\n",
    "res = mod.fit()"
   ]
  },
  {
   "cell_type": "code",
   "execution_count": null,
   "id": "cdf577e0",
   "metadata": {},
   "outputs": [],
   "source": [
    "# тест на гетероскедастичность\n",
    "diagnostic.het_breuschpagan(res.resid, exog_het=mod.exog)"
   ]
  },
  {
   "cell_type": "markdown",
   "id": "c3e05540",
   "metadata": {},
   "source": [
    "## Пример: серийная корреляция"
   ]
  },
  {
   "cell_type": "code",
   "execution_count": null,
   "id": "26a57d57",
   "metadata": {},
   "outputs": [],
   "source": [
    "df= pd.read_csv('Mishkin.csv')"
   ]
  },
  {
   "cell_type": "markdown",
   "id": "f8b0b4e4",
   "metadata": {},
   "source": [
    "На датасете/датафрейме `df` подгоним регрессия `pai3` на `tb1, tb3`."
   ]
  },
  {
   "cell_type": "code",
   "execution_count": null,
   "id": "b72e8679",
   "metadata": {},
   "outputs": [],
   "source": [
    "# инициализация/спецификация модели через формулу\n",
    "# создаём объект класса OLS\n",
    "mod = smf.ols(formula='pai3~tb1+tb3', data=df)\n",
    "\n",
    "# подгонка специфицированной модели на данных с неробастной ковариационной матрицей для коэффициентов\n",
    "# создаём объект класса RegressionResults\n",
    "res = mod.fit()"
   ]
  },
  {
   "cell_type": "code",
   "execution_count": null,
   "id": "86328bb3",
   "metadata": {},
   "outputs": [],
   "source": [
    "diagnostic.acorr_breusch_godfrey(res=res, nlags=2)"
   ]
  },
  {
   "cell_type": "code",
   "execution_count": null,
   "id": "187a14e5",
   "metadata": {},
   "outputs": [],
   "source": [
    "# Статистика Durbin-Watson\n",
    "durbin_watson(resids=res.resid)"
   ]
  }
 ],
 "metadata": {
  "kernelspec": {
   "display_name": "Python 3 (ipykernel)",
   "language": "python",
   "name": "python3"
  },
  "language_info": {
   "codemirror_mode": {
    "name": "ipython",
    "version": 3
   },
   "file_extension": ".py",
   "mimetype": "text/x-python",
   "name": "python",
   "nbconvert_exporter": "python",
   "pygments_lexer": "ipython3",
   "version": "3.11.6"
  }
 },
 "nbformat": 4,
 "nbformat_minor": 5
}
