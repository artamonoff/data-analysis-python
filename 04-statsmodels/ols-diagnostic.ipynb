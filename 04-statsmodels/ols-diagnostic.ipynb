{
 "cells": [
  {
   "cell_type": "markdown",
   "id": "0e48af12-eaf2-4823-a2fd-88b96bd21f58",
   "metadata": {},
   "source": [
    "# Регрессия с Statsmodels. Диагностика"
   ]
  },
  {
   "cell_type": "code",
   "execution_count": 1,
   "id": "d82f37d4-f956-4078-b6d5-6276ce36326d",
   "metadata": {},
   "outputs": [],
   "source": [
    "import numpy as np\n",
    "import pandas as pd\n",
    "\n",
    "import statsmodels.formula.api as smf\n",
    "from statsmodels.stats import diagnostic # диагностика модели"
   ]
  },
  {
   "cell_type": "code",
   "execution_count": null,
   "id": "1854398a-f763-40c8-8713-653c2f36d97c",
   "metadata": {},
   "outputs": [],
   "source": [
    "df = pd.read_csv('sleep75.csv')"
   ]
  },
  {
   "cell_type": "markdown",
   "id": "379d7aa8",
   "metadata": {},
   "source": [
    "## Пример: sleep equation\n",
    "\n",
    "На датасете/датафрейме `df` подгоним регрессия `sleep` на `totwrk, age, age^2, male, smsa, marr`."
   ]
  },
  {
   "cell_type": "code",
   "execution_count": null,
   "id": "6b319fc8",
   "metadata": {},
   "outputs": [],
   "source": [
    "# инициализация/спецификация модели через формулу\n",
    "# создаём объект класса OLS\n",
    "mod = sm.OLS.from_formula(formula='sleep~totwrk+age+I(age**2)+male+smsa+marr', data=df)\n",
    "\n",
    "# подгонка специфицированной модели на данных с неробастной ковариационной матрицей для коэффициентов\n",
    "# создаём объект класса RegressionResults\n",
    "res = mod.fit()"
   ]
  },
  {
   "cell_type": "code",
   "execution_count": null,
   "id": "cdf577e0",
   "metadata": {},
   "outputs": [],
   "source": [
    "# тест на гетероскедастичность\n",
    "diagnostic.het_breuschpagan(res.resid, exog_het=mod.exog)"
   ]
  }
 ],
 "metadata": {
  "kernelspec": {
   "display_name": "Python 3 (ipykernel)",
   "language": "python",
   "name": "python3"
  },
  "language_info": {
   "codemirror_mode": {
    "name": "ipython",
    "version": 3
   },
   "file_extension": ".py",
   "mimetype": "text/x-python",
   "name": "python",
   "nbconvert_exporter": "python",
   "pygments_lexer": "ipython3",
   "version": "3.11.6"
  }
 },
 "nbformat": 4,
 "nbformat_minor": 5
}
