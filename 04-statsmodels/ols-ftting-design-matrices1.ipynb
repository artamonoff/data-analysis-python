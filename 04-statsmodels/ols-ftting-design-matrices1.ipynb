{
 "cells": [
  {
   "cell_type": "markdown",
   "metadata": {},
   "source": [
    "# Регрессия с Statsmodels. Подгонка регрессии через матрицы дизайна (количественные переменные)"
   ]
  },
  {
   "cell_type": "code",
   "execution_count": null,
   "metadata": {},
   "outputs": [],
   "source": [
    "import numpy as np\n",
    "import pandas as pd\n",
    "\n",
    "import statsmodels.api as sm\n",
    "from statsmodels.api import add_constant"
   ]
  },
  {
   "cell_type": "code",
   "execution_count": null,
   "metadata": {},
   "outputs": [],
   "source": [
    "df = pd.read_csv('sleep75.csv')\n",
    "df.shape"
   ]
  },
  {
   "cell_type": "markdown",
   "metadata": {},
   "source": [
    "## Пример: sleep equation #1\n",
    "\n",
    "На датасете/датафрейме `df` подгоним регрессия `sleep` на `totwrk, age`. Спецификация (как уравнение)\n",
    "$$\n",
    "\tsleep=\\beta_0+\\beta_1 totwrk+\\beta_2 age+u\n",
    "$$"
   ]
  },
  {
   "cell_type": "code",
   "execution_count": null,
   "metadata": {},
   "outputs": [],
   "source": [
    "# инициализация/спецификация модели через матрицы регрессионного дизайна\n",
    "# задаём вектор наблюдений1 зависимой переменной y и матрицу наблюдений регрессоров (с первым столбом из единиц)\n",
    "y = df['sleep']\n",
    "X = add_constant(df[['totwrk', 'age']])\n",
    "\n",
    "# создаём объект класса OLS\n",
    "mod = sm.OLS(endog=y, exog=X)\n",
    "\n",
    "# подгонка специфицированной модели на данных с неробастной ковариационной матрицей для коэффициентов\n",
    "# создаём объект класса RegressionResults\n",
    "res = mod.fit()\n",
    "\n",
    "# выведем краткий протокол подгонки\n",
    "res.summary(slim=True)"
   ]
  }
 ],
 "metadata": {
  "language_info": {
   "name": "python"
  }
 },
 "nbformat": 4,
 "nbformat_minor": 2
}
