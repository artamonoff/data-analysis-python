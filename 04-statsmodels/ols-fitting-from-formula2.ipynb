{
 "cells": [
  {
   "cell_type": "markdown",
   "metadata": {},
   "source": [
    "# Регрессия с Statsmodels. Подгонка регрессии через формулу (категориальные переменные)"
   ]
  },
  {
   "cell_type": "code",
   "execution_count": null,
   "metadata": {},
   "outputs": [],
   "source": [
    "import numpy as np\n",
    "import pandas as pd\n",
    "\n",
    "import statsmodels.formula.api as smf\n",
    "\n",
    "import statsmodels.api as sm # только показать альтернативный способ"
   ]
  },
  {
   "cell_type": "code",
   "execution_count": null,
   "metadata": {},
   "outputs": [],
   "source": [
    "df = pd.read_csv('Diamond.csv')\n",
    "df.head()"
   ]
  },
  {
   "cell_type": "markdown",
   "metadata": {},
   "source": [
    "## Пример: diamond equation\n",
    "\n",
    "На датасете/датафрейме `df` подгоним регрессия `log(price)` на `log(carat), colour`. Спецификация (как уравнение)\n",
    "$$\n",
    "\t\\log(price)=\\beta_0+\\beta_1 \\log(carat)+\\beta_2 colour+u\n",
    "$$\n",
    "**Замечание**: `colour` является категориальной переменной"
   ]
  },
  {
   "cell_type": "code",
   "execution_count": null,
   "metadata": {},
   "outputs": [],
   "source": [
    "# описательные статистики для colour\n",
    "df.value_counts(subset='colour')"
   ]
  },
  {
   "cell_type": "code",
   "execution_count": null,
   "metadata": {},
   "outputs": [],
   "source": [
    "# инициализация/спецификация модели через формулу\n",
    "# создаём объект класса OLS\n",
    "mod = smf.ols(formula='np.log(price)~np.log(carat)+colour', data=df)\n",
    "\n",
    "# подгонка специфицированной модели на данных с неробастной ковариационной матрицей для коэффициентов\n",
    "# создаём объект класса RegressionResults\n",
    "res = mod.fit()\n",
    "\n",
    "# выведем краткий протокол подгонки\n",
    "res.summary(slim=True)"
   ]
  }
 ],
 "metadata": {
  "language_info": {
   "name": "python"
  }
 },
 "nbformat": 4,
 "nbformat_minor": 2
}
