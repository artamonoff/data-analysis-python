{
 "cells": [
  {
   "cell_type": "markdown",
   "metadata": {},
   "source": [
    "# Линейная регрессия с Statsmodels. Подгонка регрессии через формулу (категориальные переменные)"
   ]
  },
  {
   "cell_type": "code",
   "execution_count": null,
   "metadata": {},
   "outputs": [],
   "source": [
    "import numpy as np\n",
    "import pandas as pd\n",
    "\n",
    "import statsmodels.formula.api as smf\n",
    "\n",
    "import statsmodels.api as sm # только показать альтернативный способ"
   ]
  },
  {
   "cell_type": "code",
   "execution_count": null,
   "metadata": {},
   "outputs": [],
   "source": [
    "df = pd.read_csv('Diamond.csv')\n",
    "df.head()"
   ]
  },
  {
   "cell_type": "markdown",
   "metadata": {},
   "source": [
    "## Пример: diamond equation #1\n",
    "\n",
    "На датасете/датафрейме `df` подгоним регрессия `log(price)` на `log(carat), colour`. Спецификация (как уравнение)\n",
    "$$\n",
    "\t\\log(price)=\\beta_0+\\beta_1 \\log(carat)+\\beta_2 colour+u\n",
    "$$\n",
    "**Замечание**: `colour` является категориальной переменной"
   ]
  },
  {
   "cell_type": "code",
   "execution_count": null,
   "metadata": {},
   "outputs": [],
   "source": [
    "# описательные статистики для colour\n",
    "df.value_counts(subset='colour')"
   ]
  },
  {
   "cell_type": "code",
   "execution_count": null,
   "metadata": {},
   "outputs": [],
   "source": [
    "# инициализация/спецификация модели через формулу\n",
    "# создаём объект класса OLS\n",
    "mod = smf.ols(formula='np.log(price)~np.log(carat)+colour', data=df)\n",
    "\n",
    "# подгонка специфицированной модели на данных с неробастной ковариационной матрицей для коэффициентов\n",
    "# создаём объект класса RegressionResults\n",
    "res = mod.fit()\n",
    "\n",
    "# выведем краткий протокол подгонки\n",
    "res.summary(slim=True)"
   ]
  }
 ],
 "metadata": {
  "kernelspec": {
   "display_name": "Python 3 (ipykernel)",
   "language": "python",
   "name": "python3"
  },
  "language_info": {
   "codemirror_mode": {
    "name": "ipython",
    "version": 3
   },
   "file_extension": ".py",
   "mimetype": "text/x-python",
   "name": "python",
   "nbconvert_exporter": "python",
   "pygments_lexer": "ipython3",
   "version": "3.11.6"
  }
 },
 "nbformat": 4,
 "nbformat_minor": 4
}
