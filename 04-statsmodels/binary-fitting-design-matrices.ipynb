{
 "cells": [
  {
   "cell_type": "markdown",
   "metadata": {},
   "source": [
    "# Бинарная регрессия с Statsmodels. Подгонка регрессии через матрицы дизайна (количественные переменные)"
   ]
  },
  {
   "cell_type": "code",
   "execution_count": null,
   "metadata": {},
   "outputs": [],
   "source": [
    "import numpy as np\n",
    "import pandas as pd\n",
    "\n",
    "import statsmodels.api as sm"
   ]
  },
  {
   "cell_type": "code",
   "execution_count": null,
   "metadata": {},
   "outputs": [],
   "source": [
    "df = pd.read_csv('TableF5-1.csv')\n",
    "df.shape"
   ]
  },
  {
   "cell_type": "markdown",
   "metadata": {},
   "source": [
    "## Пример 1: logit-регрессия\n",
    "На датасете/датафрейме `df` подгоним регрессия `LFP` на `WA, WA^2, WE, log(FAMINC)`. Спецификация (как уравнение)\n",
    "$$\n",
    "\tP(LFP=1)=\\Lambda(\\beta_0+\\beta_1 WA+\\beta_2 WA^2+\\beta_3 WE+\\beta_4\\log(FAMINC))\n",
    "$$"
   ]
  },
  {
   "cell_type": "code",
   "execution_count": null,
   "metadata": {},
   "outputs": [],
   "source": [
    "# инициализация/спецификация модели через матрицы регрессионного дизайна\n",
    "# задаём вектор наблюдений зависимой переменной y \n",
    "y = df['LFP']\n",
    "# и матрицу наблюдений регрессоров X (с первым столбом из единиц), в которую вручную нужно добавить квадрат регрессора\n",
    "X = sm.add_constant(df[['WE', 'WA']])\n",
    "X['WA**2'] = df['WA']**2\n",
    "X['log(FAMINC)'] = np.log(df['FAMINC'])\n",
    "X"
   ]
  },
  {
   "cell_type": "code",
   "execution_count": null,
   "metadata": {},
   "outputs": [],
   "source": [
    "mod = sm.Logit(endog=y, exog=X, missing='drop')\n",
    "\n",
    "res = mod.fit()\n",
    "\n",
    "res.summary()"
   ]
  },
  {
   "cell_type": "markdown",
   "metadata": {},
   "source": [
    "## Пример 2: probit-регрессия\n",
    "На датасете/датафрейме `df` подгоним регрессия `LFP` на `WA, WA^2, WE, log(FAMINC)+CIT`. Спецификация (как уравнение)\n",
    "$$\n",
    "\tP(LFP=1)=\\Phi(\\beta_0+\\beta_1 WA+\\beta_2 WA^2+\\beta_3 WE+\\beta_4\\log(FAMINC)+\\beta_5 CIT)\n",
    "$$"
   ]
  },
  {
   "cell_type": "code",
   "execution_count": null,
   "metadata": {},
   "outputs": [],
   "source": [
    "# инициализация/спецификация модели через матрицы регрессионного дизайна\n",
    "# задаём вектор наблюдений зависимой переменной y \n",
    "y = df['LFP']\n",
    "# и матрицу наблюдений регрессоров X (с первым столбом из единиц), в которую вручную нужно добавить квадрат регрессора\n",
    "X = sm.add_constant(df[['WE', 'CIT', 'WA']])\n",
    "X['WA**2'] = df['WA']**2\n",
    "X['log(FAMINC)'] = np.log(df['FAMINC'])\n",
    "X"
   ]
  },
  {
   "cell_type": "code",
   "execution_count": null,
   "metadata": {},
   "outputs": [],
   "source": [
    "mod = sm.Probit(endog=y, exog=X, missing='drop')\n",
    "\n",
    "res = mod.fit()\n",
    "\n",
    "res.summary()"
   ]
  },
  {
   "cell_type": "code",
   "execution_count": null,
   "metadata": {},
   "outputs": [],
   "source": []
  }
 ],
 "metadata": {
  "kernelspec": {
   "display_name": "base",
   "language": "python",
   "name": "python3"
  },
  "language_info": {
   "codemirror_mode": {
    "name": "ipython",
    "version": 3
   },
   "file_extension": ".py",
   "mimetype": "text/x-python",
   "name": "python",
   "nbconvert_exporter": "python",
   "pygments_lexer": "ipython3",
   "version": "3.11.6"
  }
 },
 "nbformat": 4,
 "nbformat_minor": 2
}
