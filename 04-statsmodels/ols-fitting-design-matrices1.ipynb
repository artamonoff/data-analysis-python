{
 "cells": [
  {
   "cell_type": "markdown",
   "metadata": {},
   "source": [
    "# Линейная регрессия с Statsmodels. Подгонка регрессии через матрицы дизайна (количественные переменные)"
   ]
  },
  {
   "cell_type": "code",
   "execution_count": null,
   "metadata": {},
   "outputs": [],
   "source": [
    "import numpy as np\n",
    "import pandas as pd\n",
    "\n",
    "import statsmodels.api as sm"
   ]
  },
  {
   "cell_type": "code",
   "execution_count": null,
   "metadata": {},
   "outputs": [],
   "source": [
    "df = pd.read_csv('sleep75.csv')\n",
    "df.shape"
   ]
  },
  {
   "cell_type": "markdown",
   "metadata": {},
   "source": [
    "## Пример: sleep equation #1\n",
    "\n",
    "На датасете/датафрейме `df` подгоним регрессия `sleep` на `totwrk, age`. Спецификация (как уравнение)\n",
    "$$\n",
    "\tsleep=\\beta_0+\\beta_1 totwrk+\\beta_2 age+u\n",
    "$$"
   ]
  },
  {
   "cell_type": "code",
   "execution_count": null,
   "metadata": {},
   "outputs": [],
   "source": [
    "# инициализация/спецификация модели через матрицы регрессионного дизайна\n",
    "# задаём вектор наблюдений зависимой переменной y \n",
    "y = df['sleep']\n",
    "# и матрицу наблюдений регрессоров X (с первым столбом из единиц)\n",
    "X = sm.add_constant(df[['totwrk', 'age']])\n",
    "X"
   ]
  },
  {
   "cell_type": "code",
   "execution_count": null,
   "metadata": {},
   "outputs": [],
   "source": [
    "# создаём объект класса OLS. Параметр missing нужен для контроля пропущенных значений\n",
    "mod = sm.OLS(endog=y, exog=X, missing='drop')\n",
    "\n",
    "# подгонка специфицированной модели на данных с неробастной ковариационной матрицей для коэффициентов\n",
    "# создаём объект класса RegressionResults\n",
    "res = mod.fit()\n",
    "\n",
    "# выведем краткий протокол подгонки\n",
    "res.summary(slim=True)"
   ]
  },
  {
   "cell_type": "markdown",
   "metadata": {},
   "source": [
    "## Пример: sleep equation #2\n",
    "\n",
    "На датасете/датафрейме `df` подгоним регрессия `sleep` на `totwrk, age, age^2`. Спецификация (как уравнение)\n",
    "$$\n",
    "\tsleep=\\beta_0+\\beta_1 totwrk+\\beta_2 age+\\beta_3age^2+u\n",
    "$$"
   ]
  },
  {
   "cell_type": "code",
   "execution_count": null,
   "metadata": {},
   "outputs": [],
   "source": [
    "# инициализация/спецификация модели через матрицы регрессионного дизайна\n",
    "# задаём вектор наблюдений зависимой переменной y \n",
    "y = df['sleep']\n",
    "# и матрицу наблюдений регрессоров X (с первым столбом из единиц), в которую вручную нужно добавить квадрат регрессора\n",
    "X = sm.add_constant(df[['totwrk', 'age']])\n",
    "X['age**2'] = df['age']**2\n",
    "X"
   ]
  },
  {
   "cell_type": "code",
   "execution_count": null,
   "metadata": {},
   "outputs": [],
   "source": [
    "# создаём объект класса OLS. Параметр missing нужен для контроля пропущенных значений\n",
    "mod = sm.OLS(endog=y, exog=X, missing='drop')\n",
    "\n",
    "# подгонка специфицированной модели на данных с неробастной ковариационной матрицей для коэффициентов\n",
    "# создаём объект класса RegressionResults\n",
    "res = mod.fit()\n",
    "\n",
    "# выведем краткий протокол подгонки\n",
    "res.summary(slim=True)"
   ]
  },
  {
   "cell_type": "markdown",
   "metadata": {},
   "source": [
    "## Пример: sleep equation #3\n",
    "\n",
    "На датасете/датафрейме `df` подгоним регрессия `sleep` на `totwrk, age, age^2, log(hrwage)`. Спецификация (как уравнение)\n",
    "$$\n",
    "\tsleep=\\beta_0+\\beta_1 totwrk+\\beta_2 age+\\beta_3age^2+\\beta_4\\log(hrwage)+u\n",
    "$$\n",
    "**Замечание** обратим внимание на наличие пропущенных значений"
   ]
  },
  {
   "cell_type": "code",
   "execution_count": null,
   "metadata": {},
   "outputs": [],
   "source": [
    "# инициализация/спецификация модели через матрицы регрессионного дизайна\n",
    "# задаём вектор наблюдений зависимой переменной y \n",
    "y = df['sleep']\n",
    "# и матрицу наблюдений регрессоров X (с первым столбом из единиц), в которую вручную нужно добавить квадрат регрессора\n",
    "X = sm.add_constant(df[['totwrk', 'age']])\n",
    "X['age**2'] = df['age']**2\n",
    "X['log(hrwage)'] = np.log(df['hrwage'])\n",
    "X"
   ]
  },
  {
   "cell_type": "code",
   "execution_count": null,
   "metadata": {},
   "outputs": [],
   "source": [
    "# создаём объект класса OLS. Параметр missing нужен для контроля пропущенных значений\n",
    "mod = sm.OLS(endog=y, exog=X, missing='drop')\n",
    "\n",
    "# подгонка специфицированной модели на данных с неробастной ковариационной матрицей для коэффициентов\n",
    "# создаём объект класса RegressionResults\n",
    "res = mod.fit()\n",
    "\n",
    "# выведем краткий протокол подгонки\n",
    "res.summary(slim=True)"
   ]
  }
 ],
 "metadata": {
  "kernelspec": {
   "display_name": "Python 3 (ipykernel)",
   "language": "python",
   "name": "python3"
  },
  "language_info": {
   "codemirror_mode": {
    "name": "ipython",
    "version": 3
   },
   "file_extension": ".py",
   "mimetype": "text/x-python",
   "name": "python",
   "nbconvert_exporter": "python",
   "pygments_lexer": "ipython3",
   "version": "3.11.6"
  }
 },
 "nbformat": 4,
 "nbformat_minor": 4
}
