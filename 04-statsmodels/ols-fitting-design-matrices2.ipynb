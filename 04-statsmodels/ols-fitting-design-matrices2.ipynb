{
 "cells": [
  {
   "cell_type": "markdown",
   "metadata": {},
   "source": [
    "# Линейная регрессия с Statsmodels. Подгонка регрессии через формулу (категориальные переменные)"
   ]
  },
  {
   "cell_type": "code",
   "execution_count": null,
   "metadata": {},
   "outputs": [],
   "source": [
    "import numpy as np\n",
    "import pandas as pd\n",
    "\n",
    "import statsmodels.api as sm"
   ]
  },
  {
   "cell_type": "code",
   "execution_count": null,
   "metadata": {},
   "outputs": [],
   "source": [
    "df = pd.read_csv('Diamond.csv')\n",
    "df.head()"
   ]
  },
  {
   "cell_type": "markdown",
   "metadata": {},
   "source": [
    "## Пример: diamond equation #1\n",
    "\n",
    "На датасете/датафрейме `df` подгоним регрессия `log(price)` на `log(carat), colour`. Спецификация (как уравнение)\n",
    "$$\n",
    "\t\\log(price)=\\beta_0+\\beta_1 \\log(carat)+\\beta_2 colour+u\n",
    "$$\n",
    "**Замечание**: \n",
    "- `colour` является категориальной переменной (нечисловой!)\n",
    "- зависимая переменная – логарифм цены\n",
    "\n",
    "**Решение**: Добавим в датафрейм пул dummy-переменных, сочувствующий разным уровням/значениям категориальной переменной. Используем метод [pandas.get-dummies](https://pandas.pydata.org/docs/reference/api/pandas.get_dummies.html#pandas.get_dummies). Обратим внимание на параметр `dtype` (числовые значения на выходе)"
   ]
  },
  {
   "cell_type": "code",
   "execution_count": null,
   "metadata": {},
   "outputs": [],
   "source": [
    "df = pd.get_dummies(df, columns=['colour'], dtype=int)\n",
    "df"
   ]
  },
  {
   "cell_type": "code",
   "execution_count": null,
   "metadata": {},
   "outputs": [],
   "source": [
    "# инициализация/спецификация модели через матрицы регрессионного дизайна\n",
    "# задаём вектор наблюдений зависимой переменной y \n",
    "y = np.log(df['price'])\n",
    "# и матрицу наблюдений регрессоров X с первым столбом из единиц. Матрицу создадим через метод pandas.DataFrame и словарь \n",
    "X = sm.add_constant(pd.DataFrame( {'log(carat)': np.log(df['carat']), 'col_D': df['colour_D'], 'col_E':df['colour_E'], 'col_F':df['colour_F'], 'col_G':df['colour_G'], 'col_H':df['colour_H']} ))\n",
    "X"
   ]
  },
  {
   "cell_type": "code",
   "execution_count": null,
   "metadata": {},
   "outputs": [],
   "source": [
    "# создаём объект класса OLS. Параметр missing нужен для контроля пропущенных значений\n",
    "mod = sm.OLS(endog=y, exog=X, missing='drop')\n",
    "\n",
    "# подгонка специфицированной модели на данных с неробастной ковариационной матрицей для коэффициентов\n",
    "# создаём объект класса RegressionResults\n",
    "res = mod.fit()\n",
    "\n",
    "# выведем краткий протокол подгонки\n",
    "res.summary(slim=True)"
   ]
  }
 ],
 "metadata": {
  "kernelspec": {
   "display_name": "base",
   "language": "python",
   "name": "python3"
  },
  "language_info": {
   "codemirror_mode": {
    "name": "ipython",
    "version": 3
   },
   "file_extension": ".py",
   "mimetype": "text/x-python",
   "name": "python",
   "nbconvert_exporter": "python",
   "pygments_lexer": "ipython3",
   "version": "3.11.6"
  }
 },
 "nbformat": 4,
 "nbformat_minor": 2
}
