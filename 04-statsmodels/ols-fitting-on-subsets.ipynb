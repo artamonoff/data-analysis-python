{
 "cells": [
  {
   "cell_type": "markdown",
   "metadata": {},
   "source": [
    "# Линейная регрессия с Statsmodels. Подгонка регрессии по подмножествам"
   ]
  },
  {
   "cell_type": "code",
   "execution_count": null,
   "metadata": {},
   "outputs": [],
   "source": [
    "import numpy as np\n",
    "import pandas as pd\n",
    "\n",
    "import statsmodels.formula.api as smf\n",
    "\n",
    "import statsmodels.api as sm # только показать альтернативный способ"
   ]
  },
  {
   "cell_type": "code",
   "execution_count": null,
   "metadata": {},
   "outputs": [],
   "source": [
    "df = pd.read_csv('sleep75.csv')"
   ]
  },
  {
   "cell_type": "markdown",
   "metadata": {},
   "source": [
    "## Пример: sleep equation #1\n",
    "\n",
    "На для переменных из датасета/датафрейма `df` рассмотрим регрессию `sleep` на `totwrk, age`. Подгоним регрессию только для наблюдений с условием `male==1`"
   ]
  },
  {
   "cell_type": "code",
   "execution_count": null,
   "metadata": {},
   "outputs": [],
   "source": [
    "# инициализация/спецификация модели через формулу\n",
    "# создаём объект класса OLS\n",
    "mod = smf.ols(formula='sleep~totwrk+age', data=df[df['male']==1] )\n",
    "\n",
    "# подгонка специфицированной модели на данных с неробастной ковариационной матрицей для коэффициентов\n",
    "# создаём объект класса RegressionResults\n",
    "res = mod.fit()\n",
    "\n",
    "# выведем полный протокол подгонки\n",
    "res.summary()"
   ]
  },
  {
   "cell_type": "code",
   "execution_count": null,
   "metadata": {},
   "outputs": [],
   "source": []
  }
 ],
 "metadata": {
  "kernelspec": {
   "display_name": "Python 3 (ipykernel)",
   "language": "python",
   "name": "python3"
  },
  "language_info": {
   "codemirror_mode": {
    "name": "ipython",
    "version": 3
   },
   "file_extension": ".py",
   "mimetype": "text/x-python",
   "name": "python",
   "nbconvert_exporter": "python",
   "pygments_lexer": "ipython3",
   "version": "3.11.5"
  }
 },
 "nbformat": 4,
 "nbformat_minor": 4
}
