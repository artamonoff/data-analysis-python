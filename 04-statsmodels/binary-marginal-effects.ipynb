{
 "cells": [
  {
   "cell_type": "markdown",
   "metadata": {},
   "source": [
    "# Бинарная регрессия с Statsmodels. Предельные значения"
   ]
  },
  {
   "cell_type": "code",
   "execution_count": null,
   "metadata": {},
   "outputs": [],
   "source": [
    "import numpy as np\n",
    "import pandas as pd\n",
    "\n",
    "import statsmodels.formula.api as smf"
   ]
  },
  {
   "cell_type": "code",
   "execution_count": null,
   "metadata": {},
   "outputs": [],
   "source": [
    "df = pd.read_csv('TableF5-1.csv')"
   ]
  },
  {
   "cell_type": "markdown",
   "metadata": {},
   "source": [
    "## Пример: logit-регрессия\n",
    "На датасете/датафрейме `df` подгоним регрессия `LFP` на `WA, WE, log(FAMINC)`. Спецификация (как уравнение)\n",
    "$$\n",
    "\tP(LFP=1)=\\Lambda(\\beta_0+\\beta_1 WA+\\beta_2 WE+\\beta_4\\log(FAMINC))\n",
    "$$"
   ]
  },
  {
   "cell_type": "code",
   "execution_count": null,
   "metadata": {},
   "outputs": [],
   "source": [
    "mod = smf.logit(formula='LFP~WA+WE+np.log(FAMINC)', data=df)\n",
    "\n",
    "res = mod.fit()\n",
    "\n",
    "res.summary()"
   ]
  },
  {
   "cell_type": "markdown",
   "metadata": {},
   "source": [
    "## Предельные значения\n",
    "Для вычисления используем метод `.get_margeff(at='overall')`. Параметр `at`:\n",
    "* `mean` для вычисления предельного значения в средней точке\n",
    "* `overall` для вычисления среднего по выборке предельного значения\n",
    "\n",
    "В первом случаем считается \n",
    "$$ \n",
    "\t\\left(\\frac{\\partial P(LFP=1)}{\\partial x_j}\\right)_{mean}=\\lambda(\\bar{x}'\\beta)\\beta_j\n",
    "$$\n",
    "Во втором случае\n",
    "$$ \n",
    "\t\\left(\\frac{\\partial P(LFP=1)}{\\partial x_j}\\right)_{overall}=\\overline{\\lambda(x_i'\\beta)\\beta_j}\n",
    "$$"
   ]
  },
  {
   "cell_type": "code",
   "execution_count": null,
   "metadata": {},
   "outputs": [],
   "source": [
    "# для среднего наблюдения\n",
    "marg_mean = res.get_margeff(at='mean')\n",
    "marg_mean.summary()"
   ]
  },
  {
   "cell_type": "code",
   "execution_count": null,
   "metadata": {},
   "outputs": [],
   "source": [
    "# среднее предельное значения\n",
    "marg_overall = res.get_margeff(at='overall')\n",
    "marg_overall.summary()"
   ]
  }
 ],
 "metadata": {
  "kernelspec": {
   "display_name": "Python 3 (ipykernel)",
   "language": "python",
   "name": "python3"
  },
  "language_info": {
   "codemirror_mode": {
    "name": "ipython",
    "version": 3
   },
   "file_extension": ".py",
   "mimetype": "text/x-python",
   "name": "python",
   "nbconvert_exporter": "python",
   "pygments_lexer": "ipython3",
   "version": "3.11.5"
  }
 },
 "nbformat": 4,
 "nbformat_minor": 4
}
