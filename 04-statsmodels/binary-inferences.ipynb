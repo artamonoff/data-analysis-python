{
 "cells": [
  {
   "cell_type": "markdown",
   "metadata": {},
   "source": [
    "# Бинарная регрессия с Statsmodels. Тестирование гипотез"
   ]
  },
  {
   "cell_type": "code",
   "execution_count": null,
   "metadata": {},
   "outputs": [],
   "source": [
    "import numpy as np\n",
    "import pandas as pd\n",
    "\n",
    "import statsmodels.formula.api as smf\n",
    "from statsmodels.iolib.summary2 import summary_params\n",
    "\n",
    "from scipy.stats import norm, chi2"
   ]
  },
  {
   "cell_type": "code",
   "execution_count": null,
   "metadata": {},
   "outputs": [],
   "source": [
    "df = pd.read_csv('TableF5-1.csv')"
   ]
  },
  {
   "cell_type": "markdown",
   "metadata": {},
   "source": [
    "## Пример 1: logit-регрессия\n",
    "На датасете/датафрейме `df` подгоним регрессия `LFP` на `WA, WA^2, WE, log(FAMINC), CIT, KL6, K618`. Спецификация (как уравнение)\n",
    "$$\n",
    "\tP(LFP=1)=\\Lambda(\\beta_0+\\beta_1 WA+\\beta_2 WA^2+\\beta_3 WE+\\beta_4\\log(FAMINC)+\\beta_5CIT+\\beta_6 KL6+\\beta_7 K618)\n",
    "$$"
   ]
  },
  {
   "cell_type": "code",
   "execution_count": null,
   "metadata": {},
   "outputs": [],
   "source": [
    "mod = smf.logit(formula='LFP~WA+I(WA**2)+WE+np.log(FAMINC)+CIT+KL6+K618', data=df)\n",
    "\n",
    "res = mod.fit()"
   ]
  },
  {
   "cell_type": "markdown",
   "metadata": {},
   "source": [
    "### z-тест"
   ]
  },
  {
   "cell_type": "code",
   "execution_count": null,
   "metadata": {},
   "outputs": [],
   "source": [
    "summary_params(results=res, alpha=0.05, xname=['const', 'возраст', 'квадрат возраста', 'образование', 'log(FAMINC)', 'CIT', 'KL6', 'K618']).round(4)"
   ]
  },
  {
   "cell_type": "markdown",
   "metadata": {},
   "source": [
    "Компоненты z-теста"
   ]
  },
  {
   "cell_type": "code",
   "execution_count": null,
   "metadata": {},
   "outputs": [],
   "source": [
    "# критическое значение распределения N(0,1)\n",
    "sign_level=0.05\n",
    "round( norm.ppf(q=1-sign_level/2), 3)"
   ]
  },
  {
   "cell_type": "code",
   "execution_count": null,
   "metadata": {},
   "outputs": [],
   "source": [
    "# z-статистики\n",
    "res.tvalues"
   ]
  },
  {
   "cell_type": "code",
   "execution_count": null,
   "metadata": {},
   "outputs": [],
   "source": [
    "# P-значения для z-статистик\n",
    "res.pvalues.round(3)"
   ]
  },
  {
   "cell_type": "code",
   "execution_count": null,
   "metadata": {},
   "outputs": [],
   "source": [
    "# s.e. коэффициентов\n",
    "res.bse"
   ]
  },
  {
   "cell_type": "markdown",
   "metadata": {},
   "source": [
    "## Пример 2: probit-регрессия\n",
    "На датасете/датафрейме `df` подгоним регрессия `LFP` на `CIT, K618`. Спецификация (как уравнение)\n",
    "$$\n",
    "\tP(LFP=1)=\\Phi(\\beta_0+\\beta_1CIT+\\beta_2 K618)\n",
    "$$"
   ]
  },
  {
   "cell_type": "code",
   "execution_count": null,
   "metadata": {},
   "outputs": [],
   "source": [
    "mod = smf.probit(formula='LFP~CIT+K618', data=df)\n",
    "\n",
    "res = mod.fit()"
   ]
  },
  {
   "cell_type": "markdown",
   "metadata": {},
   "source": [
    "### Значимость регрессии: LR-тест\n",
    "тестовая статистика\n",
    "$$ \n",
    "\tLR=2(\\log L-\\log L_{null})\n",
    "$$"
   ]
  },
  {
   "cell_type": "code",
   "execution_count": null,
   "metadata": {},
   "outputs": [],
   "source": [
    "# Тестовая статистка и её P-значение\n",
    "res.llr, res.llr_pvalue"
   ]
  },
  {
   "cell_type": "code",
   "execution_count": null,
   "metadata": {},
   "outputs": [],
   "source": [
    "# критическое значение распределения chi2\n",
    "sign_level = 0.05\n",
    "chi2.ppf(q=1-sign_level, df=res.df_model)"
   ]
  },
  {
   "cell_type": "markdown",
   "metadata": {},
   "source": [
    "## Пример 3: logit-регрессия\n",
    "На датасете/датафрейме `df` подгоним регрессия `LFP` на `WA, WA^2, WE, log(FAMINC), CIT, KL6, K618`. Спецификация (как уравнение)\n",
    "$$\n",
    "\tP(LFP=1)=\\Lambda(\\beta_0+\\beta_1 WA+\\beta_2 WA^2+\\beta_3 WE+\\beta_4\\log(FAMINC)+\\beta_5CIT+\\beta_6 KL6+\\beta_7 K618)\n",
    "$$"
   ]
  },
  {
   "cell_type": "code",
   "execution_count": null,
   "metadata": {},
   "outputs": [],
   "source": [
    "mod = smf.logit(formula='LFP~WA+I(WA**2)+WE+np.log(FAMINC)+CIT+KL6+K618', data=df)\n",
    "\n",
    "res = mod.fit()\n",
    "\n",
    "res.summary()"
   ]
  },
  {
   "cell_type": "markdown",
   "metadata": {},
   "source": [
    "### Совместная значимость: тест Вальда\n",
    "\n",
    "Тестируем совместную значимость `WA, WA**2`"
   ]
  },
  {
   "cell_type": "code",
   "execution_count": null,
   "metadata": {},
   "outputs": [],
   "source": [
    "res.wald_test('WA=I(WA ** 2)=0', use_f=False, scalar=True)"
   ]
  },
  {
   "cell_type": "code",
   "execution_count": null,
   "metadata": {},
   "outputs": [],
   "source": [
    "# критическое значение распределения chi2 с df=2=df_denom\n",
    "sign_level = 0.05\n",
    "chi2.ppf(q=1-sign_level, df=2)"
   ]
  }
 ],
 "metadata": {
  "kernelspec": {
   "display_name": "Python 3 (ipykernel)",
   "language": "python",
   "name": "python3"
  },
  "language_info": {
   "codemirror_mode": {
    "name": "ipython",
    "version": 3
   },
   "file_extension": ".py",
   "mimetype": "text/x-python",
   "name": "python",
   "nbconvert_exporter": "python",
   "pygments_lexer": "ipython3",
   "version": "3.11.5"
  }
 },
 "nbformat": 4,
 "nbformat_minor": 4
}
