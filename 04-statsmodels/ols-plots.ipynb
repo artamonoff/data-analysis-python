{
 "cells": [
  {
   "cell_type": "markdown",
   "id": "33053a9e-0322-4cbd-be7c-17c5a4fa93bc",
   "metadata": {},
   "source": [
    "# Линейная регрессия с Statsmodels. Визуализация"
   ]
  },
  {
   "cell_type": "code",
   "execution_count": null,
   "id": "4dea8c71-c4c5-4015-a690-cf2b2df7e856",
   "metadata": {},
   "outputs": [],
   "source": [
    "import numpy as np\n",
    "import pandas as pd\n",
    "\n",
    "import statsmodels.formula.api as smf\n",
    "\n",
    "import statsmodels.api as sm\n",
    "import statsmodels.graphics.api as smg\n",
    "\n",
    "import matplotlib.pyplot as plt"
   ]
  },
  {
   "cell_type": "code",
   "execution_count": null,
   "id": "6e16ac40",
   "metadata": {},
   "outputs": [],
   "source": [
    "df = pd.read_csv('sleep75.csv')"
   ]
  },
  {
   "cell_type": "markdown",
   "id": "c2858733",
   "metadata": {},
   "source": [
    "## Корреляционная матрица"
   ]
  },
  {
   "cell_type": "code",
   "execution_count": null,
   "id": "202ba441",
   "metadata": {},
   "outputs": [],
   "source": [
    "smg.plot_corr(df.corr(), xnames=df.columns, normcolor=True)\n",
    "plt.show()"
   ]
  },
  {
   "cell_type": "markdown",
   "id": "16469327",
   "metadata": {},
   "source": [
    "## Пример: sleep equation #1\n",
    "\n",
    "На датасете/датафрейме `df` подгоним регрессия `sleep` на `totwrk, age`. Спецификация (как уравнение)\n",
    "$$\n",
    "\tsleep=\\beta_0+\\beta_1 totwrk+\\beta_2 age+u\n",
    "$$"
   ]
  },
  {
   "cell_type": "code",
   "execution_count": null,
   "id": "cbd69e05",
   "metadata": {},
   "outputs": [],
   "source": [
    "# инициализация/спецификация модели через формулу\n",
    "# создаём объект класса OLS\n",
    "mod = smf.ols(formula='sleep~totwrk+age', data=df)\n",
    "\n",
    "# подгонка специфицированной модели на данных с неробастной ковариационной матрицей для коэффициентов\n",
    "# создаём объект класса RegressionResults\n",
    "res = mod.fit()"
   ]
  },
  {
   "cell_type": "markdown",
   "id": "ef096afe",
   "metadata": {},
   "source": [
    "График `sleep` против `totwrk` с предсказанными значениями и доверительными интервалами (vlines)"
   ]
  },
  {
   "cell_type": "code",
   "execution_count": null,
   "id": "89fc3008",
   "metadata": {},
   "outputs": [],
   "source": [
    "smg.plot_fit(res, exog_idx='totwrk', vlines=False)\n",
    "plt.show()"
   ]
  },
  {
   "cell_type": "code",
   "execution_count": null,
   "id": "7ec9498e",
   "metadata": {},
   "outputs": [],
   "source": [
    "smg.plot_ccpr(res,  exog_idx='totwrk')\n",
    "plt.show()"
   ]
  },
  {
   "cell_type": "code",
   "execution_count": null,
   "id": "eb4982d5",
   "metadata": {},
   "outputs": [],
   "source": [
    "smg.plot_partregress(endog='sleep',  exog_i='totwrk', exog_others=['age'], data=df, obs_labels=False)\n",
    "plt.show()"
   ]
  },
  {
   "cell_type": "code",
   "execution_count": null,
   "id": "5a5de250",
   "metadata": {},
   "outputs": [],
   "source": [
    "smg.plot_regress_exog(res,  exog_idx='totwrk')\n",
    "plt.show()"
   ]
  },
  {
   "cell_type": "code",
   "execution_count": null,
   "id": "95ef24d4-48e7-44e6-96ad-35d63ee59b5c",
   "metadata": {},
   "outputs": [],
   "source": []
  }
 ],
 "metadata": {
  "kernelspec": {
   "display_name": "Python 3 (ipykernel)",
   "language": "python",
   "name": "python3"
  },
  "language_info": {
   "codemirror_mode": {
    "name": "ipython",
    "version": 3
   },
   "file_extension": ".py",
   "mimetype": "text/x-python",
   "name": "python",
   "nbconvert_exporter": "python",
   "pygments_lexer": "ipython3",
   "version": "3.11.5"
  }
 },
 "nbformat": 4,
 "nbformat_minor": 5
}
