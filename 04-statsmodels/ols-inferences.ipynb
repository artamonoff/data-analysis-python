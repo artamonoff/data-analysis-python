{
 "cells": [
  {
   "cell_type": "markdown",
   "id": "42f0b870-8610-473a-a7ea-b875713ee940",
   "metadata": {},
   "source": [
    "# Линейная регрессия с Statsmodels. Тестирование гипотез\n",
    "\n",
    "**Важно** для тестирования гипотез нужно \"правильно\" выбрать оценку ковариационной матрицы коэффициентов. Это делаем при подгонке модеи методом `.fit(cov_type='nonrobust')`\n",
    "\n",
    "По умолчанию используется неробастнвя OLS-оценка $Var(\\beta)=s^2(X^\\top X)^{-1}$"
   ]
  },
  {
   "cell_type": "code",
   "execution_count": null,
   "id": "147b2144-94b5-4b1d-9fd4-1494c537d51b",
   "metadata": {},
   "outputs": [],
   "source": [
    "import numpy as np\n",
    "import pandas as pd\n",
    "\n",
    "import statsmodels.formula.api as smf\n",
    "\n",
    "from statsmodels.iolib.summary2 import summary_col"
   ]
  },
  {
   "cell_type": "code",
   "execution_count": null,
   "id": "6d34b5be-72d4-4015-9510-7d98cb4af7c5",
   "metadata": {},
   "outputs": [],
   "source": [
    "df = pd.read_csv('Labour.csv')"
   ]
  },
  {
   "cell_type": "markdown",
   "id": "ecc70fd3-dc0c-4aa5-bcfb-9ed33a522045",
   "metadata": {},
   "source": [
    "## non-robust vs robust\n",
    "На датасете/датафрейме `df` подгоним регрессия `log(output)` на `log(capital), log(labour), log(wage), log(capital)^2, log(labour)^2, log(wage)^2`. \n",
    "\n",
    "Подгоним модель с неробастной и робастной ковариационной матрицей коэффициентов"
   ]
  },
  {
   "cell_type": "code",
   "execution_count": null,
   "id": "dfe3a298",
   "metadata": {},
   "outputs": [],
   "source": [
    "# инициализация/спецификация модели через формулу\n",
    "# создаём объект класса OLS\n",
    "mod = smf.ols(formula='np.log(output)~np.log(capital)+np.log(labour)+np.log(wage)+I(np.log(capital)**2)+I(np.log(labour)**2)+I(np.log(wage)**2)', data=df)\n",
    "\n",
    "res_ols = mod.fit()\n",
    "res_hc = mod.fit(cov_type='HC3')\n",
    "\n",
    "# Выведем результаты в одной таблице добавив F-статистику на значимость регрессии и число наблюдений\n",
    "summary_col(results=[res_ols, res_hc], model_names=['non-robust', 'robust'], stars=True, info_dict={'F': lambda x: x.fvalue, 'Nobs': lambda x: x.nobs})"
   ]
  },
  {
   "cell_type": "code",
   "execution_count": null,
   "id": "09e435d5",
   "metadata": {},
   "outputs": [],
   "source": [
    "res_hc.summary(slim=True)"
   ]
  },
  {
   "cell_type": "code",
   "execution_count": null,
   "id": "74c9fffc",
   "metadata": {},
   "outputs": [],
   "source": [
    "res_ols.summary(slim=True)"
   ]
  },
  {
   "cell_type": "markdown",
   "id": "631eeb9a",
   "metadata": {},
   "source": [
    "## t-тест\n",
    "Можно тестировать общую гипотезу $H_0:\\beta_j=\\theta$\n",
    "\n",
    "Используем метод `.t_test()` в котором специфицируем для каких коэффициентов какие гипотезы тестируем\n",
    "\n",
    "Например, тестируем две гипотезы: $H_0:\\beta_{\\log(capital)}=0.15$ и $H_0:\\beta_{\\log(labour)^2}=0$ с робастной ковариационной матрицей"
   ]
  },
  {
   "cell_type": "code",
   "execution_count": null,
   "id": "cb187b32",
   "metadata": {},
   "outputs": [],
   "source": [
    "res_hc.t_test('np.log(capital)=0.5, I(np.log(labour) ** 2)=0')"
   ]
  },
  {
   "cell_type": "markdown",
   "id": "9ffe27b4",
   "metadata": {},
   "source": [
    "## F-тест (линейные ограничения на коэффициенты)\n",
    "\n",
    "Линейные ограничения на коэффициенты записываются в текстовом виде\n",
    "\n",
    "### Пример 1\n",
    "\n",
    "Тестируем совместную значимость квадратов регрессоров с робастной оценкой ковариационной матрицы, т.е. гипотезу\n",
    "$$H_0:\\beta_{\\log(capital)^2}=\\beta_{\\log(labour)^2}=\\beta_{\\log(wage)^2}=0$$"
   ]
  },
  {
   "cell_type": "code",
   "execution_count": null,
   "id": "ab3a94e1",
   "metadata": {},
   "outputs": [],
   "source": [
    "# робастный F- тест\n",
    "res_hc.f_test('I(np.log(capital) ** 2)=I(np.log(labour) ** 2)=I(np.log(wage) ** 2)=0')"
   ]
  },
  {
   "cell_type": "code",
   "execution_count": null,
   "id": "bf3c346b",
   "metadata": {},
   "outputs": [],
   "source": [
    "# неробастный F-тест\n",
    "# альтернативная спецификация гипотезы\n",
    "res_ols.f_test('I(np.log(capital) ** 2)=0, I(np.log(labour) ** 2)=0, I(np.log(wage) ** 2)=0')"
   ]
  },
  {
   "cell_type": "markdown",
   "id": "0f3fb5b9",
   "metadata": {},
   "source": [
    "### Пример 2\n",
    "\n",
    "Тестируем теперь $$H_0:\\beta_{\\log(capital)}+\\beta_{\\log(labour)}=\\beta_{\\log(wage)}=0$$\n",
    "с робастной оценкой ковариационной матрицы"
   ]
  },
  {
   "cell_type": "code",
   "execution_count": null,
   "id": "f956f715",
   "metadata": {},
   "outputs": [],
   "source": [
    "res_hc.f_test('np.log(capital)+np.log(labour)+np.log(wage)=1')"
   ]
  },
  {
   "cell_type": "code",
   "execution_count": null,
   "id": "64168dc1",
   "metadata": {},
   "outputs": [],
   "source": [
    "# неробастный F-тест\n",
    "res_ols.f_test('np.log(capital)+np.log(labour)+np.log(wage)=1')"
   ]
  }
 ],
 "metadata": {
  "kernelspec": {
   "display_name": "Python 3 (ipykernel)",
   "language": "python",
   "name": "python3"
  },
  "language_info": {
   "codemirror_mode": {
    "name": "ipython",
    "version": 3
   },
   "file_extension": ".py",
   "mimetype": "text/x-python",
   "name": "python",
   "nbconvert_exporter": "python",
   "pygments_lexer": "ipython3",
   "version": "3.11.6"
  }
 },
 "nbformat": 4,
 "nbformat_minor": 5
}
