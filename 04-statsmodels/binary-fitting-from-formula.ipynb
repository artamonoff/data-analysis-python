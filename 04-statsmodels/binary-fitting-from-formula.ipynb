{
 "cells": [
  {
   "cell_type": "markdown",
   "metadata": {},
   "source": [
    "# Бинарная регрессия с Statsmodels. Подгонка регрессии через формулу (количественные переменные)"
   ]
  },
  {
   "cell_type": "code",
   "execution_count": null,
   "metadata": {},
   "outputs": [],
   "source": [
    "import numpy as np\n",
    "import pandas as pd\n",
    "\n",
    "import statsmodels.formula.api as smf\n",
    "\n",
    "import statsmodels.api as sm # только показать альтернативный способ"
   ]
  },
  {
   "cell_type": "code",
   "execution_count": null,
   "metadata": {},
   "outputs": [],
   "source": [
    "df = pd.read_csv('TableF5-1.csv')\n",
    "df.shape"
   ]
  },
  {
   "cell_type": "markdown",
   "metadata": {},
   "source": [
    "## Пример 1: logit-регрессия\n",
    "На датасете/датафрейме `df` подгоним регрессия `LFP` на `WA, WA^2, WE, log(FAMINC)`. Спецификация (как уравнение)\n",
    "$$\n",
    "\tP(LFP=1)=\\Lambda(\\beta_0+\\beta_1 WA+\\beta_2 WA^2+\\beta_3 WE+\\beta_4\\log(FAMINC))\n",
    "$$"
   ]
  },
  {
   "cell_type": "code",
   "execution_count": null,
   "metadata": {},
   "outputs": [],
   "source": [
    "mod = smf.logit(formula='LFP~WA+I(WA**2)+WE+np.log(FAMINC)', data=df)\n",
    "\n",
    "res = mod.fit()\n",
    "\n",
    "res.summary()"
   ]
  },
  {
   "cell_type": "markdown",
   "metadata": {},
   "source": [
    "## Пример 2: probit-регрессия\n",
    "На датасете/датафрейме `df` подгоним регрессия `LFP` на `WA, WA^2, WE, log(FAMINC)+CIT`. Спецификация (как уравнение)\n",
    "$$\n",
    "\tP(LFP=1)=\\Phi(\\beta_0+\\beta_1 WA+\\beta_2 WA^2+\\beta_3 WE+\\beta_4\\log(FAMINC)+\\beta_5CIT)\n",
    "$$"
   ]
  },
  {
   "cell_type": "code",
   "execution_count": null,
   "metadata": {},
   "outputs": [],
   "source": [
    "mod = smf.probit(formula='LFP~WA+I(WA**2)+WE+np.log(FAMINC)+CIT', data=df)\n",
    "\n",
    "res = mod.fit()\n",
    "\n",
    "res.summary()"
   ]
  }
 ],
 "metadata": {
  "language_info": {
   "name": "python"
  }
 },
 "nbformat": 4,
 "nbformat_minor": 2
}
