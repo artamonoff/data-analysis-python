{
 "cells": [
  {
   "cell_type": "markdown",
   "metadata": {},
   "source": [
    "# Линейная регрессия с Statsmodels. Вывод результатов подгонка регрессии"
   ]
  },
  {
   "cell_type": "code",
   "execution_count": null,
   "metadata": {},
   "outputs": [],
   "source": [
    "import numpy as np\n",
    "import pandas as pd\n",
    "\n",
    "import statsmodels.formula.api as smf\n",
    "\n",
    "from statsmodels.iolib.summary2 import summary_col, summary_params # вывод результатов "
   ]
  },
  {
   "cell_type": "code",
   "execution_count": null,
   "metadata": {},
   "outputs": [],
   "source": [
    "df = pd.read_csv('sleep75.csv')\n",
    "df.shape"
   ]
  },
  {
   "cell_type": "markdown",
   "metadata": {},
   "source": [
    "## Пример: t-тест (sleep equation)\n",
    "\n",
    "На датасете/датафрейме `df` подгоним регрессия `sleep` на `totwrk, age`. Спецификация (как уравнение)\n",
    "$$\n",
    "\tsleep=\\beta_0+\\beta_1 totwrk+\\beta_2 age+u\n",
    "$$"
   ]
  },
  {
   "cell_type": "code",
   "execution_count": null,
   "metadata": {},
   "outputs": [],
   "source": [
    "# инициализация/спецификация модели через формулу\n",
    "# создаём объект класса OLS\n",
    "mod = smf.ols(formula='sleep~totwrk+age', data=df)\n",
    "\n",
    "# подгонка специфицированной модели на данных с неробастной ковариационной матрицей для коэффициентов\n",
    "# создаём объект класса RegressionResults\n",
    "res = mod.fit()\n",
    "\n",
    "# выведем результаты t-тестя для коэффициентов с округлением\n",
    "# параметр alpha отвечает за доверительный интервал, xnames - за названия регрессоров (если нужно)\n",
    "# т.к. создаётся таблица как датафрейм, то её можно сохранить как файл обычными методами\n",
    "summary_params(res, alpha=0.05, xname=['const', 'занятость', 'возраст']) .round(3)"
   ]
  },
  {
   "cell_type": "markdown",
   "metadata": {},
   "source": [
    "## Пример: вывод результатов подгонки нескольких регрессоров\n",
    "На датасете/датафрейме `df` подгоним несколько регрессий `sleep` на \n",
    "- `totwrk, age` \n",
    "- `totwrl`, `age`, `age^2`\n",
    "- `totwrk`, `male`, `smsa`, `south`\n",
    "- `totwrk`, `male`, `smsa`, `south`, `log(hrwage)`\n",
    "\n",
    "и выведем результаты подгонки в виде одной таблицы"
   ]
  },
  {
   "cell_type": "code",
   "execution_count": null,
   "metadata": {},
   "outputs": [],
   "source": [
    "# Подгоним три модели\n",
    "res1 = smf.ols(formula='sleep~totwrk+age', data=df).fit()\n",
    "\n",
    "res2 = smf.ols(formula='sleep~totwrk+age+I(age**2)', data=df).fit()\n",
    "\n",
    "res3 = smf.ols(formula='sleep~totwrk+male+smsa+south', data=df).fit()\n",
    "\n",
    "res4 = smf.ols(formula='sleep~totwrk+male+smsa+south+np.log(hrwage)', data=df).fit()\n",
    "\n",
    "# выведем результаты трёх моделей в одной таблице\n",
    "# model_names -  имена моделей\n",
    "# stars - стандартные коды значимости для коэффициентов\n",
    "# float_format - формат вывода числовых значений, например сколько десятичных знаков\n",
    "summary_col(results=[res1, res2, res3, res4], model_names=['Модель 1', 'Модель 2', 'Модель 3', 'Модель 4'], \n",
    "            stars=True, float_format='%.3f')"
   ]
  },
  {
   "cell_type": "code",
   "execution_count": null,
   "metadata": {},
   "outputs": [],
   "source": [
    "# изменим порядок вывода регрессоров, параметр regressor_order\n",
    "summary_col(results=[res1, res2, res3, res4], model_names=['Модель 1', 'Модель 2', 'Модель 3', 'Модель 4'], \n",
    "            stars=True, float_format='%.3f', \n",
    "            regressor_order=['Intercept', 'totwrk', 'age', 'I(age ** 2)', 'male', 'smsa', 'south', 'np.log(hrwage)'])"
   ]
  },
  {
   "cell_type": "markdown",
   "metadata": {},
   "source": [
    "## Пример: настройка вывода результатов подгонки нескольких регрессоров\n",
    "На датасете/датафрейме `df` подгоним несколько регрессий `sleep` на \n",
    "- `totwrk, age` \n",
    "- `totwrl`, `age`, `age^2`\n",
    "- `totwrk`, `male`, `smsa`, `south`\n",
    "- `totwrk`, `male`, `smsa`, `south`, `log(hrwage)`\n",
    "\n",
    "и выведем результаты подгонки в виде одной таблицы.\n",
    "\n",
    "В таблице можно настроить вывод свойства объекта класса [RegressionResults](https://www.statsmodels.org/stable/generated/statsmodels.regression.linear_model.RegressionResults.html#statsmodels.regression.linear_model.RegressionResults) (подогнанная модель). Например:\n",
    "- число наблюдений `nobs`\n",
    "- F-статистика `fvalue` и её P-значение `f_pvalue`\n",
    "- Информационные критерии `aic`, `bic`\n",
    "- $R^2$ и $R^2_{adj}$ `rsquared`, `rsquared_adj`\n",
    "\n",
    "Причём это модно сделать отдельно для каждой модели\n",
    "\n",
    "**Важно**: будем делать в формате словаря с использованием lambda - функций\n",
    "\n",
    "### Добавление  числа наблюдений, F-статистики и её P-значения"
   ]
  },
  {
   "cell_type": "code",
   "execution_count": null,
   "metadata": {},
   "outputs": [],
   "source": [
    "# Подгоним три модели\n",
    "res1 = smf.ols(formula='sleep~totwrk+age', data=df).fit()\n",
    "\n",
    "res2 = smf.ols(formula='sleep~totwrk+age+I(age**2)', data=df).fit()\n",
    "\n",
    "res3 = smf.ols(formula='sleep~totwrk+male+smsa+south', data=df).fit()\n",
    "\n",
    "res4 = smf.ols(formula='sleep~totwrk+male+smsa+south+np.log(hrwage)', data=df).fit()\n",
    "\n",
    "# Имена моделей\n",
    "mod_names = ['Модель 1', 'Модель 2', 'Модель 3', 'Модель 4']\n",
    "# порядок регрессоров в таблице\n",
    "reg_order = ['Intercept', 'totwrk', 'age', 'I(age ** 2)', 'male', 'smsa', 'south', 'np.log(hrwage)']\n",
    "# словарь с тем, что добавим\n",
    "info_to_add = {'n.obs': lambda x: x.nobs, 'F-stat': lambda x: x.fvalue, 'P(F-stat)': lambda x: x.f_pvalue }\n",
    "\n",
    "summary_col(results=[res1, res2, res3, res4], model_names=mod_names, stars=True, float_format='%.3f', \n",
    "            regressor_order=reg_order, info_dict=info_to_add)"
   ]
  },
  {
   "cell_type": "code",
   "execution_count": null,
   "metadata": {},
   "outputs": [],
   "source": [
    "output = summary_col(results=[res1, res2, res3, res4], model_names=mod_names, stars=True, float_format='%.3f', regressor_order=reg_order, info_dict=info_to_add)\n",
    "\n",
    "with open('regressions_output.txt', 'w') as f:\n",
    "\tf.write(output.as_text())"
   ]
  },
  {
   "cell_type": "code",
   "execution_count": null,
   "metadata": {},
   "outputs": [],
   "source": []
  }
 ],
 "metadata": {
  "kernelspec": {
   "display_name": "Python 3 (ipykernel)",
   "language": "python",
   "name": "python3"
  },
  "language_info": {
   "codemirror_mode": {
    "name": "ipython",
    "version": 3
   },
   "file_extension": ".py",
   "mimetype": "text/x-python",
   "name": "python",
   "nbconvert_exporter": "python",
   "pygments_lexer": "ipython3",
   "version": "3.11.5"
  }
 },
 "nbformat": 4,
 "nbformat_minor": 4
}
