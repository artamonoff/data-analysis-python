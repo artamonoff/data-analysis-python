{
 "cells": [
  {
   "cell_type": "markdown",
   "metadata": {},
   "source": [
    "# Основы Python. Pandas\n",
    "\n",
    "Библиотека  `pandas` позволяет работать с **датафреймами** (фреймы данных)\n",
    "\n",
    "[DataFrame](https://pandas.pydata.org/docs/getting_started/intro_tutorials/01_table_oriented.html)  - это таблица (2-мерная структура данных), которая используется для хранения данных различных типов  (включая строки, целые числа, значения с плавающей запятой, категориальные данные и многое другое) по столбцам.\n",
    "\n",
    "**Важно** в датафреймах столбца и строки неравнозначны! Строки соответствуют наблюдениям/объектам, столбца – переменным\n",
    "\n",
    "Функционал Pandas:\n",
    "\n",
    "- датафреймы (кросс-секции)\n",
    "- временные ряды (одномерные и многомерные)\n",
    "- панельные данные\n",
    "- числовые и категориальные переменные\n",
    "- импорт табличных данных из файлов различных форматов: CSV, MS Excel и многое другое\n",
    "- фильтрация данных\n",
    "- преобразования данных\n",
    "- манипуляций с данными\n",
    "- описательные статистики\n",
    "- базовая графика\n",
    "- многое другое\n",
    "\n",
    "\n",
    "Запуская *import* для подключения библиотеки к Jupyter Notebook\n"
   ]
  },
  {
   "cell_type": "code",
   "execution_count": null,
   "metadata": {},
   "outputs": [],
   "source": [
    "# импортируем библиотеку pandas как объект pd\n",
    "import pandas as pd"
   ]
  },
  {
   "cell_type": "markdown",
   "metadata": {},
   "source": [
    "## Чтение данных\n",
    "\n",
    "Давайте прочитаем набор данных из файла Labour.csv.\n",
    "Мы используем метод .read_csv() объекта pd.\n",
    "\n",
    "Он загружает набор данных и создает новый объект типа датафрейма (фрейма данных)"
   ]
  },
  {
   "cell_type": "code",
   "execution_count": null,
   "metadata": {},
   "outputs": [],
   "source": [
    "df = pd.read_csv('Labour.csv')\n",
    "# размер датафрейма\n",
    "df.shape"
   ]
  },
  {
   "cell_type": "code",
   "execution_count": null,
   "metadata": {},
   "outputs": [],
   "source": [
    "# напечатаем первые 6 строк\n",
    "df.head(n=6)"
   ]
  },
  {
   "cell_type": "code",
   "execution_count": null,
   "metadata": {},
   "outputs": [],
   "source": [
    "# последние наблюдения\n",
    "df.tail()"
   ]
  },
  {
   "cell_type": "markdown",
   "metadata": {},
   "source": [
    "## Манипуляции с данными\n",
    "Мы можем выбрать подмножество столбцов по их названиям"
   ]
  },
  {
   "cell_type": "code",
   "execution_count": null,
   "metadata": {},
   "outputs": [],
   "source": [
    "df1 = df[['output', 'capital']]\n",
    "df1"
   ]
  },
  {
   "cell_type": "markdown",
   "metadata": {},
   "source": [
    "Мы можем выбрать подмножество строк по индексам"
   ]
  },
  {
   "cell_type": "code",
   "execution_count": null,
   "metadata": {},
   "outputs": [],
   "source": [
    "# первые 10 рядов (индексированных с 0 до 9)\n",
    "df.iloc[:10]"
   ]
  },
  {
   "cell_type": "code",
   "execution_count": null,
   "metadata": {},
   "outputs": [],
   "source": [
    "# ряды со 2 по 16\n",
    "df.iloc[2:17]"
   ]
  },
  {
   "cell_type": "markdown",
   "metadata": {},
   "source": [
    "Мы можем фильтровать наблюдения в соответствии с логическими условиями"
   ]
  },
  {
   "cell_type": "code",
   "execution_count": null,
   "metadata": {},
   "outputs": [],
   "source": [
    "df2 = df[ df['capital']>3 ]\n",
    "df2"
   ]
  },
  {
   "cell_type": "code",
   "execution_count": null,
   "metadata": {},
   "outputs": [],
   "source": [
    "df3 = df[ (df['capital']>3) & (df['output']>10) ]\n",
    "df3"
   ]
  }
 ],
 "metadata": {
  "kernelspec": {
   "display_name": "Python 3 (ipykernel)",
   "language": "python",
   "name": "python3"
  },
  "language_info": {
   "codemirror_mode": {
    "name": "ipython",
    "version": 3
   },
   "file_extension": ".py",
   "mimetype": "text/x-python",
   "name": "python",
   "nbconvert_exporter": "python",
   "pygments_lexer": "ipython3",
   "version": "3.9.16"
  }
 },
 "nbformat": 4,
 "nbformat_minor": 2
}
