{
 "cells": [
  {
   "cell_type": "markdown",
   "metadata": {},
   "source": [
    "# Основы Python\n",
    "\n",
    "Встроенные типы данных:\n",
    "\n",
    "* [Lists](#lists)\n",
    "* [Tuples](#tuples)\n",
    "* [Sets](#sets)\n",
    "* [Dictionaries](#dictionaries)\n",
    "\n",
    "Их элементы могут иметь любой тип данных. Они могут быть упорядоченными или неупорядоченными.\n",
    "Неупорядоченность означает, что элементы не имеют определенного порядка и нельзя ссылаться на элемент с помощью индекса.\n",
    "\n",
    "Функция len() вычисляет длину объекта"
   ]
  },
  {
   "cell_type": "markdown",
   "metadata": {},
   "source": [
    "## Lists <a class=\"anchor\" id=\"lists\"></a>\n",
    "\n",
    "Списки используются для хранения нескольких элементов в одной переменной\n",
    "\n",
    "Элементы списка упорядочены, изменяемы и допускают повторяющиеся значения.\n",
    "\n",
    "Элементы списка индексируются, первый элемент имеет индекс [0], второй элемент имеет индекс [1] и т.д.\n",
    "\n",
    "**Важное замечание*: *Список - это объект со  свойствами & методами*\n",
    "\n",
    "Списки создаются с использованием квадратных скобок или функции `list()`"
   ]
  },
  {
   "cell_type": "code",
   "execution_count": null,
   "metadata": {},
   "outputs": [],
   "source": [
    "a = [1, 2.3, 4, 5, -1, 1]\n",
    "a"
   ]
  },
  {
   "cell_type": "markdown",
   "metadata": {},
   "source": [
    "Индексирование"
   ]
  },
  {
   "cell_type": "code",
   "execution_count": null,
   "metadata": {},
   "outputs": [],
   "source": [
    "a[0], a[1], a[4]"
   ]
  },
  {
   "cell_type": "markdown",
   "metadata": {},
   "source": [
    "Элементы списка можно изменять"
   ]
  },
  {
   "cell_type": "code",
   "execution_count": null,
   "metadata": {},
   "outputs": [],
   "source": [
    "a[0] = 3\n",
    "a"
   ]
  },
  {
   "cell_type": "markdown",
   "metadata": {},
   "source": [
    "для добавления новых элементов мы используем методы `.append()` или `.extend()`"
   ]
  },
  {
   "cell_type": "code",
   "execution_count": null,
   "metadata": {},
   "outputs": [],
   "source": [
    "a.append(-2)\n",
    "a"
   ]
  },
  {
   "cell_type": "code",
   "execution_count": null,
   "metadata": {},
   "outputs": [],
   "source": [
    "a.extend([-3,-5])\n",
    "a"
   ]
  },
  {
   "cell_type": "markdown",
   "metadata": {},
   "source": [
    "## Tuples <a class=\"anchor\" id=\"tuples\"></a>\n",
    "\n",
    "Кортежи используются для хранения нескольких элементов в одной переменной.\n",
    "\n",
    "Кортеж - это упорядоченный и неизменяемый массив.\n",
    "\n",
    "Элементы кортежа упорядочены, неизменяемы и допускают дублирование значений.\n",
    "\n",
    "Кортежи неизменяемы, что означает, что мы не можем изменять, добавлять или удалять элементы после создания кортежа.\n",
    "\n",
    "Кортежи записываются в круглых скобках"
   ]
  },
  {
   "cell_type": "code",
   "execution_count": null,
   "metadata": {},
   "outputs": [],
   "source": [
    "b = ('a', 'b', 'c', 'd')\n",
    "b"
   ]
  },
  {
   "cell_type": "markdown",
   "metadata": {},
   "source": [
    "## Sets <a class=\"anchor\" id=\"sets\"></a>\n",
    "\n",
    "Множество/набор - это набор элементов, который является неупорядоченным, неизменяемым и неиндексированным (но мы можем удалять элементы и добавлять новые элементы).\n",
    "\n",
    "В наборах дубликаты недопустимы.\n",
    "\n",
    "Наборы записываются в фигурных скобках."
   ]
  },
  {
   "cell_type": "code",
   "execution_count": null,
   "metadata": {},
   "outputs": [],
   "source": [
    "c = {1, 2, 5}\n",
    "c"
   ]
  },
  {
   "cell_type": "markdown",
   "metadata": {},
   "source": [
    "## Dictionaries <a class=\"anchor\" id=\"dictionaries\"></a>\n",
    "\n",
    "Словарь - это множество элементов, который упорядочен, изменяем и не допускает дублирования.\n",
    "\n",
    "Элементы словаря представлены в парах ключ:значение, и на них можно ссылаться, используя имя ключа.\n",
    "\n",
    "Словарь создаётся в фигурных скобка или с помощью функции `dict(ключ=значение)`"
   ]
  },
  {
   "cell_type": "code",
   "execution_count": null,
   "metadata": {},
   "outputs": [],
   "source": [
    "d = { 'a': 2, 'b': [1, 2, 3], 'c': 'ABC' }\n",
    "d"
   ]
  },
  {
   "cell_type": "code",
   "execution_count": null,
   "metadata": {},
   "outputs": [],
   "source": [
    "d['a']"
   ]
  },
  {
   "cell_type": "code",
   "execution_count": null,
   "metadata": {},
   "outputs": [],
   "source": [
    "d['b']"
   ]
  },
  {
   "cell_type": "code",
   "execution_count": null,
   "metadata": {},
   "outputs": [],
   "source": [
    "d['c']"
   ]
  }
 ],
 "metadata": {
  "kernelspec": {
   "display_name": "Python 3 (ipykernel)",
   "language": "python",
   "name": "python3"
  },
  "language_info": {
   "codemirror_mode": {
    "name": "ipython",
    "version": 3
   },
   "file_extension": ".py",
   "mimetype": "text/x-python",
   "name": "python",
   "nbconvert_exporter": "python",
   "pygments_lexer": "ipython3",
   "version": "3.9.16"
  }
 },
 "nbformat": 4,
 "nbformat_minor": 2
}
