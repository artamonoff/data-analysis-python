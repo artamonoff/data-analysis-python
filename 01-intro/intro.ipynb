{
 "cells": [
  {
   "cell_type": "markdown",
   "id": "fdc2f8d4",
   "metadata": {},
   "source": [
    "# Jupyter Notebook/Lab\n",
    "\n",
    "## Web-resources\n",
    "\n",
    "Official web-sites:\n",
    "* [Python](https://www.python.org/)\n",
    "* [Jupyter](http://jupyter.org/) \n",
    "* [Jupyter Lab](https://jupyterlab.readthedocs.io/en/latest/)\n",
    "* [Visual Studio Code](https://code.visualstudio.com/)\n",
    "* [Anaconda](https://www.anaconda.com/)\n",
    "\n",
    "Online Jupyter Notebooks\n",
    "* [Anaconda Cloud](https://anaconda.cloud)\n",
    "* [Google Colab](https://colab.research.google.com/)\n",
    "* [Jupyter Demo](https://jupyter.org/try-jupyter/retro/notebooks/?path=notebooks/Intro.ipynb)\n",
    "\n",
    "Basic libraries\n",
    "* [NumPy](https://numpy.org): arrays, matrices etc\n",
    "* [Pandas](https://pandas.pydata.org): DataFrames, Time series, Panels, Date Input/Output, Data Manipulations etc\n",
    "* [Statmodels](https://www.statsmodels.org): Regressions, tests etc\n",
    "* [SciPy](https://scipy.org): Mathematics, Statistics (in particular, critical values)\n",
    "* [Seaborn](https://seaborn.pydata.org): Statistical data visualization\n",
    "* [Matplotlib](https://matplotlib.org): Visualization with Python"
   ]
  },
  {
   "cell_type": "markdown",
   "id": "b19bddeb",
   "metadata": {},
   "source": [
    "## Ячейки\n",
    "\n",
    "Jupyter Notebook - это оригинальное веб-приложение для создания вычислительных документов и обмена ими.\n",
    "\n",
    "Jupyter notebook работает как локальный веб-сервис или в программном обеспечении IDE (VS Code, Spyder, PyCharm и т.д.)\n",
    "\n",
    "Записная книжка Jupyter - это документ, состоящий из ячеек\n",
    "- Текст с форматирование [Markdown](https://www.markdownguide.org) (Markup language)\n",
    "- Исполняемый код на Python"
   ]
  },
  {
   "cell_type": "markdown",
   "id": "557c08b0",
   "metadata": {},
   "source": [
    "## Текстовые ячейки (Markdown cells)\n",
    "\n",
    "Tчтобы отобразить ячейку markdown в браузере, нам нужно нажать \"Ctrl/Cmd+Enter\" или нажать кнопку `Run/Выполнить`\n",
    "\n",
    "Ячейки Markdown могут содержать теги разметки и формулы LaTeX в $\\$$. Пример: $\\int_0^1 x^3 dx$"
   ]
  },
  {
   "cell_type": "markdown",
   "id": "b77d17a2",
   "metadata": {},
   "source": [
    "## Ячейки с кодом (Code Cells)\n",
    "\n",
    "Эти ячейки содержат строки с кодами и комментариями\n",
    "\n",
    "Комментарии начинаются с символа #\n",
    "\n",
    "Чтобы запустить строки кода в ячейке, нам нужно нажать \"Ctrl/Cmd+Enter\" или нажать `Run/Выполнить`\n",
    "\n",
    "Результат исполния кода выводится под ячейкой (в т.ч. графики)"
   ]
  },
  {
   "cell_type": "markdown",
   "metadata": {},
   "source": [
    "## Jupyter Lab"
   ]
  },
  {
   "cell_type": "markdown",
   "metadata": {},
   "source": [
    "Это интерфейс для ноутбуков, который позволяет одновременно\n",
    "\n",
    "- открывать, редактировать и запускать ноутбуки\n",
    "- открывать текстовые файлы\n",
    "- открывать файлы с данными\n",
    "- открвать  pdf-файлы"
   ]
  }
 ],
 "metadata": {
  "kernelspec": {
   "display_name": "Python 3 (ipykernel)",
   "language": "python",
   "name": "python3"
  },
  "language_info": {
   "codemirror_mode": {
    "name": "ipython",
    "version": 3
   },
   "file_extension": ".py",
   "mimetype": "text/x-python",
   "name": "python",
   "nbconvert_exporter": "python",
   "pygments_lexer": "ipython3",
   "version": "3.9.16"
  }
 },
 "nbformat": 4,
 "nbformat_minor": 5
}
