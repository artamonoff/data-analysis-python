{
 "cells": [
  {
   "cell_type": "markdown",
   "metadata": {},
   "source": [
    "# Панельная регрессия с Linearmodels. Подгонка регрессии через матрицы дизайна"
   ]
  },
  {
   "cell_type": "code",
   "execution_count": null,
   "metadata": {},
   "outputs": [],
   "source": [
    "import numpy as np\n",
    "import pandas as pd\n",
    "\n",
    "from linearmodels import PooledOLS     # Pool модель\n",
    "from linearmodels import RandomEffects # RE-модель\n",
    "from linearmodels import PanelOLS      # FE-модель\n",
    "\n",
    "from linearmodels.panel import compare # несколько регрессий в одной таблице\n",
    "\n",
    "from statsmodels.api import add_constant # добавление столбца из единиц"
   ]
  },
  {
   "cell_type": "markdown",
   "metadata": {},
   "source": [
    "## Загрузка и подготовка датасета"
   ]
  },
  {
   "cell_type": "code",
   "execution_count": null,
   "metadata": {},
   "outputs": [],
   "source": [
    "df = pd.read_csv('Wages.csv')\n",
    "\n",
    "# зададим панельную структуру через мульти-индекс\n",
    "# id - индивидуальный индекс, time - временной индекс\n",
    "panel_df = df.set_index(['id', 'time'])\n",
    "panel_df"
   ]
  },
  {
   "cell_type": "markdown",
   "metadata": {},
   "source": [
    "## Панельные регрессии\n",
    "Рассмотрим модель `lwage` на `ed, exp, exp**2, south, smsa, ind`  в трёх  вариантах:\n",
    "- Pool\n",
    "- Random effects\n",
    "- Fixed effects\n",
    "\n",
    "Т.к. набор переменных один и тот же, матрицы регрессионного дизайна одни и те же.\n",
    "\n",
    "Для создания матриц дизайна нужно учесть:\n",
    "\n",
    "1. квадрат `exp**2` нужно будет добавить вручную\n",
    "2. переменные `south, smsa` категориальные. их нужно преобразовать в dummy такеж вручную\n",
    "\n",
    "**Замечание** подгоним модели с настройками по умолчанию, т.е. с неробастной оценкой ковариационной матрицы"
   ]
  },
  {
   "cell_type": "code",
   "execution_count": null,
   "metadata": {},
   "outputs": [],
   "source": [
    "# преобразование категориальных в dummy\n",
    "panel_df = pd.get_dummies(data=panel_df, columns=['south','smsa','married', 'sex', 'union', 'black'], dtype=int)\n",
    "panel_df"
   ]
  },
  {
   "cell_type": "code",
   "execution_count": null,
   "metadata": {},
   "outputs": [],
   "source": [
    "#  Матрицы дизайна\n",
    "y = panel_df['lwage']\n",
    "\n",
    "X = add_constant(panel_df[['ed', 'exp', 'south_yes', 'smsa_yes', 'ind']])\n",
    "# добавим квадрат exp**2 после exp (после столбца с индексом 2), т.е. как столбец с индексом loc=3 и именем 'exp**2'\n",
    "X.insert(loc=3, column='exp**2', value=panel_df['exp']**2)\n",
    "X"
   ]
  },
  {
   "cell_type": "markdown",
   "metadata": {},
   "source": [
    "### Pool-модель"
   ]
  },
  {
   "cell_type": "code",
   "execution_count": null,
   "metadata": {},
   "outputs": [],
   "source": [
    "mod_pl = PooledOLS(dependent=y, exog=X)\n",
    "res_pl = mod_pl.fit()\n",
    "\n",
    "res_pl.summary"
   ]
  },
  {
   "cell_type": "markdown",
   "metadata": {},
   "source": [
    "### RE-модель"
   ]
  },
  {
   "cell_type": "code",
   "execution_count": null,
   "metadata": {},
   "outputs": [],
   "source": [
    "mod_re = RandomEffects(dependent=y, exog=X)\n",
    "res_re = mod_re.fit()\n",
    "\n",
    "res_re.summary"
   ]
  },
  {
   "cell_type": "markdown",
   "metadata": {},
   "source": [
    "## FE-модель\n",
    "**Важно**:\n",
    "- указать какие эффекты включаем: `entity_effects` и `time_effects` (по умолчанию оба `False`)\n",
    "- указать `drop_absorbed=True` для контроля постоянных во времени переменных"
   ]
  },
  {
   "cell_type": "code",
   "execution_count": null,
   "metadata": {},
   "outputs": [],
   "source": [
    "mod_fe = PanelOLS(dependent=y, exog=X, entity_effects=True, drop_absorbed=True)\n",
    "res_fe = mod_fe.fit()\n",
    "\n",
    "res_fe.summary"
   ]
  },
  {
   "cell_type": "markdown",
   "metadata": {},
   "source": [
    "### Три модели в одной таблице\n",
    "Модели оформляем в виде словаря"
   ]
  },
  {
   "cell_type": "code",
   "execution_count": null,
   "metadata": {},
   "outputs": [],
   "source": [
    "compare(results={'Pool':res_pl, 'RE':res_re, 'FE':res_fe}, precision='std-errors', stars=True)"
   ]
  }
 ],
 "metadata": {
  "kernelspec": {
   "display_name": "base",
   "language": "python",
   "name": "python3"
  },
  "language_info": {
   "codemirror_mode": {
    "name": "ipython",
    "version": 3
   },
   "file_extension": ".py",
   "mimetype": "text/x-python",
   "name": "python",
   "nbconvert_exporter": "python",
   "pygments_lexer": "ipython3",
   "version": "3.11.6"
  }
 },
 "nbformat": 4,
 "nbformat_minor": 2
}
