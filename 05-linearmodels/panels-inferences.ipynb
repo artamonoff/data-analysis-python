{
 "cells": [
  {
   "cell_type": "markdown",
   "metadata": {},
   "source": [
    "# Панельная регрессия с Linearmodels. Тестирование гипотез"
   ]
  },
  {
   "cell_type": "code",
   "execution_count": null,
   "metadata": {},
   "outputs": [],
   "source": [
    "import numpy as np\n",
    "import pandas as pd\n",
    "\n",
    "from linearmodels import PooledOLS     # Pool модель\n",
    "from linearmodels import RandomEffects # RE-модель\n",
    "from linearmodels import PanelOLS      # FE-модель\n",
    "\n",
    "from linearmodels.panel import compare # несколько регрессий в одной таблице"
   ]
  },
  {
   "cell_type": "markdown",
   "metadata": {},
   "source": [
    "## Загрузка и подготовка датасета"
   ]
  },
  {
   "cell_type": "code",
   "execution_count": null,
   "metadata": {},
   "outputs": [],
   "source": [
    "df = pd.read_csv('Guns.csv')\n",
    "df"
   ]
  },
  {
   "cell_type": "code",
   "execution_count": null,
   "metadata": {},
   "outputs": [],
   "source": [
    "# зададим панельную структуру через мульти-индекс\n",
    "# state - индивидуальный индекс, year - временной индекс\n",
    "panel_df = df.set_index(['state', 'year'])\n",
    "panel_df"
   ]
  },
  {
   "cell_type": "markdown",
   "metadata": {},
   "source": [
    "## Панельные регрессии\n",
    "Рассмотрим модель `log(violent)` на `law, log(income), log(population), log(prisoners), log(robbery), log(murder), male, density`  в трёх  вариантах:\n",
    "- Pool\n",
    "- Random effects\n",
    "- Fixed effects\n",
    "\n",
    "Т.к. формула спецификации одна и та же, то зададим её в виде строковой переменной (не забываем указать 1 в начале)\n",
    "\n",
    "Модели подгоним с разными оценками ковариационной матрицы для коэффициентов и сравним результаты"
   ]
  },
  {
   "cell_type": "code",
   "execution_count": null,
   "metadata": {},
   "outputs": [],
   "source": [
    "spec = 'np.log(violent)~1+law+np.log(income)+np.log(population)+np.log(prisoners)+np.log(robbery)+np.log(murder)+male+density'"
   ]
  },
  {
   "cell_type": "code",
   "execution_count": null,
   "metadata": {},
   "outputs": [],
   "source": [
    "mod_pl = PooledOLS.from_formula(formula=spec, data=panel_df)\n",
    "\n",
    "mod_re = RandomEffects.from_formula(formula=spec, data=panel_df)\n",
    "\n",
    "mod_fe =PanelOLS.from_formula(formula=spec, data=panel_df, drop_absorbed=True)\n",
    "\n",
    "# подгонка Pool с разными оценками ковариационной матрицы: OLS, Arellano-Bond, Driscoll-Kraay\n",
    "res_pl_ols = mod_pl.fit()\n",
    "res_pl_AB = mod_pl.fit(cov_type='clustered', cluster_entity=True)\n",
    "res_pl_DK = mod_pl.fit(cov_type='kernel')\n",
    "\n",
    "# подгонка RE с разными оценками ковариационной матрицы: OLS, Arellano-Bond, Driscoll-Kraay\n",
    "res_re_ols = mod_re.fit()\n",
    "res_re_AB = mod_re.fit(cov_type='clustered', cluster_entity=True)\n",
    "res_re_DK = mod_re.fit(cov_type='kernel')\n",
    "\n",
    "# подгонка RE с разными оценками ковариационной матрицы: OLS, Arellano-Bond, Driscoll-Kraay\n",
    "res_fe_ols = mod_fe.fit()\n",
    "res_fe_AB = mod_fe.fit(cov_type='clustered', cluster_entity=True)\n",
    "res_fe_DK = mod_fe.fit(cov_type='kernel')"
   ]
  },
  {
   "cell_type": "code",
   "execution_count": null,
   "metadata": {},
   "outputs": [],
   "source": [
    "# PL, RE, FE-модели с оценкой ковариационной матрицы по умолчанию\n",
    "res_dict = {'PL': res_pl_ols, 'RE':res_re_ols, 'FE':res_fe_ols}\n",
    "\n",
    "compare(results=res_dict, precision='std-errors', stars=True)"
   ]
  },
  {
   "cell_type": "code",
   "execution_count": null,
   "metadata": {},
   "outputs": [],
   "source": [
    "\n",
    "# RE & FE - модели с разными оценками ковариационной матрицы\n",
    "res_dict = {'RE(OLS)': res_re_ols, 'RE(AB)':res_re_AB, 'RE(DK)':res_re_DK, 'FE(OLS)': res_fe_ols, 'FE(AB)':res_fe_AB, 'FE(DK)':res_fe_DK}\n",
    "\n",
    "compare(results=res_dict, precision='std-errors', stars=True)"
   ]
  }
 ],
 "metadata": {
  "kernelspec": {
   "display_name": "base",
   "language": "python",
   "name": "python3"
  },
  "language_info": {
   "codemirror_mode": {
    "name": "ipython",
    "version": 3
   },
   "file_extension": ".py",
   "mimetype": "text/x-python",
   "name": "python",
   "nbconvert_exporter": "python",
   "pygments_lexer": "ipython3",
   "version": "3.11.6"
  }
 },
 "nbformat": 4,
 "nbformat_minor": 2
}
