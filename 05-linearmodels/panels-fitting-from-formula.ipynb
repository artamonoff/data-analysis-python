{
 "cells": [
  {
   "cell_type": "markdown",
   "metadata": {},
   "source": [
    "# Панельная регрессия с Linearmodels. Подгонка регрессии через формулу"
   ]
  },
  {
   "cell_type": "code",
   "execution_count": null,
   "metadata": {},
   "outputs": [],
   "source": [
    "import numpy as np\n",
    "import pandas as pd\n",
    "\n",
    "from linearmodels import PooledOLS     # Pool модель\n",
    "from linearmodels import RandomEffects # RE-модель\n",
    "from linearmodels import PanelOLS      # FE-модель\n",
    "\n",
    "from linearmodels.panel import compare # несколько регрессий в одной таблице"
   ]
  },
  {
   "cell_type": "markdown",
   "metadata": {},
   "source": [
    "## Загрузка и подготовка датасета"
   ]
  },
  {
   "cell_type": "code",
   "execution_count": null,
   "metadata": {},
   "outputs": [],
   "source": [
    "df = pd.read_csv('Wages.csv')\n",
    "df"
   ]
  },
  {
   "cell_type": "code",
   "execution_count": null,
   "metadata": {},
   "outputs": [],
   "source": [
    "# зададим панельную структуру через мульти-индекс\n",
    "# id - индивидуальный индекс, time - временной индекс\n",
    "panel_df = df.set_index(['id', 'time'])\n",
    "panel_df"
   ]
  },
  {
   "cell_type": "markdown",
   "metadata": {},
   "source": [
    "## Панельные регрессии\n",
    "Рассмотрим модель `lwage` на `ed, exp, exp**2, south, smsa, ind`  в трёх  вариантах:\n",
    "- Pool\n",
    "- Random effects\n",
    "- Fixed effects\n",
    "\n",
    "Т.к. формула спецификации одна и та же, то зададим её в виде строковой переменной (не забываем указать 1 в начале)\n",
    "\n",
    "\n",
    "**Замечание** подгоним модели с настройками по умолчанию, т.е. с неробастной оценкой ковариационной матрицы"
   ]
  },
  {
   "cell_type": "code",
   "execution_count": null,
   "metadata": {},
   "outputs": [],
   "source": [
    "spec = 'lwage~1+ed+exp+I(exp**2)+south+smsa+ind'"
   ]
  },
  {
   "cell_type": "markdown",
   "metadata": {},
   "source": [
    "### Pool-модель"
   ]
  },
  {
   "cell_type": "code",
   "execution_count": null,
   "metadata": {},
   "outputs": [],
   "source": [
    "mod_pl = PooledOLS.from_formula(formula=spec, data=panel_df)\n",
    "res_pl = mod_pl.fit()\n",
    "\n",
    "res_pl.summary"
   ]
  },
  {
   "cell_type": "markdown",
   "metadata": {},
   "source": [
    "### RE-модель"
   ]
  },
  {
   "cell_type": "code",
   "execution_count": null,
   "metadata": {},
   "outputs": [],
   "source": [
    "mod_re = RandomEffects.from_formula(formula=spec, data=panel_df)\n",
    "res_re = mod_re.fit()\n",
    "\n",
    "res_re.summary"
   ]
  },
  {
   "cell_type": "markdown",
   "metadata": {},
   "source": [
    "### FE-модель\n",
    "**Важно**:\n",
    "- добавить к спецификации `+EntityEffects` и/или `+TimeEffects`\n",
    "- указать `drop_absorbed=True` для контроля постоянных во времени переменных"
   ]
  },
  {
   "cell_type": "code",
   "execution_count": null,
   "metadata": {},
   "outputs": [],
   "source": [
    "mod_fe = PanelOLS.from_formula(formula=spec+'+EntityEffects', data=panel_df, drop_absorbed=True)\n",
    "res_fe = mod_fe.fit()\n",
    "\n",
    "res_fe.summary"
   ]
  },
  {
   "cell_type": "markdown",
   "metadata": {},
   "source": [
    "### Три модели в одной таблице\n",
    "Модели оформляем в виде словаря"
   ]
  },
  {
   "cell_type": "code",
   "execution_count": null,
   "metadata": {},
   "outputs": [],
   "source": [
    "compare(results={'Pool':res_pl, 'RE':res_re, 'FE':res_fe}, precision='std-errors', stars=True)"
   ]
  },
  {
   "cell_type": "markdown",
   "metadata": {},
   "source": [
    "Сохраним талицу в файле"
   ]
  },
  {
   "cell_type": "code",
   "execution_count": null,
   "metadata": {},
   "outputs": [],
   "source": [
    "panel_output = compare(results={'Pool':res_pl, 'RE':res_re, 'FE':res_fe}, precision='std-errors', stars=True)\n",
    "\n",
    "with open('panel_output.txt', 'w') as f:\n",
    "\tf.write(panel_output.summary.as_text())"
   ]
  }
 ],
 "metadata": {
  "kernelspec": {
   "display_name": "Python 3 (ipykernel)",
   "language": "python",
   "name": "python3"
  },
  "language_info": {
   "codemirror_mode": {
    "name": "ipython",
    "version": 3
   },
   "file_extension": ".py",
   "mimetype": "text/x-python",
   "name": "python",
   "nbconvert_exporter": "python",
   "pygments_lexer": "ipython3",
   "version": "3.11.5"
  }
 },
 "nbformat": 4,
 "nbformat_minor": 4
}
